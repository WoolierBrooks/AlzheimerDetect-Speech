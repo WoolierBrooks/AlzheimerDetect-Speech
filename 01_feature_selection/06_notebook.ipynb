{
 "cells": [
  {
   "cell_type": "code",
   "execution_count": 1,
   "metadata": {},
   "outputs": [],
   "source": [
    "import pandas as pd\n",
    "import numpy as np"
   ]
  },
  {
   "cell_type": "code",
   "execution_count": 2,
   "metadata": {},
   "outputs": [
    {
     "name": "stdout",
     "output_type": "stream",
     "text": [
      "[[ 26.2     0.256  23.5   ...   0.251   0.467 -29.5  ]\n",
      " [ 35.      0.222  32.1   ...   1.41    1.8   -43.9  ]\n",
      " [ 33.4     0.168  30.8   ...   0.291   0.738 -25.3  ]\n",
      " ...\n",
      " [ 32.      0.249  28.6   ...   0.236   0.464 -24.   ]\n",
      " [ 25.5     0.37   14.4   ...   0.109   0.118 -25.9  ]\n",
      " [ 29.7     0.318  19.9   ...   0.177   0.27  -22.   ]] (108, 88)\n",
      "[0 0 0 0 0 0 0 0 0 0 0 0 0 0 0 0 0 0 0 0 0 0 0 0 0 0 0 0 0 0 0 0 0 0 0 0 0\n",
      " 0 0 0 0 0 0 0 0 0 0 0 0 0 0 0 0 0 1 1 1 1 1 1 1 1 1 1 1 1 1 1 1 1 1 1 1 1\n",
      " 1 1 1 1 1 1 1 1 1 1 1 1 1 1 1 1 1 1 1 1 1 1 1 1 1 1 1 1 1 1 1 1 1 1] (108,)\n"
     ]
    }
   ],
   "source": [
    "dataset = pd.read_csv(\"adress_20_db_egemaps_train.csv\")\n",
    "X_train = dataset.iloc[:, :-1].values\n",
    "y_train = dataset.iloc[:, -1].values\n",
    "print(X_train, X_train.shape)\n",
    "print(y_train, y_train.shape)"
   ]
  },
  {
   "cell_type": "code",
   "execution_count": 3,
   "metadata": {},
   "outputs": [
    {
     "name": "stdout",
     "output_type": "stream",
     "text": [
      "[[ 3.14e+01  1.54e-01  3.02e+01 ...  3.02e-01  5.47e-01 -2.30e+01]\n",
      " [ 3.00e+01  1.18e-01  2.85e+01 ...  7.25e-01  1.36e+00 -5.75e+01]\n",
      " [ 1.96e+01  4.03e-01  1.38e+01 ...  5.59e-02  4.70e-02 -2.53e+01]\n",
      " ...\n",
      " [ 2.74e+01  3.42e-01  1.99e+01 ...  3.98e-01  7.33e-01 -2.94e+01]\n",
      " [ 2.82e+01  2.16e-01  2.51e+01 ...  3.76e-01  6.97e-01 -2.52e+01]\n",
      " [ 3.63e+01  2.00e-01  3.23e+01 ...  2.78e-01  4.74e-01 -4.00e+01]] (48, 88)\n",
      "[0. 0. 1. 0. 1. 1. 0. 1. 1. 1. 0. 1. 0. 1. 0. 0. 1. 0. 0. 1. 0. 1. 1. 0.\n",
      " 0. 1. 0. 1. 1. 1. 1. 1. 1. 0. 1. 0. 0. 0. 1. 0. 1. 0. 0. 1. 0. 1. 0. 0.] (48,)\n"
     ]
    }
   ],
   "source": [
    "dataset = pd.read_csv(\"adress_20_db_egemaps_test.csv\")\n",
    "X_test = dataset.iloc[:, :-1].values\n",
    "y_test = dataset.iloc[:, -1].values\n",
    "print(X_test, X_test.shape)\n",
    "print(y_test, y_test.shape)"
   ]
  },
  {
   "cell_type": "code",
   "execution_count": null,
   "metadata": {},
   "outputs": [
    {
     "name": "stdout",
     "output_type": "stream",
     "text": [
      "[[ 26.2     0.256  23.5   ...   0.251   0.467 -29.5  ]\n",
      " [ 35.      0.222  32.1   ...   1.41    1.8   -43.9  ]\n",
      " [ 33.4     0.168  30.8   ...   0.291   0.738 -25.3  ]\n",
      " ...\n",
      " [ 32.      0.249  28.6   ...   0.236   0.464 -24.   ]\n",
      " [ 25.5     0.37   14.4   ...   0.109   0.118 -25.9  ]\n",
      " [ 29.7     0.318  19.9   ...   0.177   0.27  -22.   ]] (108, 88)\n"
     ]
    }
   ],
   "source": [
    "from sklearn.impute import SimpleImputer\n",
    "\n",
    "imputer = SimpleImputer(missing_values=np.nan, strategy=\"mean\")\n",
    "imputer.fit(X_train)\n",
    "X_train = imputer.transform(X_train)\n",
    "print(X_train, X_train.shape)"
   ]
  },
  {
   "cell_type": "code",
   "execution_count": null,
   "metadata": {},
   "outputs": [
    {
     "name": "stdout",
     "output_type": "stream",
     "text": [
      "[[ 3.14e+01  1.54e-01  3.02e+01 ...  3.02e-01  5.47e-01 -2.30e+01]\n",
      " [ 3.00e+01  1.18e-01  2.85e+01 ...  7.25e-01  1.36e+00 -5.75e+01]\n",
      " [ 1.96e+01  4.03e-01  1.38e+01 ...  5.59e-02  4.70e-02 -2.53e+01]\n",
      " ...\n",
      " [ 2.74e+01  3.42e-01  1.99e+01 ...  3.98e-01  7.33e-01 -2.94e+01]\n",
      " [ 2.82e+01  2.16e-01  2.51e+01 ...  3.76e-01  6.97e-01 -2.52e+01]\n",
      " [ 3.63e+01  2.00e-01  3.23e+01 ...  2.78e-01  4.74e-01 -4.00e+01]] (48, 88)\n"
     ]
    }
   ],
   "source": [
    "imputer = SimpleImputer(missing_values=np.nan, strategy=\"mean\")\n",
    "imputer.fit(X_test)\n",
    "X_test = imputer.transform(X_test)\n",
    "print(X_test, X_test.shape)"
   ]
  },
  {
   "cell_type": "code",
   "execution_count": 6,
   "metadata": {},
   "outputs": [
    {
     "name": "stdout",
     "output_type": "stream",
     "text": [
      "[[-0.96499933  0.01608995 -0.25713585 ... -0.3075857  -0.42889569\n",
      "   0.35704303]\n",
      " [ 1.31133564 -0.46621446  1.49380095 ...  0.79774868  0.75653521\n",
      "  -0.98484514]\n",
      " [ 0.89745656 -1.23222735  1.22912445 ... -0.26943784 -0.18789661\n",
      "   0.74842709]\n",
      " ...\n",
      " [ 0.53531236 -0.08320802  0.78121039 ... -0.32189115 -0.43156358\n",
      "   0.86956977]\n",
      " [-1.14607143  1.63322826 -2.1098713  ... -0.44301062 -0.73925982\n",
      "   0.69251508]\n",
      " [-0.05963883  0.89558623 -0.99008614 ... -0.37815925 -0.6040869\n",
      "   1.05594313]] (108, 88)\n",
      "[[ 0.3801077  -1.43082328  1.10696607 ... -0.25894718 -0.35775205\n",
      "   0.96275645]\n",
      " [ 0.0179635  -1.94149854  0.76085066 ...  0.14446649  0.36524519\n",
      "  -2.25218398]\n",
      " [-2.67225055  2.10134725 -2.23202968 ... -0.49365191 -0.8023998\n",
      "   0.74842709]\n",
      " ...\n",
      " [-0.65459001  1.2360364  -0.99008614 ... -0.1673923  -0.19234309\n",
      "   0.3663617 ]\n",
      " [-0.44765047 -0.551327    0.06861983 ... -0.18837363 -0.22435773\n",
      "   0.75774575]\n",
      " [ 1.6476124  -0.77829379  1.53452041 ... -0.28183589 -0.42267062\n",
      "  -0.62141709]] (48, 88)\n"
     ]
    }
   ],
   "source": [
    "from sklearn.preprocessing import StandardScaler\n",
    "\n",
    "sc = StandardScaler()\n",
    "X_train = sc.fit_transform(X_train)\n",
    "X_test = sc.transform(X_test)\n",
    "print(X_train, X_train.shape)\n",
    "print(X_test, X_test.shape)"
   ]
  },
  {
   "cell_type": "code",
   "execution_count": null,
   "metadata": {},
   "outputs": [
    {
     "name": "stdout",
     "output_type": "stream",
     "text": [
      "(108, 88)\n",
      "(48, 88)\n",
      "(108, 26)\n",
      "(48, 26)\n"
     ]
    }
   ],
   "source": [
    "from sklearn.feature_selection import SelectKBest\n",
    "from sklearn.feature_selection import f_classif\n",
    "\n",
    "print(X_train.shape)\n",
    "print(X_test.shape)\n",
    "\n",
    "selector = SelectKBest(f_classif, k=26)\n",
    "X_train_new = selector.fit_transform(X_train, y_train)\n",
    "\n",
    "X_test_new = selector.transform(X_test)\n",
    "\n",
    "print(X_train_new.shape)\n",
    "print(X_test_new.shape)"
   ]
  },
  {
   "cell_type": "code",
   "execution_count": null,
   "metadata": {},
   "outputs": [
    {
     "name": "stdout",
     "output_type": "stream",
     "text": [
      "(108, 88)\n",
      "(48, 88)\n",
      "(108, 26)\n",
      "(48, 26)\n"
     ]
    }
   ],
   "source": [
    "from sklearn.feature_selection import RFE\n",
    "from sklearn.svm import SVC\n",
    "\n",
    "print(X_train.shape)\n",
    "print(X_test.shape)\n",
    "\n",
    "estimator = SVC(kernel=\"linear\")\n",
    "\n",
    "rfe = RFE(estimator, n_features_to_select=26, step=1)\n",
    "rfe.fit(X_train, y_train)\n",
    "\n",
    "X_train_new = rfe.transform(X_train)\n",
    "X_test_new = rfe.transform(X_test)\n",
    "\n",
    "print(X_train_new.shape)\n",
    "print(X_test_new.shape)"
   ]
  },
  {
   "cell_type": "code",
   "execution_count": null,
   "metadata": {},
   "outputs": [
    {
     "name": "stdout",
     "output_type": "stream",
     "text": [
      "(108, 88)\n",
      "(48, 88)\n",
      "(108, 26)\n",
      "(48, 26)\n"
     ]
    }
   ],
   "source": [
    "from sklearn.feature_selection import SelectFromModel\n",
    "from sklearn.svm import SVC\n",
    "\n",
    "print(X_train.shape)\n",
    "print(X_test.shape)\n",
    "\n",
    "model = SVC(kernel=\"linear\")\n",
    "\n",
    "selector = SelectFromModel(estimator=model, max_features=26)\n",
    "selector.fit(X_train, y_train)\n",
    "\n",
    "X_train_new = selector.transform(X_train)\n",
    "X_test_new = selector.transform(X_test)\n",
    "\n",
    "print(X_train_new.shape)\n",
    "print(X_test_new.shape)"
   ]
  },
  {
   "cell_type": "code",
   "execution_count": null,
   "metadata": {},
   "outputs": [
    {
     "name": "stdout",
     "output_type": "stream",
     "text": [
      "(108, 88)\n",
      "(48, 88)\n",
      "(108, 26)\n",
      "(48, 26)\n"
     ]
    }
   ],
   "source": [
    "from sklearn.feature_selection import SequentialFeatureSelector\n",
    "from sklearn.svm import SVC\n",
    "\n",
    "print(X_train.shape)\n",
    "print(X_test.shape)\n",
    "\n",
    "model = SVC(kernel=\"linear\")\n",
    "\n",
    "sfs = SequentialFeatureSelector(model, n_features_to_select=26, direction='forward')\n",
    "\n",
    "sfs.fit(X_train, y_train)\n",
    "\n",
    "X_train_new = sfs.transform(X_train)\n",
    "X_test_new = sfs.transform(X_test)\n",
    "\n",
    "print(X_train_new.shape)\n",
    "print(X_test_new.shape)                                                                                  "
   ]
  },
  {
   "cell_type": "code",
   "execution_count": null,
   "metadata": {},
   "outputs": [
    {
     "name": "stdout",
     "output_type": "stream",
     "text": [
      "Acurácia do modelo: 58.33%\n"
     ]
    }
   ],
   "source": [
    "from sklearn.discriminant_analysis import LinearDiscriminantAnalysis\n",
    "from sklearn.metrics import accuracy_score\n",
    "\n",
    "lda = LinearDiscriminantAnalysis()\n",
    "\n",
    "lda.fit(X_train_new, y_train)\n",
    "\n",
    "y_pred = lda.predict(X_test_new)\n",
    "\n",
    "accuracy = accuracy_score(y_test, y_pred)\n",
    "print(f\"Acurácia do modelo: {accuracy * 100:.2f}%\")"
   ]
  },
  {
   "cell_type": "code",
   "execution_count": null,
   "metadata": {},
   "outputs": [
    {
     "name": "stdout",
     "output_type": "stream",
     "text": [
      "Acurácia média do modelo: 58.33%\n"
     ]
    }
   ],
   "source": [
    "from sklearn.discriminant_analysis import LinearDiscriminantAnalysis\n",
    "from sklearn.model_selection import cross_val_score\n",
    "\n",
    "lda = LinearDiscriminantAnalysis()\n",
    "\n",
    "scores = cross_val_score(lda, X_train_new, y_train, cv=2)\n",
    "\n",
    "mean_accuracy = scores.mean()\n",
    "\n",
    "print(f\"Acurácia média do modelo: {mean_accuracy * 100:.2f}%\")"
   ]
  },
  {
   "cell_type": "code",
   "execution_count": null,
   "metadata": {},
   "outputs": [
    {
     "name": "stdout",
     "output_type": "stream",
     "text": [
      "Acurácia do modelo: 62.50%\n"
     ]
    }
   ],
   "source": [
    "from sklearn.tree import DecisionTreeClassifier\n",
    "from sklearn.metrics import accuracy_score\n",
    "\n",
    "clf = DecisionTreeClassifier(random_state=42)\n",
    "\n",
    "clf.fit(X_train_new, y_train)\n",
    "\n",
    "y_pred = clf.predict(X_test_new)\n",
    "\n",
    "accuracy = accuracy_score(y_test, y_pred)\n",
    "print(f'Acurácia do modelo: {accuracy * 100:.2f}%')"
   ]
  },
  {
   "cell_type": "code",
   "execution_count": null,
   "metadata": {},
   "outputs": [
    {
     "name": "stdout",
     "output_type": "stream",
     "text": [
      "Acurácia média do modelo: 52.78%\n"
     ]
    }
   ],
   "source": [
    "from sklearn.tree import DecisionTreeClassifier\n",
    "from sklearn.model_selection import cross_val_score\n",
    "\n",
    "clf = DecisionTreeClassifier(random_state=42)\n",
    "\n",
    "scores = cross_val_score(clf, X_train_new, y_train, cv=2)\n",
    "\n",
    "mean_accuracy = scores.mean()\n",
    "\n",
    "print(f'Acurácia média do modelo: {mean_accuracy * 100:.2f}%')"
   ]
  },
  {
   "cell_type": "code",
   "execution_count": null,
   "metadata": {},
   "outputs": [
    {
     "name": "stdout",
     "output_type": "stream",
     "text": [
      "Acurácia do modelo: 60.42%\n"
     ]
    },
    {
     "name": "stderr",
     "output_type": "stream",
     "text": [
      "C:\\Users\\Lenovo\\AppData\\Local\\Packages\\PythonSoftwareFoundation.Python.3.10_qbz5n2kfra8p0\\LocalCache\\local-packages\\Python310\\site-packages\\sklearn\\neural_network\\_multilayer_perceptron.py:691: ConvergenceWarning: Stochastic Optimizer: Maximum iterations (1000) reached and the optimization hasn't converged yet.\n",
      "  warnings.warn(\n"
     ]
    }
   ],
   "source": [
    "from sklearn.neural_network import MLPClassifier\n",
    "from sklearn.metrics import accuracy_score\n",
    "\n",
    "classifier = MLPClassifier(hidden_layer_sizes=(10,), max_iter=1000, random_state=42)\n",
    "\n",
    "classifier.fit(X_train_new, y_train)\n",
    "\n",
    "predictions = classifier.predict(X_test_new)\n",
    "\n",
    "accuracy = accuracy_score(y_test, predictions)\n",
    "print(f'Acurácia do modelo: {accuracy * 100:.2f}%')"
   ]
  },
  {
   "cell_type": "code",
   "execution_count": null,
   "metadata": {},
   "outputs": [
    {
     "name": "stderr",
     "output_type": "stream",
     "text": [
      "C:\\Users\\Lenovo\\AppData\\Local\\Packages\\PythonSoftwareFoundation.Python.3.10_qbz5n2kfra8p0\\LocalCache\\local-packages\\Python310\\site-packages\\sklearn\\neural_network\\_multilayer_perceptron.py:691: ConvergenceWarning: Stochastic Optimizer: Maximum iterations (1000) reached and the optimization hasn't converged yet.\n",
      "  warnings.warn(\n"
     ]
    },
    {
     "name": "stdout",
     "output_type": "stream",
     "text": [
      "Acurácia média do modelo: 58.33%\n"
     ]
    },
    {
     "name": "stderr",
     "output_type": "stream",
     "text": [
      "C:\\Users\\Lenovo\\AppData\\Local\\Packages\\PythonSoftwareFoundation.Python.3.10_qbz5n2kfra8p0\\LocalCache\\local-packages\\Python310\\site-packages\\sklearn\\neural_network\\_multilayer_perceptron.py:691: ConvergenceWarning: Stochastic Optimizer: Maximum iterations (1000) reached and the optimization hasn't converged yet.\n",
      "  warnings.warn(\n"
     ]
    }
   ],
   "source": [
    "from sklearn.neural_network import MLPClassifier\n",
    "from sklearn.model_selection import cross_val_score\n",
    "\n",
    "classifier = MLPClassifier(hidden_layer_sizes=(10,), max_iter=1000, random_state=42)\n",
    "\n",
    "cv_scores = cross_val_score(classifier, X_train_new, y_train, cv=2)\n",
    "\n",
    "mean_accuracy = cv_scores.mean()\n",
    "print(f'Acurácia média do modelo: {mean_accuracy * 100:.2f}%')"
   ]
  },
  {
   "cell_type": "code",
   "execution_count": null,
   "metadata": {},
   "outputs": [
    {
     "name": "stdout",
     "output_type": "stream",
     "text": [
      "Acurácia do modelo: 56.25%\n"
     ]
    }
   ],
   "source": [
    "from sklearn.svm import SVC\n",
    "from sklearn.metrics import accuracy_score\n",
    "\n",
    "classificador_svm = SVC(kernel='linear')\n",
    "\n",
    "classificador_svm.fit(X_train_new, y_train)\n",
    "\n",
    "predictions = classificador_svm.predict(X_test_new)\n",
    "\n",
    "accuracy = accuracy_score(y_test, predictions)\n",
    "print(f'Acurácia do modelo: {accuracy * 100:.2f}%')"
   ]
  },
  {
   "cell_type": "code",
   "execution_count": null,
   "metadata": {},
   "outputs": [
    {
     "name": "stdout",
     "output_type": "stream",
     "text": [
      "Acurácia média do modelo com validação cruzada: 56.48%\n"
     ]
    }
   ],
   "source": [
    "from sklearn.svm import SVC\n",
    "from sklearn.model_selection import cross_val_score\n",
    "\n",
    "classificador_svm = SVC(kernel='linear')\n",
    "\n",
    "scores = cross_val_score(classificador_svm, X_train_new, y_train, cv=2) \n",
    "\n",
    "mean_accuracy = scores.mean()\n",
    "print(f'Acurácia média do modelo com validação cruzada: {mean_accuracy * 100:.2f}%')"
   ]
  },
  {
   "cell_type": "code",
   "execution_count": null,
   "metadata": {},
   "outputs": [
    {
     "name": "stdout",
     "output_type": "stream",
     "text": [
      "Acurácia do modelo: 68.75%\n"
     ]
    }
   ],
   "source": [
    "from sklearn.ensemble import RandomForestClassifier\n",
    "from sklearn.metrics import accuracy_score\n",
    "\n",
    "classificador_rf = RandomForestClassifier(n_estimators=100, random_state=42)\n",
    "\n",
    "classificador_rf.fit(X_train_new, y_train)\n",
    "\n",
    "predictions = classificador_rf.predict(X_test_new)\n",
    "\n",
    "accuracy = accuracy_score(y_test, predictions)\n",
    "print(f'Acurácia do modelo: {accuracy * 100:.2f}%')"
   ]
  },
  {
   "cell_type": "code",
   "execution_count": null,
   "metadata": {},
   "outputs": [
    {
     "name": "stdout",
     "output_type": "stream",
     "text": [
      "Acurácia média da validação cruzada: 59.26%\n"
     ]
    }
   ],
   "source": [
    "from sklearn.ensemble import RandomForestClassifier\n",
    "from sklearn.model_selection import cross_val_score\n",
    "\n",
    "classificador_rf = RandomForestClassifier(n_estimators=100, random_state=42)\n",
    "\n",
    "scores = cross_val_score(classificador_rf, X_train_new, y_train, cv=2)\n",
    "\n",
    "print(f'Acurácia média da validação cruzada: {scores.mean() * 100:.2f}%')"
   ]
  }
 ],
 "metadata": {
  "kernelspec": {
   "display_name": "Python 3",
   "language": "python",
   "name": "python3"
  },
  "language_info": {
   "codemirror_mode": {
    "name": "ipython",
    "version": 3
   },
   "file_extension": ".py",
   "mimetype": "text/x-python",
   "name": "python",
   "nbconvert_exporter": "python",
   "pygments_lexer": "ipython3",
   "version": "3.10.11"
  },
  "orig_nbformat": 4
 },
 "nbformat": 4,
 "nbformat_minor": 2
}
