{
 "cells": [
  {
   "cell_type": "code",
   "execution_count": 14,
   "metadata": {},
   "outputs": [],
   "source": [
    "import numpy as np\n",
    "import pandas as pd\n",
    "import tensorflow as tf\n",
    "import matplotlib.pyplot as plt\n",
    "from sklearn.metrics import accuracy_score\n",
    "from sktime.transformations.series.fourier import FourierTransform\n",
    "from tslearn.shapelets import LearningShapelets, grabocka_params_to_shapelet_size_dict\n",
    "from tslearn.utils import ts_size"
   ]
  },
  {
   "cell_type": "code",
   "execution_count": 15,
   "metadata": {},
   "outputs": [
    {
     "name": "stdout",
     "output_type": "stream",
     "text": [
      "<class 'numpy.ndarray'>\n"
     ]
    }
   ],
   "source": [
    "dataset = pd.read_csv(\"dataframe.csv\")\n",
    "X = dataset.iloc[:, :-1].values\n",
    "y = dataset.iloc[:, -1].values\n",
    "print(type(X))"
   ]
  },
  {
   "cell_type": "code",
   "execution_count": 16,
   "metadata": {},
   "outputs": [
    {
     "name": "stdout",
     "output_type": "stream",
     "text": [
      "[[-3.0517578e-05 -3.0517578e-05 -3.0517578e-05 ...  0.0000000e+00\n",
      "   0.0000000e+00  0.0000000e+00]\n",
      " [ 3.0517578e-05 -6.1035156e-05  9.1552734e-05 ...  0.0000000e+00\n",
      "   0.0000000e+00  0.0000000e+00]\n",
      " [-3.0517578e-05  0.0000000e+00  0.0000000e+00 ...  0.0000000e+00\n",
      "   0.0000000e+00  0.0000000e+00]\n",
      " ...\n",
      " [-3.0517578e-05  9.1552734e-05  0.0000000e+00 ...  0.0000000e+00\n",
      "   0.0000000e+00  0.0000000e+00]\n",
      " [ 9.1552734e-05  6.1035156e-05 -6.1035156e-05 ...  0.0000000e+00\n",
      "   0.0000000e+00  0.0000000e+00]\n",
      " [-1.5258789e-04  0.0000000e+00 -9.1552734e-05 ...  0.0000000e+00\n",
      "   0.0000000e+00  0.0000000e+00]]\n",
      "(549, 4296)\n",
      "<class 'numpy.ndarray'>\n"
     ]
    }
   ],
   "source": [
    "# Completar dados faltantes\n",
    "from sklearn.impute import SimpleImputer\n",
    "imputer = SimpleImputer(missing_values=np.nan, strategy=\"mean\")\n",
    "imputer.fit(X)\n",
    "X = imputer.transform(X)\n",
    "print(X)\n",
    "print(X.shape)\n",
    "print(type(X))"
   ]
  },
  {
   "cell_type": "code",
   "execution_count": 17,
   "metadata": {},
   "outputs": [
    {
     "name": "stdout",
     "output_type": "stream",
     "text": [
      "[[ 0.00092503 -0.02064099 -0.04592863 ...  0.          0.\n",
      "   0.        ]\n",
      " [ 0.09325963 -0.06596861  0.31818426 ...  0.          0.\n",
      "   0.        ]\n",
      " [ 0.00092503  0.02468663  0.04509959 ...  0.          0.\n",
      "   0.        ]\n",
      " ...\n",
      " [ 0.00092503  0.16066949  0.04509959 ...  0.          0.\n",
      "   0.        ]\n",
      " [ 0.18559424  0.11534187 -0.13695685 ...  0.          0.\n",
      "   0.        ]\n",
      " [-0.18374418  0.02468663 -0.22798507 ...  0.          0.\n",
      "   0.        ]]\n",
      "(549, 4296)\n",
      "<class 'numpy.ndarray'>\n"
     ]
    }
   ],
   "source": [
    "# Escalonar características\n",
    "from sklearn.preprocessing import StandardScaler\n",
    "sc = StandardScaler()\n",
    "X_train = sc.fit_transform(X)\n",
    "\n",
    "print(X_train)\n",
    "print(X_train.shape)\n",
    "print(type(X_train))"
   ]
  },
  {
   "cell_type": "code",
   "execution_count": 32,
   "metadata": {},
   "outputs": [
    {
     "name": "stdout",
     "output_type": "stream",
     "text": [
      "          0          1          2          3          4          5      \n",
      "0    21.194807  20.801154  24.758558  23.306632  27.623922  27.803708  \\\n",
      "1     6.553680  13.544308  18.543438  11.899472  24.670306  31.999214   \n",
      "2    14.976570  20.541104  45.413468  35.322952   4.589375  23.394860   \n",
      "3    19.000524  16.113609  10.491976  17.352428  43.129959  19.213523   \n",
      "4    32.610223  28.759917  28.528239  46.236881  13.251185  12.415253   \n",
      "..         ...        ...        ...        ...        ...        ...   \n",
      "269  26.039554  17.788476  11.518164  11.377239  15.722163   4.940570   \n",
      "270  26.503798  27.413605  24.851598  19.554471  14.787195   3.694414   \n",
      "271  31.956449   4.952387   8.479121  15.483694  26.810722   9.396893   \n",
      "272  25.927907  28.699816  32.674953  30.623438  28.760207  13.654455   \n",
      "273  29.373609  28.164779  40.458309  33.128442  13.778124  17.485650   \n",
      "\n",
      "          6          7          8          9     ...  4286  4287   \n",
      "0    31.067659   8.847675   8.735949  26.353666  ...   0.0   0.0  \\\n",
      "1     5.041935  10.749936  21.958460  14.564589  ...   0.0   0.0   \n",
      "2     4.012750  31.442581  38.769330  13.110005  ...   0.0   0.0   \n",
      "3    27.943215  10.823278  29.919369  13.633633  ...   0.0   0.0   \n",
      "4    29.547578  10.464692  29.631223  13.858456  ...   0.0   0.0   \n",
      "..         ...        ...        ...        ...  ...   ...   ...   \n",
      "269  15.111439  27.444452  18.169367  31.964979  ...   0.0   0.0   \n",
      "270  12.425387  21.700936  18.275099  39.743407  ...   0.0   0.0   \n",
      "271  30.320882   9.934471  11.598806  13.715422  ...   0.0   0.0   \n",
      "272  11.427471  13.474747  21.758226  16.079634  ...   0.0   0.0   \n",
      "273   4.985673  28.519803  22.542000  16.731850  ...   0.0   0.0   \n",
      "\n",
      "             4288  4289  4290  4291          4292  4293  4294  4295  \n",
      "0    5.414313e-35   0.0   0.0   0.0  5.414313e-35   0.0   0.0   0.0  \n",
      "1    2.703611e-35   0.0   0.0   0.0  2.703611e-35   0.0   0.0   0.0  \n",
      "2    5.395418e-35   0.0   0.0   0.0  5.395418e-35   0.0   0.0   0.0  \n",
      "3    5.378916e-35   0.0   0.0   0.0  5.378916e-35   0.0   0.0   0.0  \n",
      "4    4.018308e-35   0.0   0.0   0.0  4.018308e-35   0.0   0.0   0.0  \n",
      "..            ...   ...   ...   ...           ...   ...   ...   ...  \n",
      "269  3.662228e-37   0.0   0.0   0.0  3.662228e-37   0.0   0.0   0.0  \n",
      "270  7.402758e-37   0.0   0.0   0.0  7.402758e-37   0.0   0.0   0.0  \n",
      "271  3.730828e-37   0.0   0.0   0.0  3.730828e-37   0.0   0.0   0.0  \n",
      "272  3.750501e-37   0.0   0.0   0.0  3.750501e-37   0.0   0.0   0.0  \n",
      "273  2.820263e-37   0.0   0.0   0.0  2.820263e-37   0.0   0.0   0.0  \n",
      "\n",
      "[274 rows x 4296 columns]\n",
      "(274, 4296)\n",
      "<class 'pandas.core.frame.DataFrame'>\n"
     ]
    }
   ],
   "source": [
    "# Transformar por Fourier\n",
    "transformer = FourierTransform()\n",
    "X_fourier = transformer.fit_transform(pd.DataFrame(X_train))\n",
    "transformer.check_is_fitted()\n",
    "\n",
    "# Ver conjunto de dados\n",
    "print(X_fourier)\n",
    "print(X_fourier.shape)\n",
    "print(type(X_fourier))"
   ]
  },
  {
   "cell_type": "code",
   "execution_count": 30,
   "metadata": {},
   "outputs": [
    {
     "name": "stdout",
     "output_type": "stream",
     "text": [
      "<class 'numpy.ndarray'>\n",
      "[ 0.00092503 -0.02064099 -0.04592863 ...  0.          0.\n",
      "  0.        ]\n",
      "(4296,)\n"
     ]
    }
   ],
   "source": [
    "print(type(X_train[0]))\n",
    "print(X_train[0])\n",
    "print(X_train[0].shape)"
   ]
  },
  {
   "cell_type": "code",
   "execution_count": 31,
   "metadata": {},
   "outputs": [
    {
     "name": "stdout",
     "output_type": "stream",
     "text": [
      "(2148, 1)\n"
     ]
    }
   ],
   "source": [
    "a = transformer.fit_transform(pd.DataFrame(X_train[0]))\n",
    "print(a.shape)\n",
    "#testar np.transposed"
   ]
  }
 ],
 "metadata": {
  "kernelspec": {
   "display_name": "Python 3",
   "language": "python",
   "name": "python3"
  },
  "language_info": {
   "codemirror_mode": {
    "name": "ipython",
    "version": 3
   },
   "file_extension": ".py",
   "mimetype": "text/x-python",
   "name": "python",
   "nbconvert_exporter": "python",
   "pygments_lexer": "ipython3",
   "version": "3.10.11"
  },
  "orig_nbformat": 4
 },
 "nbformat": 4,
 "nbformat_minor": 2
}
