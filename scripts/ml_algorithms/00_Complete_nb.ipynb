{
 "cells": [
  {
   "cell_type": "markdown",
   "metadata": {},
   "source": [
    "[Open in Colab](https://colab.research.google.com/github.com/WoolierBrooks/DementiaDetect-Speech/blob/main/scripts/ml_algorithms/00_Complete_nb.ipynb)"
   ]
  },
  {
   "cell_type": "markdown",
   "metadata": {},
   "source": [
    "Importar bibliotecas"
   ]
  },
  {
   "cell_type": "code",
   "execution_count": 1,
   "metadata": {},
   "outputs": [],
   "source": [
    "import numpy as np\n",
    "import matplotlib.pyplot as plt\n",
    "import pandas as pd"
   ]
  },
  {
   "cell_type": "markdown",
   "metadata": {},
   "source": [
    "Importar o dataset"
   ]
  },
  {
   "cell_type": "code",
   "execution_count": 12,
   "metadata": {},
   "outputs": [
    {
     "name": "stdout",
     "output_type": "stream",
     "text": [
      "[[-3.0517578e-05 -3.0517578e-05 -3.0517578e-05 ...            nan\n",
      "             nan            nan]\n",
      " [ 3.0517578e-05 -6.1035156e-05  9.1552734e-05 ...            nan\n",
      "             nan            nan]\n",
      " [-3.0517578e-05  0.0000000e+00  0.0000000e+00 ...            nan\n",
      "             nan            nan]\n",
      " ...\n",
      " [-3.0517578e-05  9.1552734e-05  0.0000000e+00 ...            nan\n",
      "             nan            nan]\n",
      " [ 9.1552734e-05  6.1035156e-05 -6.1035156e-05 ...            nan\n",
      "             nan            nan]\n",
      " [-1.5258789e-04  0.0000000e+00 -9.1552734e-05 ...            nan\n",
      "             nan            nan]] (549, 4296)\n",
      "[0 0 0 0 0 0 0 0 0 0 0 0 0 0 0 0 0 0 0 0 0 0 0 0 0 0 0 0 0 0 0 0 0 0 0 0 0\n",
      " 0 0 0 0 0 0 0 0 0 0 0 0 0 0 0 0 0 0 0 0 0 0 0 0 0 0 0 0 0 0 0 0 0 0 0 0 0\n",
      " 0 0 0 0 0 0 0 0 0 0 0 0 0 0 0 0 0 0 0 0 0 0 0 0 0 0 0 0 0 0 0 0 0 0 0 0 0\n",
      " 0 0 0 0 0 0 0 0 0 0 0 0 0 0 0 0 0 0 0 0 0 0 0 0 0 0 0 0 0 0 0 0 0 0 0 0 0\n",
      " 0 0 0 0 0 0 0 0 0 0 0 0 0 0 0 0 0 0 0 0 0 0 0 0 0 0 0 0 0 0 0 0 0 0 0 0 0\n",
      " 0 0 0 0 0 0 0 0 0 0 0 0 0 0 0 0 0 0 0 0 0 0 0 0 0 0 0 0 0 0 0 0 0 0 0 0 0\n",
      " 0 0 0 0 0 0 0 0 0 0 0 0 0 0 0 0 0 0 0 0 0 1 1 1 1 1 1 1 1 1 1 1 1 1 1 1 1\n",
      " 1 1 1 1 1 1 1 1 1 1 1 1 1 1 1 1 1 1 1 1 1 1 1 1 1 1 1 1 1 1 1 1 1 1 1 1 1\n",
      " 1 1 1 1 1 1 1 1 1 1 1 1 1 1 1 1 1 1 1 1 1 1 1 1 1 1 1 1 1 1 1 1 1 1 1 1 1\n",
      " 1 1 1 1 1 1 1 1 1 1 1 1 1 1 1 1 1 1 1 1 1 1 1 1 1 1 1 1 1 1 1 1 1 1 1 1 1\n",
      " 1 1 1 1 1 1 1 1 1 1 1 1 1 1 1 1 1 1 1 1 1 1 1 1 1 1 1 1 1 1 1 1 1 1 1 1 1\n",
      " 1 1 1 1 1 1 1 1 1 1 1 1 1 1 1 1 1 1 1 1 1 1 1 1 1 1 1 1 1 1 1 1 1 1 1 1 1\n",
      " 1 1 1 1 1 1 1 1 1 1 1 1 1 1 1 1 1 1 1 1 1 1 1 1 1 1 1 1 1 1 1 1 1 1 1 1 1\n",
      " 1 1 1 1 1 1 1 1 1 1 1 1 1 1 1 1 1 1 1 1 1 1 1 1 1 1 1 1 1 1 1 1 1 1 1 1 1\n",
      " 1 1 1 1 1 1 1 1 1 1 1 1 1 1 1 1 1 1 1 1 1 1 1 1 1 1 1 1 1 1 1] (549,)\n"
     ]
    }
   ],
   "source": [
    "dataset = pd.read_csv(\"dataframe.csv\")\n",
    "X = dataset.iloc[:, :-1].values\n",
    "y = dataset.iloc[:, -1].values\n",
    "print(X, X.shape)\n",
    "print(y, y.shape)"
   ]
  },
  {
   "cell_type": "markdown",
   "metadata": {},
   "source": [
    "Completando dados faltantes"
   ]
  },
  {
   "cell_type": "code",
   "execution_count": 13,
   "metadata": {},
   "outputs": [
    {
     "name": "stdout",
     "output_type": "stream",
     "text": [
      "[[-3.0517578e-05 -3.0517578e-05 -3.0517578e-05 ...  0.0000000e+00\n",
      "   0.0000000e+00  0.0000000e+00]\n",
      " [ 3.0517578e-05 -6.1035156e-05  9.1552734e-05 ...  0.0000000e+00\n",
      "   0.0000000e+00  0.0000000e+00]\n",
      " [-3.0517578e-05  0.0000000e+00  0.0000000e+00 ...  0.0000000e+00\n",
      "   0.0000000e+00  0.0000000e+00]\n",
      " ...\n",
      " [-3.0517578e-05  9.1552734e-05  0.0000000e+00 ...  0.0000000e+00\n",
      "   0.0000000e+00  0.0000000e+00]\n",
      " [ 9.1552734e-05  6.1035156e-05 -6.1035156e-05 ...  0.0000000e+00\n",
      "   0.0000000e+00  0.0000000e+00]\n",
      " [-1.5258789e-04  0.0000000e+00 -9.1552734e-05 ...  0.0000000e+00\n",
      "   0.0000000e+00  0.0000000e+00]]\n"
     ]
    }
   ],
   "source": [
    "from sklearn.impute import SimpleImputer\n",
    "imputer = SimpleImputer(missing_values=np.nan, strategy=\"mean\")\n",
    "imputer.fit(X)\n",
    "X = imputer.transform(X)\n",
    "print(X)"
   ]
  },
  {
   "cell_type": "markdown",
   "metadata": {},
   "source": [
    "Dividir o dataset em treino e teste"
   ]
  },
  {
   "cell_type": "code",
   "execution_count": 15,
   "metadata": {},
   "outputs": [
    {
     "name": "stdout",
     "output_type": "stream",
     "text": [
      "[[-6.1035156e-05  0.0000000e+00 -3.0517578e-05 ...  0.0000000e+00\n",
      "   0.0000000e+00  0.0000000e+00]\n",
      " [ 9.1552734e-05  3.0517578e-05  3.0517578e-05 ...  0.0000000e+00\n",
      "   0.0000000e+00  0.0000000e+00]\n",
      " [-1.5258789e-04  1.2207031e-04  3.6621094e-04 ...  0.0000000e+00\n",
      "   0.0000000e+00  0.0000000e+00]\n",
      " ...\n",
      " [ 6.1035156e-05 -3.0517578e-05  0.0000000e+00 ...  0.0000000e+00\n",
      "   0.0000000e+00  0.0000000e+00]\n",
      " [-6.1035156e-05  3.0517578e-05 -9.1552734e-05 ...  0.0000000e+00\n",
      "   0.0000000e+00  0.0000000e+00]\n",
      " [-3.0517578e-05 -3.0517578e-05  0.0000000e+00 ...  0.0000000e+00\n",
      "   0.0000000e+00  0.0000000e+00]] (439, 4296)\n"
     ]
    }
   ],
   "source": [
    "from sklearn.model_selection import train_test_split\n",
    "X_train, X_test, y_train, y_test = train_test_split(X, y, test_size=0.2, random_state=1)\n",
    "print(X_train, X_train.shape)"
   ]
  },
  {
   "cell_type": "code",
   "execution_count": 16,
   "metadata": {},
   "outputs": [
    {
     "name": "stdout",
     "output_type": "stream",
     "text": [
      "[[-3.0517578e-05 -6.1035156e-05  6.1035156e-05 ...  0.0000000e+00\n",
      "   0.0000000e+00  0.0000000e+00]\n",
      " [-3.6621094e-04 -3.0517578e-05  1.2207031e-04 ...  0.0000000e+00\n",
      "   0.0000000e+00  0.0000000e+00]\n",
      " [ 1.8310547e-04  1.5258789e-04 -1.2207031e-04 ...  0.0000000e+00\n",
      "   0.0000000e+00  0.0000000e+00]\n",
      " ...\n",
      " [ 3.0517578e-05 -9.1552734e-05  6.1035156e-05 ...  0.0000000e+00\n",
      "   0.0000000e+00  0.0000000e+00]\n",
      " [-3.0517578e-04  1.5258789e-04 -1.5258789e-04 ...  0.0000000e+00\n",
      "   0.0000000e+00  0.0000000e+00]\n",
      " [ 0.0000000e+00  3.0517578e-05 -3.0517578e-05 ...  0.0000000e+00\n",
      "   0.0000000e+00  0.0000000e+00]] (110, 4296)\n"
     ]
    }
   ],
   "source": [
    "print(X_test, X_test.shape)"
   ]
  },
  {
   "cell_type": "code",
   "execution_count": 17,
   "metadata": {},
   "outputs": [
    {
     "name": "stdout",
     "output_type": "stream",
     "text": [
      "[1 0 0 0 1 1 0 1 0 0 1 1 0 0 0 0 0 1 0 1 1 0 1 0 1 0 1 1 0 1 1 1 1 0 1 0 0\n",
      " 1 1 0 0 1 1 1 1 1 0 1 1 1 1 0 1 0 1 1 1 1 1 0 0 1 0 0 1 0 1 1 0 0 1 1 0 1\n",
      " 1 0 0 1 1 0 0 1 1 1 0 0 1 1 0 0 0 1 0 1 1 0 1 0 1 0 0 1 1 1 1 1 1 1 0 0 0\n",
      " 1 0 0 1 0 0 1 1 0 0 1 0 1 0 0 1 1 1 0 1 1 1 0 1 0 0 0 1 1 1 1 1 1 0 0 1 1\n",
      " 1 1 0 1 1 0 0 0 1 0 0 0 0 1 0 1 1 1 1 0 1 1 1 0 1 1 1 0 1 0 0 1 0 0 0 1 1\n",
      " 1 1 1 1 1 1 1 0 1 1 0 1 1 1 0 0 1 1 0 0 1 1 0 1 1 0 1 0 1 0 1 0 0 1 0 0 0\n",
      " 0 0 0 0 1 1 1 0 0 1 1 0 0 1 1 1 0 1 1 0 0 1 0 1 1 1 0 1 1 0 1 0 0 1 1 0 1\n",
      " 1 1 1 0 0 0 0 0 0 1 0 0 1 1 1 0 0 0 1 1 1 1 1 0 0 0 1 0 1 0 1 1 0 0 1 0 0\n",
      " 1 1 0 1 1 0 0 0 1 1 1 1 0 0 0 0 1 0 0 0 1 1 1 1 1 0 1 0 0 0 0 1 1 1 0 0 0\n",
      " 1 1 0 0 0 1 0 0 1 0 0 1 1 1 1 1 1 1 0 0 0 1 1 0 0 1 1 1 1 0 0 0 1 1 1 1 0\n",
      " 0 0 1 1 0 1 1 1 0 1 0 1 0 0 0 1 1 1 0 1 0 0 0 0 1 1 1 0 1 1 0 0 0 1 1 1 1\n",
      " 0 1 1 1 0 1 1 1 1 0 1 0 0 1 1 0 1 1 1 1 1 1 1 0 1 1 1 0 0 0 0 0] (439,)\n"
     ]
    }
   ],
   "source": [
    "print(y_train, y_train.shape)"
   ]
  },
  {
   "cell_type": "code",
   "execution_count": 18,
   "metadata": {},
   "outputs": [
    {
     "name": "stdout",
     "output_type": "stream",
     "text": [
      "[0 1 0 1 0 0 1 1 1 1 1 1 0 1 0 1 1 1 0 0 0 1 1 1 1 1 1 0 1 0 0 1 1 1 1 1 0\n",
      " 0 1 0 1 1 0 0 0 0 0 0 1 0 1 1 1 0 1 1 0 1 1 0 1 1 0 1 1 0 0 1 0 1 1 0 1 1\n",
      " 1 0 1 0 1 0 0 1 0 0 1 1 1 1 0 0 1 1 1 0 0 1 1 0 1 0 1 1 0 1 1 1 1 0 1 0] (110,)\n"
     ]
    }
   ],
   "source": [
    "print(y_test, y_test.shape)"
   ]
  },
  {
   "cell_type": "markdown",
   "metadata": {},
   "source": [
    "Escalonamento de características"
   ]
  },
  {
   "cell_type": "code",
   "execution_count": 19,
   "metadata": {},
   "outputs": [
    {
     "name": "stdout",
     "output_type": "stream",
     "text": [
      "[[-0.03775738  0.02300947 -0.04940856 ...  0.          0.\n",
      "   0.        ]\n",
      " [ 0.16943624  0.06373993  0.12205672 ...  0.          0.\n",
      "   0.        ]\n",
      " [-0.16207355  0.18593132  1.06511579 ...  0.          0.\n",
      "   0.        ]\n",
      " ...\n",
      " [ 0.12799751 -0.017721    0.03632408 ...  0.          0.\n",
      "   0.        ]\n",
      " [-0.03775738  0.06373993 -0.22087384 ...  0.          0.\n",
      "   0.        ]\n",
      " [ 0.00368135 -0.017721    0.03632408 ...  0.          0.\n",
      "   0.        ]]\n",
      "[[ 0.00368135 -0.05845146  0.20778936 ...  0.          0.\n",
      "   0.        ]\n",
      " [-0.45214461 -0.017721    0.37925464 ...  0.          0.\n",
      "   0.        ]\n",
      " [ 0.29375241  0.22666179 -0.30660648 ...  0.          0.\n",
      "   0.        ]\n",
      " ...\n",
      " [ 0.08655879 -0.09918193  0.20778936 ...  0.          0.\n",
      "   0.        ]\n",
      " [-0.36926716  0.22666179 -0.39233913 ...  0.          0.\n",
      "   0.        ]\n",
      " [ 0.04512007  0.06373993 -0.04940856 ...  0.          0.\n",
      "   0.        ]]\n"
     ]
    }
   ],
   "source": [
    "from sklearn.preprocessing import StandardScaler\n",
    "sc = StandardScaler()\n",
    "X_train = sc.fit_transform(X_train)\n",
    "X_test = sc.transform(X_test)\n",
    "print(X_train)\n",
    "print(X_test)"
   ]
  }
 ],
 "metadata": {
  "kernelspec": {
   "display_name": "Python 3",
   "language": "python",
   "name": "python3"
  },
  "language_info": {
   "codemirror_mode": {
    "name": "ipython",
    "version": 3
   },
   "file_extension": ".py",
   "mimetype": "text/x-python",
   "name": "python",
   "nbconvert_exporter": "python",
   "pygments_lexer": "ipython3",
   "version": "3.10.11"
  },
  "orig_nbformat": 4
 },
 "nbformat": 4,
 "nbformat_minor": 2
}
