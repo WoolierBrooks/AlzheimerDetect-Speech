{
 "cells": [
  {
   "cell_type": "code",
   "execution_count": null,
   "metadata": {},
   "outputs": [],
   "source": [
    "import librosa\n",
    "import pandas as pd\n",
    "import os\n",
    "\n",
    "# Função para carregar áudio\n",
    "def carregar_audio(rota_arquivo):\n",
    "    #print(rota_arquivo[-9:])  # para saber a ordem\n",
    "    try:\n",
    "        audio, _ = librosa.load(rota_arquivo, sr=16)\n",
    "        return audio.tolist()\n",
    "    except Exception as e:\n",
    "        print(f\"Erro ao processar o arquivo {rota_arquivo}: {str(e)}\")\n",
    "        return None\n",
    "\n",
    "# Diretório da pasta que contém os arquivos WAV\n",
    "pasta_audio = \"<diretório da pasta>\"\n",
    "\n",
    "# Lista para armazenar os dados\n",
    "dados = []\n",
    "\n",
    "# Percorrer os arquivos na pasta de áudio\n",
    "for arquivo_audio in os.listdir(pasta_audio):\n",
    "    if arquivo_audio.endswith(\".wav\"):\n",
    "        rota_audio = os.path.join(pasta_audio, arquivo_audio)\n",
    "\n",
    "        # Carregar áudio\n",
    "        audio = carregar_audio(rota_audio)\n",
    "\n",
    "        if audio is not None:\n",
    "            dados.append(audio)\n",
    "\n",
    "# Converter os dados em um DataFrame\n",
    "df = pd.DataFrame(dados)\n",
    "\n",
    "# Salvar o DataFrame em um arquivo CSV\n",
    "df.to_csv('df.csv', index=False)"
   ]
  }
 ],
 "metadata": {
  "kernelspec": {
   "display_name": "Python 3",
   "language": "python",
   "name": "python3"
  },
  "language_info": {
   "codemirror_mode": {
    "name": "ipython",
    "version": 3
   },
   "file_extension": ".py",
   "mimetype": "text/x-python",
   "name": "python",
   "nbconvert_exporter": "python",
   "pygments_lexer": "ipython3",
   "version": "3.10.11"
  },
  "orig_nbformat": 4
 },
 "nbformat": 4,
 "nbformat_minor": 2
}
