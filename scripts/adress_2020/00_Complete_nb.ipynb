{
 "cells": [
  {
   "cell_type": "markdown",
   "metadata": {},
   "source": [
    "[Open in Colab](https://colab.research.google.com/github/WoolierBrooks/DementiaDetect-Speech/blob/main/scripts/adress_2020/00_Complete_nb.ipynb)"
   ]
  },
  {
   "cell_type": "markdown",
   "metadata": {},
   "source": [
    "Importar bibliotecas"
   ]
  },
  {
   "cell_type": "code",
   "execution_count": 1,
   "metadata": {},
   "outputs": [],
   "source": [
    "import pandas as pd\n",
    "import numpy as np"
   ]
  },
  {
   "cell_type": "markdown",
   "metadata": {},
   "source": [
    "Importar o dataset de treino"
   ]
  },
  {
   "cell_type": "code",
   "execution_count": 2,
   "metadata": {},
   "outputs": [
    {
     "name": "stdout",
     "output_type": "stream",
     "text": [
      "[[1.97e+00 8.11e-02 2.04e-01 ... 8.05e+01 1.34e+02 8.04e+01]\n",
      " [3.37e+00 1.42e-02 0.00e+00 ... 7.24e+01 1.12e+02 7.60e+01]\n",
      " [2.83e+00 7.86e-01 9.65e-01 ... 7.27e+01 1.22e+02 7.67e+01]\n",
      " ...\n",
      " [3.53e+00 2.31e-01 0.00e+00 ... 9.54e+01 1.55e+02 9.05e+01]\n",
      " [3.37e+00 4.64e-01 0.00e+00 ... 9.83e+01 1.59e+02 8.86e+01]\n",
      " [3.63e+00 6.01e-01 6.24e-01 ... 8.99e+01 1.64e+02 9.13e+01]] (108, 6373)\n",
      "[0. 0. 0. 0. 0. 0. 0. 0. 0. 0. 0. 0. 0. 0. 0. 0. 0. 0. 0. 0. 0. 0. 0. 0.\n",
      " 0. 0. 0. 0. 0. 0. 0. 0. 0. 0. 0. 0. 0. 0. 0. 0. 0. 0. 0. 0. 0. 0. 0. 0.\n",
      " 0. 0. 0. 0. 0. 0. 1. 1. 1. 1. 1. 1. 1. 1. 1. 1. 1. 1. 1. 1. 1. 1. 1. 1.\n",
      " 1. 1. 1. 1. 1. 1. 1. 1. 1. 1. 1. 1. 1. 1. 1. 1. 1. 1. 1. 1. 1. 1. 1. 1.\n",
      " 1. 1. 1. 1. 1. 1. 1. 1. 1. 1. 1. 1.] (108,)\n"
     ]
    }
   ],
   "source": [
    "dataset = pd.read_csv(\"adress_20_db_compare_train.csv\")\n",
    "X_train = dataset.iloc[:, :-1].values\n",
    "y_train = dataset.iloc[:, -1].values\n",
    "print(X_train, X_train.shape)\n",
    "print(y_train, y_train.shape)"
   ]
  },
  {
   "cell_type": "markdown",
   "metadata": {},
   "source": [
    "Importando o dataset de teste"
   ]
  },
  {
   "cell_type": "code",
   "execution_count": 3,
   "metadata": {},
   "outputs": [
    {
     "name": "stdout",
     "output_type": "stream",
     "text": [
      "[[3.42e+00 6.32e-01 8.09e-01 ... 8.16e+01 1.19e+02 7.26e+01]\n",
      " [5.00e-01 4.22e-01 0.00e+00 ... 8.08e+01 1.61e+02 7.93e+01]\n",
      " [2.50e+00 7.82e-01 5.27e-04 ... 6.96e+01 1.32e+02 7.47e+01]\n",
      " ...\n",
      " [3.33e+00 2.27e-01 8.64e-01 ... 8.02e+01 1.34e+02 8.00e+01]\n",
      " [3.61e+00 6.83e-01 9.75e-01 ... 8.05e+01 1.26e+02 8.12e+01]\n",
      " [1.61e+00 5.94e-01 1.60e-01 ... 7.71e+01 1.45e+02 8.42e+01]] (48, 6373)\n",
      "[0. 0. 1. 0. 1. 1. 0. 1. 1. 1. 0. 1. 0. 1. 0. 0. 1. 0. 0. 1. 0. 1. 1. 0.\n",
      " 0. 1. 0. 1. 1. 1. 1. 1. 1. 0. 1. 0. 0. 0. 1. 0. 1. 0. 0. 1. 0. 1. 0. 0.] (48,)\n"
     ]
    }
   ],
   "source": [
    "dataset = pd.read_csv(\"adress_20_db_compare_test.csv\")\n",
    "X_test = dataset.iloc[:, :-1].values\n",
    "y_test = dataset.iloc[:, -1].values\n",
    "print(X_test, X_test.shape)\n",
    "print(y_test, y_test.shape)"
   ]
  },
  {
   "cell_type": "markdown",
   "metadata": {},
   "source": [
    "Completando dados faltantes"
   ]
  },
  {
   "cell_type": "code",
   "execution_count": 4,
   "metadata": {},
   "outputs": [
    {
     "name": "stdout",
     "output_type": "stream",
     "text": [
      "[[1.97e+00 8.11e-02 2.04e-01 ... 8.05e+01 1.34e+02 8.04e+01]\n",
      " [3.37e+00 1.42e-02 0.00e+00 ... 7.24e+01 1.12e+02 7.60e+01]\n",
      " [2.83e+00 7.86e-01 9.65e-01 ... 7.27e+01 1.22e+02 7.67e+01]\n",
      " ...\n",
      " [3.53e+00 2.31e-01 0.00e+00 ... 9.54e+01 1.55e+02 9.05e+01]\n",
      " [3.37e+00 4.64e-01 0.00e+00 ... 9.83e+01 1.59e+02 8.86e+01]\n",
      " [3.63e+00 6.01e-01 6.24e-01 ... 8.99e+01 1.64e+02 9.13e+01]] (108, 6373)\n"
     ]
    }
   ],
   "source": [
    "from sklearn.impute import SimpleImputer\n",
    "\n",
    "# Conjunto de treino\n",
    "imputer = SimpleImputer(missing_values=np.nan, strategy=\"mean\")\n",
    "imputer.fit(X_train)\n",
    "X_train = imputer.transform(X_train)\n",
    "print(X_train, X_train.shape)"
   ]
  },
  {
   "cell_type": "code",
   "execution_count": 5,
   "metadata": {},
   "outputs": [
    {
     "name": "stdout",
     "output_type": "stream",
     "text": [
      "[[3.42e+00 6.32e-01 8.09e-01 ... 8.16e+01 1.19e+02 7.26e+01]\n",
      " [5.00e-01 4.22e-01 0.00e+00 ... 8.08e+01 1.61e+02 7.93e+01]\n",
      " [2.50e+00 7.82e-01 5.27e-04 ... 6.96e+01 1.32e+02 7.47e+01]\n",
      " ...\n",
      " [3.33e+00 2.27e-01 8.64e-01 ... 8.02e+01 1.34e+02 8.00e+01]\n",
      " [3.61e+00 6.83e-01 9.75e-01 ... 8.05e+01 1.26e+02 8.12e+01]\n",
      " [1.61e+00 5.94e-01 1.60e-01 ... 7.71e+01 1.45e+02 8.42e+01]] (48, 6373)\n"
     ]
    }
   ],
   "source": [
    "# Conjunto de teste\n",
    "imputer = SimpleImputer(missing_values=np.nan, strategy=\"mean\")\n",
    "imputer.fit(X_test)\n",
    "X_test = imputer.transform(X_test)\n",
    "print(X_test, X_test.shape)"
   ]
  },
  {
   "cell_type": "markdown",
   "metadata": {},
   "source": [
    "Escalonamento de características"
   ]
  },
  {
   "cell_type": "code",
   "execution_count": 6,
   "metadata": {},
   "outputs": [
    {
     "name": "stdout",
     "output_type": "stream",
     "text": [
      "[[-0.55697137 -1.17020103 -0.30053333 ...  0.5518206   0.40652078\n",
      "   0.39635631]\n",
      " [ 0.29049993 -1.3551359  -0.88649157 ... -0.04107139 -0.66812694\n",
      "   0.08181303]\n",
      " [-0.03638185  0.77838779  1.88532069 ... -0.01911243 -0.1796507\n",
      "   0.131854  ]\n",
      " ...\n",
      " [ 0.3873538  -0.75582528 -0.88649157 ...  1.64244907  1.43232087\n",
      "   1.11837612]\n",
      " [ 0.29049993 -0.11173223 -0.88649157 ...  1.85471904  1.62771137\n",
      "   0.98255061]\n",
      " [ 0.44788746  0.26698343  0.90585128 ...  1.23986809  1.87194949\n",
      "   1.17556581]] (108, 6373)\n",
      "[[ 0.32076677  0.35267821  1.43723498 ...  0.63233679 -0.32619358\n",
      "  -0.16124315]\n",
      " [-1.44681623 -0.22783484 -0.88649157 ...  0.57377956  1.72540662\n",
      "   0.31772049]\n",
      " [-0.23614295  0.76733039 -0.88497785 ... -0.24602171  0.30882553\n",
      "  -0.01112022]\n",
      " ...\n",
      " [ 0.26628647 -0.76688267  1.59521391 ...  0.52986163  0.40652078\n",
      "   0.36776146]\n",
      " [ 0.43578073  0.49365996  1.91404413 ...  0.5518206   0.01573979\n",
      "   0.453546  ]\n",
      " [-0.77489256  0.247633   -0.42691648 ...  0.30295235  0.94384464\n",
      "   0.66800733]] (48, 6373)\n"
     ]
    }
   ],
   "source": [
    "from sklearn.preprocessing import StandardScaler\n",
    "\n",
    "sc = StandardScaler()\n",
    "X_train = sc.fit_transform(X_train)\n",
    "X_test = sc.transform(X_test)\n",
    "print(X_train, X_train.shape)\n",
    "print(X_test, X_test.shape)"
   ]
  },
  {
   "cell_type": "markdown",
   "metadata": {},
   "source": [
    "Seleção univariada de características"
   ]
  },
  {
   "cell_type": "code",
   "execution_count": 7,
   "metadata": {},
   "outputs": [
    {
     "name": "stdout",
     "output_type": "stream",
     "text": [
      "(108, 6373)"
     ]
    },
    {
     "name": "stdout",
     "output_type": "stream",
     "text": [
      "\n",
      "(48, 6373)\n",
      "(108, 637)\n",
      "(48, 637)\n"
     ]
    },
    {
     "name": "stderr",
     "output_type": "stream",
     "text": [
      "C:\\Users\\Lenovo\\AppData\\Local\\Packages\\PythonSoftwareFoundation.Python.3.10_qbz5n2kfra8p0\\LocalCache\\local-packages\\Python310\\site-packages\\sklearn\\feature_selection\\_univariate_selection.py:112: UserWarning: Features [2825] are constant.\n",
      "  warnings.warn(\"Features %s are constant.\" % constant_features_idx, UserWarning)\n",
      "C:\\Users\\Lenovo\\AppData\\Local\\Packages\\PythonSoftwareFoundation.Python.3.10_qbz5n2kfra8p0\\LocalCache\\local-packages\\Python310\\site-packages\\sklearn\\feature_selection\\_univariate_selection.py:113: RuntimeWarning: invalid value encountered in divide\n",
      "  f = msb / msw\n"
     ]
    }
   ],
   "source": [
    "from sklearn.feature_selection import SelectKBest\n",
    "from sklearn.feature_selection import f_classif\n",
    "\n",
    "print(X_train.shape)\n",
    "print(X_test.shape)\n",
    "\n",
    "# Inicializando e ajustando o seletor de características no conjunto de treino\n",
    "selector = SelectKBest(f_classif, k=637)\n",
    "X_train_new = selector.fit_transform(X_train, y_train)\n",
    "\n",
    "# Aplicando as mesmas características selecionadas para o conjunto de teste\n",
    "X_test_new = selector.transform(X_test)\n",
    "\n",
    "print(X_train_new.shape)\n",
    "print(X_test_new.shape)"
   ]
  },
  {
   "cell_type": "markdown",
   "metadata": {},
   "source": [
    "Eliminação de características recursivas"
   ]
  },
  {
   "cell_type": "code",
   "execution_count": 8,
   "metadata": {},
   "outputs": [
    {
     "name": "stdout",
     "output_type": "stream",
     "text": [
      "(108, 6373)\n",
      "(48, 6373)\n",
      "(108, 637)\n",
      "(48, 637)\n"
     ]
    }
   ],
   "source": [
    "from sklearn.feature_selection import RFE\n",
    "from sklearn.svm import SVC\n",
    "\n",
    "print(X_train.shape)\n",
    "print(X_test.shape)\n",
    "\n",
    "# Inicializar o estimador do modelo\n",
    "estimator = SVC(kernel=\"linear\")\n",
    "\n",
    "# Inicialize o RFE com o estimador e o número desejado de características a serem mantidas\n",
    "rfe = RFE(estimator, n_features_to_select=637, step=1)\n",
    "rfe.fit(X_train, y_train)\n",
    "\n",
    "# Transforme os conjuntos de treino e teste de acordo com as características selecionadas\n",
    "X_train_new = rfe.transform(X_train)\n",
    "X_test_new = rfe.transform(X_test)\n",
    "\n",
    "print(X_train_new.shape)\n",
    "print(X_test_new.shape)"
   ]
  },
  {
   "cell_type": "markdown",
   "metadata": {},
   "source": [
    "Seleção de características usando SelectFromModel"
   ]
  },
  {
   "cell_type": "code",
   "execution_count": 9,
   "metadata": {},
   "outputs": [
    {
     "name": "stdout",
     "output_type": "stream",
     "text": [
      "(108, 6373)\n",
      "(48, 6373)\n",
      "(108, 637)\n",
      "(48, 637)\n"
     ]
    }
   ],
   "source": [
    "from sklearn.feature_selection import SelectFromModel\n",
    "from sklearn.svm import SVC\n",
    "\n",
    "print(X_train.shape)\n",
    "print(X_test.shape)\n",
    "\n",
    "# Definindo o modelo que será usado para selecionar características\n",
    "model = SVC(kernel=\"linear\")\n",
    "\n",
    "# Inicializando o seletor e ajustando ao conjunto de treino\n",
    "selector = SelectFromModel(estimator=model, max_features=637)  # Selecionando 99 características\n",
    "selector.fit(X_train, y_train)\n",
    "\n",
    "# Aplicando a seleção de características aos conjuntos de treino e teste\n",
    "X_train_new = selector.transform(X_train)\n",
    "X_test_new = selector.transform(X_test)\n",
    "\n",
    "print(X_train_new.shape)\n",
    "print(X_test_new.shape)"
   ]
  },
  {
   "cell_type": "markdown",
   "metadata": {},
   "source": [
    "Seleção sequencial de características"
   ]
  },
  {
   "cell_type": "code",
   "execution_count": 11,
   "metadata": {},
   "outputs": [
    {
     "name": "stdout",
     "output_type": "stream",
     "text": [
      "(108, 6373)\n",
      "(48, 6373)\n"
     ]
    }
   ],
   "source": [
    "from sklearn.feature_selection import SequentialFeatureSelector\n",
    "from sklearn.svm import SVC\n",
    "\n",
    "print(X_train.shape)\n",
    "print(X_test.shape)\n",
    "\n",
    "# Inicializando o classificador\n",
    "model = SVC(kernel=\"linear\")\n",
    "\n",
    "# Inicializando o Sequential Feature Selector\n",
    "# Defina o número desejado de características e a direção (forward ou backward)\n",
    "sfs = SequentialFeatureSelector(model, n_features_to_select=637, direction='forward')\n",
    "\n",
    "# Ajustando o Sequential Feature Selector ao conjunto de treino\n",
    "sfs.fit(X_train, y_train)\n",
    "\n",
    "# Obtendo o novo conjunto de características para treino e teste\n",
    "X_train_new = sfs.transform(X_train)\n",
    "X_test_new = sfs.transform(X_test)\n",
    "\n",
    "print(X_train_new.shape)\n",
    "print(X_test_new.shape)"
   ]
  },
  {
   "cell_type": "markdown",
   "metadata": {},
   "source": [
    "Testando Linear Discriminant Analysis (LDA)"
   ]
  },
  {
   "cell_type": "code",
   "execution_count": null,
   "metadata": {},
   "outputs": [
    {
     "name": "stdout",
     "output_type": "stream",
     "text": [
      "Acurácia do modelo: 64.58%\n"
     ]
    }
   ],
   "source": [
    "from sklearn.discriminant_analysis import LinearDiscriminantAnalysis\n",
    "from sklearn.metrics import accuracy_score\n",
    "\n",
    "# Instanciando o classificador LDA\n",
    "lda = LinearDiscriminantAnalysis()\n",
    "\n",
    "# Treinando o modelo LDA com os dados de treinamento\n",
    "lda.fit(X_train_new, y_train)\n",
    "\n",
    "# Realizando previsões nos dados de teste\n",
    "y_pred = lda.predict(X_test_new)\n",
    "\n",
    "# Calculando a precisão da classificação\n",
    "accuracy = accuracy_score(y_test, y_pred)\n",
    "print(f\"Acurácia do modelo: {accuracy * 100:.2f}%\")"
   ]
  },
  {
   "cell_type": "markdown",
   "metadata": {},
   "source": [
    "Testando Decision Tree (DT)"
   ]
  },
  {
   "cell_type": "code",
   "execution_count": null,
   "metadata": {},
   "outputs": [
    {
     "name": "stdout",
     "output_type": "stream",
     "text": [
      "Acurácia do modelo: 41.67%\n"
     ]
    }
   ],
   "source": [
    "from sklearn.tree import DecisionTreeClassifier\n",
    "from sklearn.metrics import accuracy_score\n",
    "\n",
    "# Inicializa o classificador de árvore de decisão\n",
    "clf = DecisionTreeClassifier(random_state=42)\n",
    "\n",
    "# Treina o classificador com o conjunto de treino\n",
    "clf.fit(X_train_new, y_train)\n",
    "\n",
    "# Realiza a previsão com o conjunto de teste\n",
    "y_pred = clf.predict(X_test_new)\n",
    "\n",
    "# Calcula a acurácia do modelo\n",
    "accuracy = accuracy_score(y_test, y_pred)\n",
    "print(f'Acurácia do modelo: {accuracy * 100:.2f}%')"
   ]
  },
  {
   "cell_type": "markdown",
   "metadata": {},
   "source": [
    "Testando Rede Neural Simples (NN)"
   ]
  },
  {
   "cell_type": "code",
   "execution_count": null,
   "metadata": {},
   "outputs": [
    {
     "name": "stdout",
     "output_type": "stream",
     "text": [
      "Acurácia do modelo: 60.42%\n"
     ]
    }
   ],
   "source": [
    "from sklearn.neural_network import MLPClassifier\n",
    "from sklearn.metrics import accuracy_score\n",
    "\n",
    "# Criando o classificador da rede neural\n",
    "classifier = MLPClassifier(hidden_layer_sizes=(10,), max_iter=1000, random_state=42)\n",
    "\n",
    "# Treinando o classificador\n",
    "classifier.fit(X_train_new, y_train)\n",
    "\n",
    "# Realizando previsões no conjunto de teste\n",
    "predictions = classifier.predict(X_test_new)\n",
    "\n",
    "# Calculando a acurácia do modelo\n",
    "accuracy = accuracy_score(y_test, predictions)\n",
    "print(f'Acurácia do modelo: {accuracy * 100:.2f}%')"
   ]
  },
  {
   "cell_type": "markdown",
   "metadata": {},
   "source": [
    "Testando Support Vector Machine (SVM)"
   ]
  },
  {
   "cell_type": "code",
   "execution_count": null,
   "metadata": {},
   "outputs": [
    {
     "name": "stdout",
     "output_type": "stream",
     "text": [
      "Acurácia do modelo: 72.92%\n"
     ]
    }
   ],
   "source": [
    "from sklearn.svm import SVC\n",
    "from sklearn.metrics import accuracy_score\n",
    "\n",
    "# Criar um classificador SVM\n",
    "classificador_svm = SVC(kernel='linear')  # Você pode escolher o tipo de kernel desejado\n",
    "\n",
    "# Treinar o classificador SVM\n",
    "classificador_svm.fit(X_train_new, y_train)\n",
    "\n",
    "# Fazer previsões usando o conjunto de teste\n",
    "predictions = classificador_svm.predict(X_test_new)\n",
    "\n",
    "# Calculando a acurácia do modelo\n",
    "accuracy = accuracy_score(y_test, predictions)\n",
    "print(f'Acurácia do modelo: {accuracy * 100:.2f}%')"
   ]
  },
  {
   "cell_type": "markdown",
   "metadata": {},
   "source": [
    "Testando Random Forest (RF)"
   ]
  },
  {
   "cell_type": "code",
   "execution_count": null,
   "metadata": {},
   "outputs": [
    {
     "name": "stdout",
     "output_type": "stream",
     "text": [
      "Acurácia do modelo: 56.25%\n"
     ]
    }
   ],
   "source": [
    "from sklearn.ensemble import RandomForestClassifier\n",
    "from sklearn.metrics import accuracy_score, classification_report\n",
    "\n",
    "# Criando o classificador Random Forest\n",
    "classificador_rf = RandomForestClassifier(n_estimators=100, random_state=42)\n",
    "\n",
    "# Treinando o classificador com os dados de treinamento\n",
    "classificador_rf.fit(X_train_new, y_train)\n",
    "\n",
    "# Fazendo previsões com o conjunto de teste\n",
    "predictions = classificador_rf.predict(X_test_new)\n",
    "\n",
    "# Calculando a acurácia do modelo\n",
    "accuracy = accuracy_score(y_test, predictions)\n",
    "print(f'Acurácia do modelo: {accuracy * 100:.2f}%')"
   ]
  },
  {
   "cell_type": "markdown",
   "metadata": {},
   "source": [
    "Resultados obtidos:\n",
    "|Características                            |LDA   |DT    |NN    |SVM       |RF    |Média     |\n",
    "|:-----------------------------------------:|:----:|:----:|:----:|:--------:|:----:|:--------:|\n",
    "|emobase (988)                              |60.42%|41.67%|66.67%|72.92%    |62.50%|60.84%    |\n",
    "|emobase [Univariate feature selection] (2) |58.33%|64.58%|58.33%|64.58%    |64.58%|__62.08%__|\n",
    "|emobase [Recursive feature elimination] (2)|45.83%|54.17%|45.83%|45.83%    |54.17%|49.17%    |\n",
    "|ComParE (6373)                             |60.42%|50.00%|60.42%|64.58%    |60.42%|59.17%    |\n",
    "|eGeMAPS (88)                               |70.83%|52.08%|62.50%|54.17%    |66.67%|61.25%    |\n",
    "|Média                                      |62.50%|52.08%|61.98%|__64.06%__|63.54%|59.17%    |"
   ]
  }
 ],
 "metadata": {
  "kernelspec": {
   "display_name": "Python 3",
   "language": "python",
   "name": "python3"
  },
  "language_info": {
   "codemirror_mode": {
    "name": "ipython",
    "version": 3
   },
   "file_extension": ".py",
   "mimetype": "text/x-python",
   "name": "python",
   "nbconvert_exporter": "python",
   "pygments_lexer": "ipython3",
   "version": "3.10.11"
  },
  "orig_nbformat": 4
 },
 "nbformat": 4,
 "nbformat_minor": 2
}
