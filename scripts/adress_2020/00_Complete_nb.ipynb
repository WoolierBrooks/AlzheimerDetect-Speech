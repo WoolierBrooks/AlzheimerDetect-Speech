{
 "cells": [
  {
   "cell_type": "markdown",
   "metadata": {},
   "source": [
    "[Open in Colab](https://colab.research.google.com/github/WoolierBrooks/DementiaDetect-Speech/blob/main/scripts/adress_2020/00_Complete_nb.ipynb)"
   ]
  },
  {
   "cell_type": "markdown",
   "metadata": {},
   "source": [
    "Importar bibliotecas"
   ]
  },
  {
   "cell_type": "code",
   "execution_count": 86,
   "metadata": {},
   "outputs": [],
   "source": [
    "import pandas as pd"
   ]
  },
  {
   "cell_type": "markdown",
   "metadata": {},
   "source": [
    "Importar o dataset de treino"
   ]
  },
  {
   "cell_type": "code",
   "execution_count": 87,
   "metadata": {},
   "outputs": [
    {
     "name": "stdout",
     "output_type": "stream",
     "text": [
      "[[-7.921180e-04 -3.464850e-04 -6.020000e-05 ...           nan\n",
      "            nan           nan]\n",
      " [-4.442810e-04 -4.853640e-04  4.950000e-05 ...           nan\n",
      "            nan           nan]\n",
      " [ 5.098860e-04 -1.121400e-04 -1.370030e-04 ...           nan\n",
      "            nan           nan]\n",
      " ...\n",
      " [ 1.216797e-03 -1.860000e-05 -2.711910e-04 ...           nan\n",
      "            nan           nan]\n",
      " [ 1.186880e-04 -1.310469e-03 -6.840000e-05 ...           nan\n",
      "            nan           nan]\n",
      " [-2.701660e-04  9.020000e-06 -1.448110e-04 ...           nan\n",
      "            nan           nan]] (108, 1888)\n",
      "[1 1 1 1 1 1 1 1 1 1 1 1 1 1 1 1 1 1 1 1 1 1 1 1 1 1 1 1 1 1 1 1 1 1 1 1 1\n",
      " 1 1 1 1 1 1 1 1 1 1 1 1 1 1 1 1 1 0 0 0 0 0 0 0 0 0 0 0 0 0 0 0 0 0 0 0 0\n",
      " 0 0 0 0 0 0 0 0 0 0 0 0 0 0 0 0 0 0 0 0 0 0 0 0 0 0 0 0 0 0 0 0 0 0] (108,)\n"
     ]
    }
   ],
   "source": [
    "dataset = pd.read_csv(\"adress_train_data.csv\")\n",
    "X_train = dataset.iloc[:, :-1].values\n",
    "y_train = dataset.iloc[:, -1].values\n",
    "print(X_train, X_train.shape)\n",
    "print(y_train, y_train.shape)"
   ]
  },
  {
   "cell_type": "markdown",
   "metadata": {},
   "source": [
    "Importando o dataset de teste"
   ]
  },
  {
   "cell_type": "code",
   "execution_count": 88,
   "metadata": {},
   "outputs": [
    {
     "name": "stdout",
     "output_type": "stream",
     "text": [
      "[[ 8.4861700e-04  5.2900000e-05 -8.4100000e-05 ...            nan\n",
      "             nan            nan]\n",
      " [-6.2648000e-03 -1.0229416e-02 -9.3522900e-03 ...            nan\n",
      "             nan            nan]\n",
      " [ 5.1984900e-04  2.0602600e-04 -1.7011000e-04 ...            nan\n",
      "             nan            nan]\n",
      " ...\n",
      " [-5.6514900e-04 -1.5772400e-04 -5.4200000e-05 ...            nan\n",
      "             nan            nan]\n",
      " [-1.1632410e-03 -1.1542200e-04 -3.3800000e-05 ...            nan\n",
      "             nan            nan]\n",
      " [ 2.5327500e-04 -1.6213100e-04  1.1451200e-04 ...            nan\n",
      "             nan            nan]] (48, 1888)\n",
      "[0 0 1 0 1 1 0 1 1 1 0 1 0 1 0 0 1 0 0 1 0 1 1 0 0 1 0 1 1 1 1 1 1 0 1 0 0\n",
      " 0 1 0 1 0 0 1 0 1 0 0] (48,)\n"
     ]
    }
   ],
   "source": [
    "dataset = pd.read_csv(\"adress_test_data.csv\")\n",
    "X_test = dataset.iloc[:, :-1].values\n",
    "y_test = dataset.iloc[:, -1].values\n",
    "print(X_test, X_test.shape)\n",
    "print(y_test, y_test.shape)"
   ]
  },
  {
   "cell_type": "markdown",
   "metadata": {},
   "source": [
    "Completando dados faltantes"
   ]
  },
  {
   "cell_type": "code",
   "execution_count": 89,
   "metadata": {},
   "outputs": [
    {
     "name": "stdout",
     "output_type": "stream",
     "text": [
      "[[-7.921180e-04 -3.464850e-04 -6.020000e-05 ...  0.000000e+00\n",
      "   0.000000e+00  0.000000e+00]\n",
      " [-4.442810e-04 -4.853640e-04  4.950000e-05 ...  0.000000e+00\n",
      "   0.000000e+00  0.000000e+00]\n",
      " [ 5.098860e-04 -1.121400e-04 -1.370030e-04 ...  0.000000e+00\n",
      "   0.000000e+00  0.000000e+00]\n",
      " ...\n",
      " [ 1.216797e-03 -1.860000e-05 -2.711910e-04 ...  0.000000e+00\n",
      "   0.000000e+00  0.000000e+00]\n",
      " [ 1.186880e-04 -1.310469e-03 -6.840000e-05 ...  0.000000e+00\n",
      "   0.000000e+00  0.000000e+00]\n",
      " [-2.701660e-04  9.020000e-06 -1.448110e-04 ...  0.000000e+00\n",
      "   0.000000e+00  0.000000e+00]] (108, 1888)\n"
     ]
    }
   ],
   "source": [
    "from sklearn.impute import SimpleImputer\n",
    "\n",
    "# Conjunto de treino\n",
    "imputer = SimpleImputer(missing_values=np.nan, strategy=\"mean\")\n",
    "imputer.fit(X_train)\n",
    "X_train = imputer.transform(X_train)\n",
    "print(X_train, X_train.shape)"
   ]
  },
  {
   "cell_type": "code",
   "execution_count": 90,
   "metadata": {},
   "outputs": [
    {
     "name": "stdout",
     "output_type": "stream",
     "text": [
      "[[ 8.4861700e-04  5.2900000e-05 -8.4100000e-05 ... -9.8300000e-05\n",
      "  -4.4200000e-05  0.0000000e+00]\n",
      " [-6.2648000e-03 -1.0229416e-02 -9.3522900e-03 ... -9.8300000e-05\n",
      "  -4.4200000e-05  0.0000000e+00]\n",
      " [ 5.1984900e-04  2.0602600e-04 -1.7011000e-04 ... -9.8300000e-05\n",
      "  -4.4200000e-05  0.0000000e+00]\n",
      " ...\n",
      " [-5.6514900e-04 -1.5772400e-04 -5.4200000e-05 ... -9.8300000e-05\n",
      "  -4.4200000e-05  0.0000000e+00]\n",
      " [-1.1632410e-03 -1.1542200e-04 -3.3800000e-05 ... -9.8300000e-05\n",
      "  -4.4200000e-05  0.0000000e+00]\n",
      " [ 2.5327500e-04 -1.6213100e-04  1.1451200e-04 ... -9.8300000e-05\n",
      "  -4.4200000e-05  0.0000000e+00]] (48, 1888)\n"
     ]
    }
   ],
   "source": [
    "# Conjunto de treino\n",
    "imputer = SimpleImputer(missing_values=np.nan, strategy=\"mean\")\n",
    "imputer.fit(X_test)\n",
    "X_test = imputer.transform(X_test)\n",
    "print(X_test, X_test.shape)"
   ]
  },
  {
   "cell_type": "markdown",
   "metadata": {},
   "source": [
    "Escalonamento de características"
   ]
  },
  {
   "cell_type": "code",
   "execution_count": 91,
   "metadata": {},
   "outputs": [
    {
     "name": "stdout",
     "output_type": "stream",
     "text": [
      "[[ 0.07165979  0.05722729  0.08235264 ...  0.          0.\n",
      "   0.        ]\n",
      " [ 0.12738383  0.03361927  0.10581878 ...  0.          0.\n",
      "   0.        ]\n",
      " [ 0.28024289  0.09706357  0.06592356 ...  0.          0.\n",
      "   0.        ]\n",
      " ...\n",
      " [ 0.39349114  0.11296442  0.03721914 ...  0.          0.\n",
      "   0.        ]\n",
      " [ 0.21757235 -0.10664023  0.08059856 ...  0.          0.\n",
      "   0.        ]\n",
      " [ 0.15527733  0.11765954  0.06425333 ...  0.          0.\n",
      "   0.        ]] (108, 1888)\n",
      "[[ 3.34508125e-01  1.25118699e-01  7.72401429e-02 ... -9.83000000e-05\n",
      "  -4.42000000e-05  0.00000000e+00]\n",
      " [-8.05072485e-01 -1.62277094e+00 -1.90533676e+00 ... -9.83000000e-05\n",
      "  -4.42000000e-05  0.00000000e+00]\n",
      " [ 2.81838974e-01  1.51148569e-01  5.88415733e-02 ... -9.83000000e-05\n",
      "  -4.42000000e-05  0.00000000e+00]\n",
      " ...\n",
      " [ 1.08020585e-01  8.93147514e-02  8.36361112e-02 ... -9.83000000e-05\n",
      "  -4.42000000e-05  0.00000000e+00]\n",
      " [ 1.22053041e-02  9.65056632e-02  8.79999157e-02 ... -9.83000000e-05\n",
      "  -4.42000000e-05  0.00000000e+00]\n",
      " [ 2.39133399e-01  8.85656060e-02  1.19725630e-01 ... -9.83000000e-05\n",
      "  -4.42000000e-05  0.00000000e+00]] (48, 1888)\n"
     ]
    }
   ],
   "source": [
    "from sklearn.preprocessing import StandardScaler\n",
    "\n",
    "sc = StandardScaler()\n",
    "X_train = sc.fit_transform(X_train)\n",
    "X_test = sc.transform(X_test)\n",
    "print(X_train, X_train.shape)\n",
    "print(X_test, X_test.shape)"
   ]
  },
  {
   "cell_type": "markdown",
   "metadata": {},
   "source": [
    "Testando KNeighborsTimeSeriesClassifier"
   ]
  },
  {
   "cell_type": "code",
   "execution_count": 92,
   "metadata": {},
   "outputs": [
    {
     "name": "stdout",
     "output_type": "stream",
     "text": [
      "Accuracy: 0.5\n",
      "Precision: 0.5\n",
      "Recall: 1.0\n",
      "F1 Score: 0.6666666666666666\n",
      "ROC AUC: 0.5\n"
     ]
    }
   ],
   "source": [
    "from tslearn.neighbors import KNeighborsTimeSeriesClassifier\n",
    "from sklearn.metrics import accuracy_score, precision_score, recall_score, f1_score, roc_auc_score\n",
    "\n",
    "# Treinar o modelo\n",
    "model = KNeighborsTimeSeriesClassifier(n_neighbors=3)\n",
    "model.fit(X_train, y_train)\n",
    "\n",
    "# Fazer previsões no conjunto de teste\n",
    "y_pred = model.predict(X_test)\n",
    "\n",
    "# Avaliar o modelo no conjunto de teste\n",
    "accuracy = accuracy_score(y_test, y_pred)\n",
    "precision = precision_score(y_test, y_pred)\n",
    "recall = recall_score(y_test, y_pred)\n",
    "f1 = f1_score(y_test, y_pred)\n",
    "roc_auc = roc_auc_score(y_test, y_pred)\n",
    "\n",
    "# Exibir os resultados\n",
    "print(f\"Accuracy: {accuracy}\")\n",
    "print(f\"Precision: {precision}\")\n",
    "print(f\"Recall: {recall}\")\n",
    "print(f\"F1 Score: {f1}\")\n",
    "print(f\"ROC AUC: {roc_auc}\")"
   ]
  },
  {
   "cell_type": "markdown",
   "metadata": {},
   "source": [
    "Testando RocketClassifier"
   ]
  },
  {
   "cell_type": "code",
   "execution_count": 93,
   "metadata": {},
   "outputs": [
    {
     "name": "stdout",
     "output_type": "stream",
     "text": [
      "Accuracy: 0.5\n",
      "Precision: 0.5\n",
      "Recall: 1.0\n",
      "F1 Score: 0.6666666666666666\n",
      "ROC AUC: 0.5\n"
     ]
    }
   ],
   "source": [
    "from sktime.classification.kernel_based import RocketClassifier\n",
    "from sklearn.metrics import accuracy_score, precision_score, recall_score, f1_score, roc_auc_score\n",
    "\n",
    "# Crear un clasificador Rocket con 5000 kernels (puedes ajustar este valor según tus necesidades)\n",
    "clf = RocketClassifier(num_kernels=5000)\n",
    "\n",
    "# Ajustar (entrenar) el clasificador con los datos de entrenamiento\n",
    "clf.fit(X_train, y_train)\n",
    "\n",
    "# Realizar predicciones en los datos de prueba\n",
    "y_pred = clf.predict(X_test)\n",
    "\n",
    "# Avaliar o modelo no conjunto de teste\n",
    "accuracy = accuracy_score(y_test, y_pred)\n",
    "precision = precision_score(y_test, y_pred)\n",
    "recall = recall_score(y_test, y_pred)\n",
    "f1 = f1_score(y_test, y_pred)\n",
    "roc_auc = roc_auc_score(y_test, y_pred)\n",
    "\n",
    "# Exibir os resultados\n",
    "print(f\"Accuracy: {accuracy}\")\n",
    "print(f\"Precision: {precision}\")\n",
    "print(f\"Recall: {recall}\")\n",
    "print(f\"F1 Score: {f1}\")\n",
    "print(f\"ROC AUC: {roc_auc}\")"
   ]
  }
 ],
 "metadata": {
  "kernelspec": {
   "display_name": "Python 3",
   "language": "python",
   "name": "python3"
  },
  "language_info": {
   "codemirror_mode": {
    "name": "ipython",
    "version": 3
   },
   "file_extension": ".py",
   "mimetype": "text/x-python",
   "name": "python",
   "nbconvert_exporter": "python",
   "pygments_lexer": "ipython3",
   "version": "3.10.11"
  },
  "orig_nbformat": 4
 },
 "nbformat": 4,
 "nbformat_minor": 2
}
