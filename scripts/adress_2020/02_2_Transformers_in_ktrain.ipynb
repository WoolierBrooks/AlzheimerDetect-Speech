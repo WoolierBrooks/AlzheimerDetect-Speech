{
  "cells": [
    {
      "cell_type": "markdown",
      "metadata": {
        "id": "DgfHNcOPbOk3"
      },
      "source": [
        "### A Simplied Interface to Text Classification With Hugging Face Transformers in TensorFlow Using [ktrain](https://github.com/amaiya/ktrain)"
      ]
    },
    {
      "cell_type": "code",
      "execution_count": 1,
      "metadata": {
        "id": "sAYBZG2SX4nP",
        "colab": {
          "base_uri": "https://localhost:8080/"
        },
        "outputId": "50698630-f098-459e-d706-4c42540732e1"
      },
      "outputs": [
        {
          "output_type": "stream",
          "name": "stdout",
          "text": [
            "\u001b[2K     \u001b[90m━━━━━━━━━━━━━━━━━━━━━━━━━━━━━━━━━━━━━━━━\u001b[0m \u001b[32m25.3/25.3 MB\u001b[0m \u001b[31m25.3 MB/s\u001b[0m eta \u001b[36m0:00:00\u001b[0m\n",
            "\u001b[?25h  Preparing metadata (setup.py) ... \u001b[?25l\u001b[?25hdone\n",
            "\u001b[2K     \u001b[90m━━━━━━━━━━━━━━━━━━━━━━━━━━━━━━━━━━━━━━━━\u001b[0m \u001b[32m981.5/981.5 kB\u001b[0m \u001b[31m31.6 MB/s\u001b[0m eta \u001b[36m0:00:00\u001b[0m\n",
            "\u001b[?25h  Preparing metadata (setup.py) ... \u001b[?25l\u001b[?25hdone\n",
            "  Preparing metadata (setup.py) ... \u001b[?25l\u001b[?25hdone\n",
            "  Preparing metadata (setup.py) ... \u001b[?25l\u001b[?25hdone\n",
            "\u001b[2K     \u001b[90m━━━━━━━━━━━━━━━━━━━━━━━━━━━━━━━━━━━━━━━━\u001b[0m \u001b[32m468.8/468.8 kB\u001b[0m \u001b[31m29.2 MB/s\u001b[0m eta \u001b[36m0:00:00\u001b[0m\n",
            "\u001b[?25h  Preparing metadata (setup.py) ... \u001b[?25l\u001b[?25hdone\n",
            "  Preparing metadata (setup.py) ... \u001b[?25l\u001b[?25hdone\n",
            "  Preparing metadata (setup.py) ... \u001b[?25l\u001b[?25hdone\n",
            "  Preparing metadata (setup.py) ... \u001b[?25l\u001b[?25hdone\n",
            "  Preparing metadata (setup.py) ... \u001b[?25l\u001b[?25hdone\n",
            "  Preparing metadata (setup.py) ... \u001b[?25l\u001b[?25hdone\n",
            "  Preparing metadata (setup.py) ... \u001b[?25l\u001b[?25hdone\n",
            "  Building wheel for ktrain (setup.py) ... \u001b[?25l\u001b[?25hdone\n",
            "  Building wheel for keras_bert (setup.py) ... \u001b[?25l\u001b[?25hdone\n",
            "  Building wheel for keras-transformer (setup.py) ... \u001b[?25l\u001b[?25hdone\n",
            "  Building wheel for keras-embed-sim (setup.py) ... \u001b[?25l\u001b[?25hdone\n",
            "  Building wheel for keras-layer-normalization (setup.py) ... \u001b[?25l\u001b[?25hdone\n",
            "  Building wheel for keras-multi-head (setup.py) ... \u001b[?25l\u001b[?25hdone\n",
            "  Building wheel for keras-pos-embd (setup.py) ... \u001b[?25l\u001b[?25hdone\n",
            "  Building wheel for keras-position-wise-feed-forward (setup.py) ... \u001b[?25l\u001b[?25hdone\n",
            "  Building wheel for keras-self-attention (setup.py) ... \u001b[?25l\u001b[?25hdone\n",
            "  Building wheel for langdetect (setup.py) ... \u001b[?25l\u001b[?25hdone\n",
            "  Building wheel for tika (setup.py) ... \u001b[?25l\u001b[?25hdone\n"
          ]
        }
      ],
      "source": [
        "!pip install -q ktrain"
      ]
    },
    {
      "cell_type": "markdown",
      "metadata": {
        "id": "Cdk5lPu3bxze"
      },
      "source": [
        "### Load a Dataset Into Arrays"
      ]
    },
    {
      "cell_type": "code",
      "execution_count": 12,
      "metadata": {
        "colab": {
          "base_uri": "https://localhost:8080/"
        },
        "id": "-rSbSqApYPBe",
        "outputId": "c6eb4fd8-4acd-4c6a-faa0-a5dd7b12846b"
      },
      "outputs": [
        {
          "output_type": "stream",
          "name": "stdout",
          "text": [
            "size of training set: 108\n",
            "size of validation set: 48\n",
            "classes: ['0', '1']\n"
          ]
        }
      ],
      "source": [
        "classes = [\"0\", \"1\"]\n",
        "x_train = [\"well there's a mother standing there &uh &uh washing the dishes \\tan(d) the sink is overspilling [: overflowing] [* s:r] .  an(d) &uh the window's open .  and outside the window there's a <walk with a> [//] &c curved walk \\twith a garden .  and you can see another &uh &uh building there .  looks like a garage or something with curtains and the grass in the \\tgarden .  and there are dishes [//] &uh &uh two cups and a saucer on the sink \\t.  and &uh she's getting her feet wet from the overflow of the water \\tfrom the sink .  she seems to be oblivious to the fact that the &s sink is \\toverflowing .  she's also oblivious to the fact that her kids are stealin(g) \\tcookies out o(f) the cookie jar .  and the kid on the stool is gonna fall off the stool .  he's standing up there in the cupboard takin(g) cookies out o(f) \\tthe jar, handin(g) them to his [//] &uh a girl about the same age . \\t the kids are somewhere around seven or eight years old or nine .  an(d) the mother is gonna get shocked <when the> [/] when the [//] \\the tumbles and the cookie jar comes down .  an(d) I think that's about all . [+ exc]\", 'somebody\\'s getting cookies out_of the cookie jar, standing on a \\tstool .  the stool\\'s gonna tip over .  and the girl\\'s saying +\"/.  +\" shh don\\'t let somebody hear .  and the mother\\'s drying dishes .  the water\\'s running out into the floor .  cups and plates are sitting on the counter .  &ou you can look out the window and see the shrubbery .  &um the lid\\'s sideways from the cookie jar .  the door is open on the cabinet .  &um mother apparently doesn\\'t really notice well enough &=laughs . \\t &hm curtains are hanging on the window .  the window is open .', \"okay . [+ exc]  there's a little boy and <he's getting> [//] he's standing on a \\tstool that's upsetting .  and he's getting a cookie and he's sharing a cookie with the little \\tgirl who is shushing her mother with her finger and reaching for the \\tcookie at the same time .  on the &k +... [+ exc]  <what are> [/] what are the instructions ? [+ exc]  just give as many details like +/? [+ exc]  action . [+ exc]  or [/] &d or +/. [+ exc]  +< oh okay . [+ exc]  the cupboard door is open .  the stool is crooked .  the water is splashing on the floor .  the &m &uh mother is [//] &um <I'm assuming it's a mother> [//] is \\tstepping in it .  she's drying her dishes .  the &uh sink is overflowing .  the cups and the saucers are there .  the window is open and you see the lawn outside .  and it must be summertime .  they all have on &shor short sleeves .  and &uh she's wearing an apron .  (..) okay . [+ exc]\", 'are you ready ? [+ exc]  &um well the sink is overflowing . mother is standing in the water like a jerk . she\\'s wiping the dishes also like a jerk . &um there [//] (.) &uh the [/] the [/] the boy is trying to get a \\tcookie out_of the cookie jar but boy he\\'s about to fall off the \\tstool . his sister <has her> [/] has her <hand up> [//] finger up to her \\tmouth like she\\'s saying +\"/.  +\" shh .  to be quiet +\".  +\" don\\'t let mother know what you\\'re doin(g) .  and he\\'s about to hand her a cookie .  but &um in a few moments it\\'s going to be like total catastrophe . \\t mother [//] the reason the water\\'s flowing out over the sink is \\tbecause the water is running furiously . &um and I\\'m looking out through the window .  and I don\\'t see anything going on out there .  unless [//] &m I don\\'t +//.[+ exc]  that\\'s just a bush I\\'m presuming or a plum pudding . &um I told you the stools about to go over . in a moment there\\'s going to be real chaos which will make what\\'s \\tgoing on in the picture look like nothing . the cookie jar is full . the lid is off the cookie jar .  and the +//. [+ exc]  do you want me to tell you all of those things ? [+ exc]  the [<] [/] the cabinet door has just swung open . stool is about to fall . [+ gram]  I guess I\\'ve just told you that . [+ exc]  with a terrible crash . [+ gram]  &um mother is daydreaming .  she doesn\\'t even know what\\'s going on behind her . I think that\\'s very important and sometimes typical . [+ exc]  &um seems to be all I can see . [+ exc]', 'okay . [+ exc]  <many &dish or> [//] the mother\\'s washing the dishes and the sink \\tis overflowing .  she has some of them &uh dried already on the side as she\\'s looking \\tout the window while the little boy is falling off the stool \\t(be)cause he\\'s getting into the cookie jar to give to his little \\tsister who\\'s reaching up to get the cookie also .  &um there\\'s water all over the floor .  &uh there\\'s [//] the garden is outside and the mother\\'s not paying \\tany attention to what they do .  the stool is tipping .  <the cookie jar> [//] the &um &uh door is open .  &um there may be a little breeze coming in because the [//] this \\twindow is open .  &um (.) &uh the little girl <(i)s saying> [//] has her finger to \\ther mouth +\"/.  +\" shh &t we won\\'t tell mother while you give me the cookie .  &um (.) it\\'s in the kitchen of_course and &uh <the cups> [//] two \\tcups and a dish already have been dried .  and &uh the mother\\'s stepping in the water and she\\'s probably so \\tengrossed in what she\\'s doing outside she neither knows what the \\tchildren are doing nor is she paying any attention that the water\\'s \\toverflowing .', \"(.) okay . [+ exc]  mother is drying the dishes but the water is going out over the \\tsink onto the floor .  &ah it's a pretty day outside .  lots of flowers . [+ gram]  there are three dishes left (.) to wash [//] dry I guess .  she's standing in the water .  looks dangerous . [+ gram]  the children &i are getting into the cookie jar .  the boy's up there on the stool .  and that's almost falling over .  he's got one cookie in his hand .  he's handing it to the little girl .  and he's getting another one out_of the cookie jar cupboard .  (..) did you say action that is going on ? [+ exc]  &uh the little girl is [//] kinda [: kind_of] [//] has her hand up \\tto her mouth .  looks like she's trying to eat it or be quiet or she's laughing \\t&=laughs . [+ gram]  the mother doesn't seem to be paying much attention .  she looks like she's looking out the window .  (.) the water is splashing onto the floor .  that's it . [+ exc]\", \"boy &uh taking cookies out_of a cookie jar . [+ gram]  the stool is falling .  the little girl is reaching .  water is running out o(f) the faucet .  the water is overflowing the sink .  woman is <washin(g) dishes> [//] (...) drying dishes . [+ gram]  there's nothing to indicate xxx and I don't see any more action . \\t[+ exc]\", \"a boy is taking &uh cookies from the cookie jar giving one to his \\tsister .  he's also falling off the stool he is on .  the mother is washing dishes .  she's letting the sink overflow .  it's getting all over the floor .  I see nothing further . [+ exc]  (...) the girl is saying be quiet <if that> [/] if that counts .  I don't know what the mother gets by standing in all the water . \\t[+ exc]  I don't think that's very important . [+ exc]  that's all I see . [+ exc]  +< <what have> [/] what have I missed ? [+ exc]\", \"&=clears:throat a girl and a boy and a stool . [+ gram]  cookies . [+ gram]  cookie jar . [+ gram]  open closet . [+ gram]  curtains . [+ gram]  oh the little boy's reaching for the cookies and the stool's \\tfalling over .  she's laughing I think &wai waiting for a cookie .  the mother's drying dishes .  the water's spilling over .  there's two tea [//] &k coffee cups, a saucer a plate .  let me see . [+ exc]  the (.) view from the outside . [+ gram]  a tree and some shrubs . [+ gram]  (..) the plate she's wiping . [+ gram]  tea towel . [+ gram]  any more ? [+ exc]\", \"okay . [+ exc]  &uh the mother is wiping a dish at the sink .  &um the water is overflowing from the sink .  a youngster's about to fall off a stool reaching for a cookie jar . \\t and the little girl is holding up her hand to grab a cookie out_of \\this hand .  (.) the window appears to be open but I can't make out any action \\tin the background there .  that's all . [+ exc]\", \"okay . [+ exc]  &uh fellow falling off a stool . [+ gram]  also taking cookies from the cupboard . [+ gram]  &uh sister standing . [+ gram]  outstretched hand . [+ gram]  oh, okay . [+ exc]  water running out_of the sink . [+ gram]  &uh woman drying dish . [+ gram]  &uh (.) <the water> [//] got the water . [+ exc]  I don't see anything happening outside .  &uh do [/] do you want like the window's open that sort of thing ? \\t[+ exc]  <is that> [/] is that +..?  no, you don't want that . [+ exc]  just action +//? [+ exc]  xxx oh . [+ exc]  okay . [+ exc]  that's it . [+ exc]  +< I didn't see any other action . [+ exc]\", \"all of the action you see going on . [+ exc]  okay . [+ exc]  this is in the kitchen .  and the little boy is climbing up to the cookie jar and he's [//] \\thas the lid off and he's getting a cookie for his sister and handing \\tit down to her and one for himself .  the mother has her back turned .  she's standing at the sink washing dishes .  she's probably looking out the window (be)cause the sink is running \\tover on the floor .  the stool is tipping for the little boy and he's going to fall off \\tand in a couple o(f) minutes .  and the window's open xxx . the water is running in the sink is why it's xxx out .  now I see . [+ exc]  the mother's drying a dish .  +< mhm . [+ exc]\", \"well the girl is watching the boy go into the cookie jar .  he has a cookie in his hand .  he's on the stool .  the <stool is> [/] stool is falling .  the mother is drying dishes .  has a plate in her hand . [+ gram]  sink is overflowing . [+ gram]  there's water on the floor .  she's stepping in the water .  something that's going on you said ? [+ exc]  <she looks> [//] the little girl looks like she's motioning to the \\tboy to be quiet .  and &uh (.) I don't know what else . [+ exc]  the woman's looking out the window .  the window's open .\", \"well I see the mother doing the dishes .  <the sink> [//] the water running over in the sink . [+ gram]  the boy's taking cookies from the cookie jar and he [//] &l the \\tstool is falling over and the little girl has her hands up to her \\tmouth in other words to be quiet .  &um and the stool's falling .  yeah that's it . [+ exc]  she has her hand up for him to pass her a cookie then be quiet .  mother's +...  the dishes in the sink &s +//.  yeah okay . [+ exc]\", \"all of the action . [+ exc]  &uh just go ahead and tell you ? [+ exc]  the mother is dryin(g) a plate .  and the water's [//] sink is clogged and there's more water going \\tover and it's splashin(g) onto the floor .  and the [/] &s the boy's fallin(g) off the stool gettin(g) cookies \\tfrom the cookie jar .  (.) and the girl's puttin(g) her finger up to her lip which means I \\twon't tell or somethin(g) like that .  &uh shoes are gettin(g) wet in the mother . [+ gram]  (.) I'm lookin(g) outside but I don't see it doin(g) anything .  <it doesn't look> [//] snowy ? [+ exc]  doesn't have too much to tell with that . [+ exc]  that's about the [//] all the action I see is the water spillin(g) \\tover and the boy fallin(g) off the stool .  I don't know that snow is action . [+ exc]  I don't see it snowin(g) . [+ exc]  it looked light out there . [+ exc]  I don't know . [+ exc]\", \"okay . [+ exc]  well the mother is drying the dishes .  the sink is overflowing .  &um the little girl's reaching for a cookie .  and her brother's taking cookies out_of the cookie jar .  and the stool is going to &f knock him on the floor &=laughs .  he's going to fall on the floor because the stool's not &uh what \\t+/.  +, with gravity . [+ exc]  whatever . [+ exc]  &uh the &uh curtains are blowing I think .  that's all I can see . [+ exc]\", \"(.) boy's fallin(g) off a stool . [+ gram]  the lid is fallin(g) off a cookie jar .  he's grabbin(g) a cookie in his hand .  the girl is reachin(g) up .  she's touchin(g) her nose .  xxx . [+ exc]  the other side, the mother's washin(g) dishes . [+ gram]  the sink is runnin(g) over .  (.) her feet's [* m:a] gettin(g) wet (.) as she's lookin(g) out the \\twindow . [+ gram]  that'd be pretty difficult to look out the window and get your feet \\tgettin(g) wet at the same time but that's what it is . [+ exc]  okay . [+ exc]\", '&um the boy is taking &uh cookies .  &uh the girl is [/] is saying +\"/.  +\" quiet .  he\\'s [/] he\\'s [//] the boy is falling off the stool .  &uh the mother is drying dishes .  the water is running over the sink .  &um the curtains are blowing in the breeze .  &um &hm [x 3] . [+ exc]  the girl is puttin(g) her hand up to have him pass the cookies .  &um she\\'s dryin(g) the dishes .  the water\\'s runnin(g) over .  (i)t\\'s splashing on the floor .  (.) well the window\\'s open but that\\'s not action .  that\\'s the curtain blowing right ? [+ exc]  I guess that\\'s it . [+ exc]  he\\'s passin(g) her the cookies .  did I say that ? [+ exc]  and he\\'s taking them out o(f) the jar .', 'alright . [+ exc]  &um the mother is standing at the kitchen sink .  the water is overflowing the sink and she\\'s paying no attention to \\tit even though her foot is in a puddle .  &uh she\\'s drying a plate .  the window is open .  I believe it\\'s open and it looks out onto the sidewalk and the &n \\t&um house or garage next door .  it has curtains in the window .  &um the &w woman is smiling .  &um there are cup [/] two cups and a plate on the counter .  <the &s boy> [/] the little boy is on the stool which is tipping \\tover and he\\'s reaching for a cookie .  he has one right in hand down to his sister or a friend .  and he\\'s taking another one out_of the cookie jar .  the lid is slid off to the side .  the little girl is standing beside him &um on the floor .  and &um she &uh has her finger up to her lips as if she\\'s \\tsaying +\"/.  +\" be quiet mother might hear you .  and she\\'s reaching up her hand for the cookie he has .  cupboard door is open . [+ gram]  obviously . [+ exc]', \"okay . [+ exc]  water running out_of the sink . [+ gram]  lady dryin(g) a plate . [+ gram]  an(d) a child getting cookies out_of the cookie jar standing on a \\tstool that is tipping over . [+ gram]  an(d) a little girl reaching up for a cookie . [+ gram]  and &um (.) curtains at the window . [+ gram]  a path outside . [+ gram]  a tree . [+ gram]  &w a window into another room . [+ gram]  shrubbery . [+ gram]  grass . [+ gram]  let's get back to the room again . [+ exc]  there's <a cup> [//] two cups and a plate sitting on the \\tcounter+top .  cupboards . [+ gram]  the lady has a apron on, dress, slippers .  and the boy has on a short sleeve shirt, short pants, socks, and \\t&sh shoes .  little girl has on a dress, socks, strap slippers . [+ gram]  (..) did I mention everything ? [+ exc]  sink .  faucet (.) with water running out_of it . [+ gram]  an open window behind the [/] (.) the sink . [+ gram]  tie back curtains . [+ gram]  (..) and that's all I see . [+ exc]\", \"look at the picture xxx ? [+ exc]  oh okay . [+ exc]  <one of the> [//] the boy is on the stool getting cookies from the \\tcookie jar and giving them to the girl but the stool is about ready \\tto tip over .  &uh the mother is drying the dishes as the sink faucet has filled \\tthe sink bowl and is running over onto the floor .  &uh that's all the action . [+ exc]  let's see . [+ exc]\", \"+< washing +/.  washing dishes or wiping dishes . [+ gram]  the water's running over the sink .  the kid is stealing the cookies .  &uh he's falling over on the stool .  the wind is blowing outside the window .  &uh the girl is [/] is &uh saying “be quiet” and looking for \\tanother cookie .  she is like Eve encouraging him to steal (th)em you_know .  &uh she's standing in a puddle .  she's thinking deeply about something I don't know what .  that's about all I see . [+ exc]\", \"action . [+ exc]  +< alright . [+ exc]  a lady's drying dishes .  the boy is [//] was standing on a stool but the action is that the \\tstool has slipped and he is falling .  and the girl has her hand raised &uh reaching for a cookie .  and there's a_lot_of action in the sink here .  the water is flowing out .  she is apparently so distract [//] daydreaming that she can't [//] \\tdoesn't realize that the sink is overflowing .  &uh any more action ? [+ exc]  or is that enough action ? [+ exc]\", \"okay the little boy is on a stool about to fall .  the stool's about to upset .  and he has a cookie in each hand, handing [//] about to hand one \\tcookie to the little girl who is standing there with her hand \\treached up for the cookie .  and the water is running over <into the dishpan there or> [//] into \\tthe sink .  and <the mother or> [//] the lady is standing there drying a dish . \\t two [/] &s &uh two cups and a plate are on the &um counter there . \\t and [/] &sh and out the window there's a walk+way and [/] and [/] \\t&win and you can see a window across (.) from the &uh walk+way &uh \\tdrapes .  what's happening you said, huh ? [+ exc]  okay that's [/] that's what's happening I guess . [+ exc]  thank +/. [+ exc]\", \"well the little girl is saying to be quiet to her brother .  and her brother's in the cookie jar and he's falling off the chair \\t[: stool] [* s:r] .  the mother's oblivious to all .  she's washing her dishes and the water's coming out_of her sink .  I don't know what she's thinking of . [+ exc]  &um let's see what we have . [+ exc]  anything outside ? [+ exc]  (.) I guess those are bushes .  I don't know . [+ exc]  okay . [+ exc]  nothing out there . [+ exc]  these are okay . [+ exc]  the dishes are okay .  let's see . [+ exc]  how are their shoes ? [+ exc]  their socks are alright .  I don't know . [+ exc]\", \"mhm . [+ exc]  well the water's running over on the floor .  &uh the chair [: stool] [* s:r] is tilting .  the boy is into the cookie jar .  and his sister is reaching for a cookie .  the mother's drying dishes .  &um do you want action or just want anything I see ? [+ exc]  okay . [+ exc]  mhm . [+ exc]\", \"well this &uh little boy is up on the stool taking cookies handing \\tthem down to his sister and she's telling him to be quiet and the \\tstool is tipping over .  the mother is <washing or> [//] drying dishes .  the water is running into the sink and running over down onto the \\tfloor .  &uh the wind must be blowin(g) (be)cause the curtains look like \\tthey're +...  <kitchen door> [//] the cabinet door is open .  mother's standing in water .  that's it . [+ exc]\", \"&hm . [+ exc]  touching lip . [+ gram]  raising arm . [+ gram]  is that what you mean ? [+ exc]  +< &lea reaching for cookie . [+ gram]  handing cookie down . [+ gram]  slipping from stool . [+ gram]  stool falling over . [+ gram]  &um wiping dishes . [+ gram]  water running . [+ gram]  water overflowing . [+ gram]  &um breeze . [+ gram]  I don't know if that's action . [+ exc]  &um stepping out from water . [+ gram]  I guess that's it . [+ exc]\", \"well &uh for one thing this boy's on the stool gettin(g) cookies . \\t and his stool's (a)bout to fall .  and [/] and the little girl's reaching for some cookies .  she got her finger in her mouth .  &um the mother's dryin(g) dishes and water's runnin(g) over .  <she got her> [//] &pl yeah and she dryin(g) dishes water's \\trunnin(g) over .  she's standin(g) in water .  there's a sink there .  plate and a cup . [+ gram]  outside you can see outside there the [/] the walk+way and hedges, \\ta window, tree .  and &uh <outside the> [//] &cup the cookie jar would hafta be in \\tthe cupboard .  and there's a <what you call it> [//] the counter on in the kitchen \\t. [+ gram]  that's [//] and the curtains . [+ gram]  and the window . [+ gram]\", \"everything that I see going on . [+ exc]  okay . [+ exc]  well a little boy is stealing a cookie from the cookie jar .  he's also handing a cookie with his left hand to the girl .  he's also falling off a stool or the stool is tipping over .  the little girl is reaching for the cookie .  at the same time she's picking her nose or something &=laughs .  I don't know what's she's doing &=laughs . [+ exc]  &=laughs &uh (.) it looks like maybe the lid is falling from the \\tcookie jar .  I'm not sure . [+ exc]  the lady is wiping a plate while the sink overflows .  and she's standing in a puddle of water .  am I going too fast ? [+ exc]  and she's looking out the window .  I can't make out anything in particular going on outside . [+ exc] \\t <the water> [//] the faucet's turned on of_course which is causing \\tthe sink to overflow .  and the water is splashing on the floor .  that's really about all I can tell going on so to speak . [+ exc]\", \"I [//] do I start ? [+ exc]  the children are getting into the cookie jar which is <on the> [//] \\t&uh high above &uh the &uh sink .  they have the &um &uh lid off the cookie jar .  the boy has two in his hand and the girl is reaching up for them . \\t and the &uh stool in which he's standing is about to upset .  course the door is open <into the> [//] to get the cookie jar .  the &uh mother presumably is at the sink washing &uh dishes .  and the &um &uh sink is running over .  the water is splashing down on the floor .  &uh there are two I suppose dry dishes on the [/] &uh the sink .  she has one in her hand a plate that she is drying .  she has it on an apron .  <she's standing by> [//] the sink is &uh below a window with a [/] \\t&um a path out into a [/] a garden .  &uh <there are> [//] &mm there's shrubbery to the left of the path \\t.  and you can see beyond that another window .  and &um I don't know what that is whether those are flowers or \\tweeds .  and oh &uh this is part of the house .  you can see the &uh roof of &uh maybe an l@l of a house and the \\tcurtains .  that's about all . [+ exc]  the curtains are drawn back .\", \"well let's see . [+ exc]  the boy is taking cookies out_of the cookie jar .  and the little girl is laughing .  and the boy is falling off the stool .  and the mother's washing dishes .  and the water is running over .  and (..) I don't know whether the wind is blowing or not &=laughs . \\t[+ exc]\", \"water's pouring out_of the sink .  and the woman is washing dishes .  the &uh child is &fa on a stool falling off as he's reaching for \\tthe cookie jar with his right hand and &uh trying to hand the other \\tcookies to a little girl who's reaching up with her left hand to get \\tthe cookie .  and her right hand looks like she's almost &uh trying to make a \\tsignal of silence so the mother doesn't hear it .  the mother's &wa feet are in the water as it's pouring on the floor \\t.  and the window is open .  you can see a yard outside .  there's a dish and cups on the sink .  and the curtains are pulled back so you can see out the window .  the cupboard door is open .  and &uh they're all fully dressed .  and they have sort_of a nondescript expression on their face .  the woman has her mouth open a little bit .  we(ll) each one of them have their mouths open a little bit .  and &um (.) that's about it . [+ exc]\", \"can I start ? [+ exc]  there is a boy on the stool .  the stool is tipping over .  the boy is taking cookies out_of the jar .  &uh the cupboard is open .  the girl is saying [//] puttin(g) her finger to her mouth and also \\tputtin(g) her hand out for a cookie .  the mother is washing dishes .  water is spilling over from the sink onto the floor .  and the [/] the window is open, the drapes are open .  there's two cups and a saucer on the sink .  and the [//] she is stepping on the water on the floor .  and she is drying the dishes .  and she is looking outside <at the wow> [//] at the shrubbery .  the boy is handing the girl a cookie .  that is all . [+ exc]\", \"okay is there a number of things ? [+ exc]  I_mean &eh &eh do I hafta come up with a certain amount ? [+ exc]  oh okay [>] . [+ exc]  okay [>] . [+ exc]  number one the boy is stealing some cookies and he's falling over \\tfrom the chair [: stool] [* s:r] that's (.) not setting straight .  and the sink is overflowing .  you wanna know everything that's wrong with the picture or &eh +..? \\t[+ exc]  everything [<] that's happening . [+ exc]  okay . [+ exc]  it looks like it's a nice summer day outside .  and the lady's dryin(g) the dishes .  and &uh everything that's happening . [+ exc]  and she's standing in the water .  better get out o(f) there &=laughs . [+ gram]  (..) the girl seems to be giggling .  looks like &uh the mother is a little p_o'd [: pissed off] .  and &uh (.) that's about all I can see . [+ exc]\", \"there's a child reaching for a cookie .  the chair [: stool] [* s:r] is tilted .  the girl is possibly moving her finger towards her mouth and \\treaching for a cookie .  water's running out_of the sink .  the mother's drying dishes .  somebody's gonna be screamin(g) when the kid falls .  &uh I don't know if it's action but mom was standin(g) in water .  that's about all I see . [+ exc]\", \"we'll start with the girl .  she's going to the +//.  he steal a cookie . [+ gram]  <her brother is>[/] her brother is taking cookies out_of a jar .  and he got careless .  she's askin(g) him for one .  so he's handin(g) one down to her .  in the meantime he is gettin(g) reading to fall <off of a> [/] off \\tof a stool, a three legged stool .  and the mother's not payin(g) much attention .  she's lookin(g) out the window .  and in looking out the window why she's lettin(g) her sink run over \\tand the water's splashin(g) on the floor all over her .  and &uh what else ? [+ exc]  the outside looks alright .  there's more here . [+ exc]  <she's drying> [/] she's drying a dish .  and (.) she has two cups and a plate on the table .  well I did say she was lettin(g) the &uh water run over the sink \\tdown onto the floor, splashin(g) onto her feet .  oh boy . [+ exc]  then there's an angle here that is incomplete <of the> [/] &s of \\tthe corner where the &uh wall comes together .  &hm let's see what else . [+ exc]  &uh let's see . [+ exc]  the [//] &ta there's a plate, two [/] &sau two cups .  oh &sh I did say she's lettin(g) the water run over the sink didn't \\tI ? [+ exc]  yes . [+ exc]  now she (i)s [//] seems to be looking out the window while she's \\tdrying her dish .  how_(a)bout that ? [+ exc]\", \"I see a boy &um getting <in the> [/] in the cookie jar . he's handing a [//] cookies to his sister . his sister is standing on the floor receiving the cookies . the boy is standing on the stool and it is in the process of \\ttoppling over . the cookie jar is &uh quite full at the present time . the lid is off the cookie jar . the mother is standing at the kitchen sink . she is wiping dishes . &uh the sink is overflowing . the water is running onto the floor splashing onto the floor . &uh there are other dishes .  there's a dish and two other cups on the counter beside her .  &um in [//] <near her or> [//] over the sink is a window with \\tcurtains .  and &uh the window is open . and &uh the [//] outside there is a tree and grass and shrubbery in \\tsight . also a path and &uh &uh a window <into the> [//] into &uh a garage \\tor another portion of the house is visible .\", \"<the boy's> [//] &uh the girl's makin(g) fun of the boy .  she made fun of him so much while he was stealin(g) a cookie out \\to(f) the cookie jar .  and it made him trip .  and he's going to fall .  the mother's listening to the kids .  she's drying dishes .  she got the window open against a mirror .  she's isn't payin(g) attention to the sink .  the sink's spillin(g) water onto the floor .  it's gettin(g) her feet wet .  the curtains are open to allow &uh fresh air to come in the house . \\t there's two &uh cups <on the> [//] &st a dish on the sink .  and the faucets are open and the cupboard door (i)s open .  &uh looks like it might be &su spring or summer out because things \\tlook like they're growin(g) outside .  &uh she has shoes on .  she has shoes on .  he has shoes on .  she has shoes on .  she has a dress, dress, apron, shirt, shorts, socks, socks .  &uh the lid (i)s off the cookie jar .  there's &uh &s a fancy sink cabinet over here and a fancy wall \\tcabinet over there .  that's about it . [+ exc]\", \"&uh it's &uh a kitchen scene .  and the mother is doing the dishes .  the children are trying to get into the cookie jar .  the stool is falling over .  the water is running over in the sink .  the [//] &um &win it looks as though the window is open .  and there (.) is grass and what have you, &t grass and trees \\toutside .  looks like the curtains might be billowing a little . [+ gram]  the little girl is asking the boy for a cookie .  and let's see . [+ exc]  the mother's drying the dishes .  and (..) she's standing in the water .  looks like there are a couple dishes that have already been dried \\tsitting on the sink . [+ gram]  (..) I guess that's all I see . [+ exc]  pardon me ? [+ exc]  I might have missed it what you said . [+ exc]  oh I said the little boy's tryin(g) to get some cookies out_of the \\tcookie jar . [+ exc]  and the little girl's asking for a cookie . [+ exc]  and the stool looks as though it's going to fall over . [+ exc]\", \"everything that's going on okay . [+ exc]  &m mother's wiping dishes .  the sink is overflowing .  the mother's looking out the window .  the little boy is getting cookies out_of the cookie jar .  the ladder [: stool] [* s:r] on which he is standing is tipping \\tover .  and the little girl I think is asking for a cookie .  (.) I did say the sink's overflowing . [+ exc]  why isn't <anything do> [//] anybody doing anything about that ? \\t[+ exc]  there's dishes <on the> [/] &um <on the> [/] &cou on the counter . \\t +< isn't that it ? [+ exc]\", \"girl is reaching up . [+ gram]  the boy is [/] is &uh taking cookies out_of the cookie jar .  &uh the &uh stool is tilting .  mother is washing the dishes .  the water's running over .  the wind is blowing the &uh curtains .  (.) the mother is drying the dishes .  the boy is reaching down to I guess his sister .  the boy is climbing but he's gonna fall .  (.) and the mother's drying the dishes .  I think I said that . [+ exc]  the water's running and running down .  and that's all I see on that . [+ exc]\", \"alright . [+ exc]  boy is getting into the cookie jar . [+ gram]  he's got one in his hand .  the stool is falling over as he's reaching for the cookies .  the girl is laughing at him .  mother is s:tanding by the kitchen sink drying dishes .  the water is on and <it is:> [//] the sink is spilling over .  there is &uh a window over the sink which shows a [/] a yard .  there are curtains .  there are looks like two cups and a plate on the sink .  &uh there's a set of kitchen cabinets .  and the mother has on an apron and a sleeveless dress .  &um (.) &eh (..) the girl has on a &s dress or a skirt and blouse . \\t the boy looks like he's got on short trousers and a shirt with a \\tsweater .  cookie jar is full o(f) cookies . [+ gram]  the lid is off .  that's it ! [+ exc]\", \"well, there's a kid stealin(g) cookies from the cookie jar and his \\tstool's about to topple over .  his [/] his sister's asking for one .  the cookie jar is open of_course the cupboard's open .  the mother's drying dishes the sink is overflowin(g) .  there are some dishes on the side board .  window's open . [+ gram]  I don't know what else you want . [+ exc]  there are curtains in the window .  I don't know if there's any +/. [+ exc]\", \"okay . [+ exc]  the boy is standing up trying to get the cookie jar and the &uh \\tstool is falling .  the girl is reaching up to get a cookie out_of his hand .  the mother is at the window washing dishes .  the sink is overflowing on [//] getting on her shoes .  and there are saucers and a plate on the +...  oh â€¡ you wanna know what is going on ? [+ exc]  you want me to tell you what's on the &uh sink too and everything ? \\t[+ exc]  +< oh . [+ exc]  well <that is> [//] that's all I see happening plus stuff going \\toutside . [+ exc]\", \"the kids are swiping some cookies and [/] &uh and a stool is \\tupsetting .  and <the kid> [//] the girl's tellin(g) him to be quiet so his \\tmother over there washin(g) dishes and the sink's overflowin(g) . \\t[+ gram]  and &uh the window's up .  and &uh I don't see much more than that . [+ exc]  she's dryin(g) dishes .  did you say action ? [+ exc]  I about it . [+ exc] [+ gram]  cookie jar lid's fallin(g) . [+ gram]\", \"okay . [+ exc]  the boy is taking cookies out_of a closet with one hand trying to \\tgive the cookies to his sister with another (.) while he is falling \\toff a three [/] three prong stool .  his mother is washing dishes .  and the dishwasher is overflowing onto the floor .  and the curtains are billowing .  and the girl is eating (.) or toying .  it's difficult to tell . [+ exc]  that's the only action I see . [+ exc]\", \"the &uh water's running on the floor .  boy's taking <cookies out of> [//] cookie out_of the cookie jar . \\t[+ gram]  the stool is falling open [: over] [* s:r-ret] [//] over .  the girl was asking for a cookie .  the wife is wiping the dish xxx .  I guess not . [+ exc]\", 'beginning now ? [+ exc]  boy is getting [//] reaching for cookies . [+ gram]  the stool is falling over .  his sister is reaching at [//] &uh for cookies .  &uh &s woman\\'s wiping the dishes . [+ gram]  the sink is running over .  &um curtains &um are blowing a little bit but not much . [+ gram]  the boy is stepping on one of his own toes .  &uh the little girl\\'s telling him to +\"/.  +\" be [/] &q be quiet .  +\" don\\'t let mommy see .  that\\'s about it yeah . [+ exc]', \"the kids are in the cookies .  the stool is falling over .  the mother's spilling the water and also drying the dishes .  and the wind might be blowing the curtains .  and the water's running .  &uh I can't tell is anything going on outside or not . [+ exc]  I guess that's all I see . [+ exc]  that's not very many . [+ exc]\", \"you mean right now tell you ? [+ exc]  &uh the boy is stealing cookies out_of the jar . and he's on a stool that's falling down .  and the girl is laughing at him . and the mother is washing dishes but she's preoccupied .  and the water is flowing over the sink .  and &uh there's trouble galore . the wind is blowing the &uh curtains .  &um (..) she is not paying any attention to her kids . and &um the boy in addition to stealing he's trying to give the \\tgirl a [/] a cookie . and &uh the whole thing is goin(g) to collapse . &uh but aside from that they seem to be a fairly happy family .\", \"well ‡ the boy's trying to get in this cookie jar . \\r and the stool overturns . \\r and &uh the little girl is expecting to hand her a cookie . \\r &uh the mother is [//] her sink is running over . \\r and she's standing in some of the water . \\r and &uh she's drying a dish or wiping a dish . \\r and &uh (.) you said everything is happening . [+ exc] \\r (..) well ‡ the water is still runnin(g) in the sink . \\r and I said it's [/] it's overflowing . \\r and she's standing in the water . \\r and that's +... [+ exc] \\r I guess . [+ exc] \\r look ‡ somebody laying in the lawn out there . \\r but I can't &uh &=laughs +... [+ exc]\", \"mhm . [+ exc]  mhm a_lot_of things are happening .  yes the &uh water's going over .  the water's overflowing .  and &uh the little boy is slipping off the stool while he's \\ttryin(g) to steal some cookies .  and the little girl is laughing at him and she's not happy in [//] \\tone bit .  and the lady is drying the dishes and looking out the window .  it's beautiful out there .  it must be June .  I don't know but it [//] anyhow it looks like it's not winter \\t&=laughs .  &=clears:throat and that's about all I can see . [+ exc]\", \"alright . [+ exc]  the little boy [//] girl's reaching up there and she's got her \\tfinger to her lips .  and the boy's <on a stool> [//] standing on a stool but its gonna \\tfall pretty soon .  he's reaching for cookies .  and the mother has their [: her] [* s:r] back to (th)em .  she doesn't see them but her [//] she hasn't payed any attention to \\ther sink .  it's running all over the place .  her window is open and there's a nice garden and a garage out back \\t.  she's drying some dishes .  she has an apron on .  her &s dress is sleeveless .  has a pretty nice kitchen like &uh pretty nice curtains on it . \\t[+ gram]  and &um <the jar> [//] the cookie jar lid is off .  she has a couple cups and she has a couple plates but she better \\tmop up that floor &=laughs .  the little girl has socks and shoes on and a short dress and <long \\thair> [//] medium long hair .  and the boy has his shorts on and a short sleeved s:irt [: shirt] \\t[* p:n] so it must be summer .  trees are in bloom outside and the flowers out there .\", \"mhm .  there's a young boy &uh going in a cookie jar .  and there's a [/] &lit a girl [//] young girl .  and I'm sayin(g) he's a boy (be)cause <you can> [//] &hard it's \\thardly [//] hard to tell anymore .  &uh and he's [/] he's in the &c &t cookie jar .  and there's a &s stool that he is on and it already is starting to \\tfall over .  and so is the water in the sink &uh is &ev overflowing in the sink \\t. [+ gram]  &hm I [/] I don't know about the [//] this hickey here I [//] \\twhether that's more than what I said . [+ es]  &uh like <it &uh the wife or &g I_mean> [//] &uh the [/] the mother \\tis near the girl .  and she's [//] &uh &w &uh &h she has [/] &uh has +/.  oh &uh I [/] I can't think of the +...  she has &uh the she's tryin(g) to wipe [/] &uh wipe dishes .  oh &a and stop the water from going out .\", \"okay he's fallin(g) off a chair [: stool] [* s:r] .  she's &uh running the water over .  can't see anything else . [+ exc]  no . [+ exc]  +< okay . [+ exc]  she's [/] she's step in the water . [+ gram]  no . [+ exc]\", \"<well the kid> [//] the girl's laughin(g) at her brother because he \\twent into the cookie jar and he's fallin(g) over the cookie jar .  and mother's [//] &d the mother was at the sink .  and the sink's [: water's] [* s:r] splashin(g) [/] &s splashin(g) \\tover the sink .  and she sort_o(f) a little bit bitchy .  and the water's goin(g) floodin(g) over the sink .  and there's a saucer, there's a plate, there's a couple of dishes . \\t well she's [//] and the mother's lookin(g) out the window .  she don't know what the hell to think of it .  a girl laughin(g) at her brother who is taking cookies out_of the \\tcookie jar and he's ready to fall <off the damn> [//] &plat <off \\tthe> [/] &uh off the &uh &sh &pl chair [: stool] [* s:r] he's on .  the chair's [: stool's] [* s:r] crooked .  what the hell else ? [+ exc]  and then there's a plate, saucer and two cups .  she's looking out the window .  the window's open .  she's not paying any attention to the kids .  the water's flooding over the sink .  what else you want ? [+ exc]\", \"&=clears:throat well &=clears:throat &uh the kids are [/] are xxx \\tin the corner . [+ jar]  &um <they're grading [* s:uk]> [//] &uh they [/] they are going to \\t&um get &uh [x 3] some cookies from the cookie jar .  and &uh the mother does not see it because she's inside &uh &um \\tdrying the clothes [: dishes] [* s:r] .  and &uh the kids then just &uh +...  and I guess in the [/] the picture here that &um the mother that's \\tworking hard and [/] and the kids were [/] were playing .[+ gram]  and &uh all of a sudden &uh somebody &s <stepped in> [//] &uh &s \\t&uh turned over a dish .  and &uh all over the floor . [+ gram]  except that it did [/] did not dry it up .  &k <it didn't &um splash from the> [//] &i it splashed from the \\tsink but not from [/] (.) from &uh +...  no <that's no> [/] that's no . [+ exc]  I'm too [/] too [//] trying to get too much out_of it . [+ exc]  +< and one [/] &uh one [x 3] of the kids is gonna get a &t crack on \\tthe head .  and maybe he has &uh &um +...  man ! [+ exc]  <this is> [//] it's so +... [+ exc]  <some o(f) the> [//] sometimes I [/] I see it very clear and [/] \\tand &uh other times I [/] I see &uh &r +/. [+ exc]  +, a weak image, so to speak . [+ exc]  and sometimes <I have> [//] I just have this p@o .[+ exc]  you're [//] what [/] &=laughs what is in here now ? [+ exc]  +< but mostly &uh is I [/] I have &uh not [/] not so much trouble \\t&uh in I [//] &d it [//] &uh &uh looking at a thing at it &uh as [/] \\t&um [x 3] &s &um &am an imarriage [: image] [* p:n] <but not> [/] \\t(.) but not getting anything that you'll want [/] &s want xxx . \\t[+ jar] [+ exc]  +< &uh but an etch [* s:uk] you would say it in a little . [+ jar] \\t[+ exc]  +< &=laughs xxx ! [+ exc]\", \"okay . [+ exc]  &uh we see a [/] &uh a &b little boy climbed up on a stool reaching \\tfor the cookie jar .  and &uh the stool <is about to or> [//] is falling .  &uh he is trying to get a cookie for himself and also one for his \\tsister .  &uh his sister is telling him to be very quiet .  she's goin(g) shh@o .  can't write that down . [+ exc]  telling him to be quiet . [+ gram]  and &uh let's see . [+ exc]  in the meantime &uh the mother is <washing the dishes or yes> [//] \\twashing dishes and the sink has &uh overflowed and &uh is pouring \\twater on the floor .  (..) I don't think I see anything else . [+ exc]  okay . [+ exc]\", \"alright . [+ exc]  I see the little boy stealing cookies from the cookie jar .  and <the little girl's> [//] &uh he gave some to the little girl \\tand she's eatin(g) some of the cookies .  and I guess this is mama and she's washing the dishes .  and she dropped a dish .  no [/] no she didn't drop a dish .  &uh the [/] the water that she's washing the dishes with she let \\trun .  and it's overflown [/] &o overflown [/] &=laughs &o &o overflown . \\t <that doesn't> [/] that doesn't sound right . [+ exc]  did it &uh +/? [+ exc]  we forgot to turn off the spigot .  and so the water is running off <into the> [//] onto the floor here \\t.  and mom apparently is washing the dishes .  and here's this little boy stealing the cookie [//] &j cookies .  he's gonna [/] gonna fall because his [//] &uh the [/] <the cookies \\tjar or> [//] <the [x 3] bench [: stool] s[* s:r-ret]> [//] the &s \\tfour legged stool <whatever it is> [//] is [/] is gonna fall over \\twith him (.) and the cookie jar .  and mama's drying the dishes as usual for mamas (.) if they don't \\thave a husband that dries them or washes them or whatever .  &uh let's see now . [+ exc]  I guess there's more things I'm sposta see . [+ exc]  let's see here now . [+ exc]  oh &uh (.) and the [/] the water is &uh flowing out <of the> [/] of \\tthe sink they forgot to turn off whoever's doing the [/] &w &uh the \\tdishwashing . [+ gram]  mom apparently here, she forgot to turn off the water and the [/] \\tthe water is spilling out <over the> [//] &f <onto the floor> [//] \\tonto the kitchen floor .  and the little girl has pushed over the (.) chair [: stool] [* s:r] \\t(..) with the boy that [//] &uh he [//] that was reaching up to get \\tthe cookies .  &uh I [//] either he [: she] [* s:r-ret] [//] she pushed it over or \\the fell over with it .  you_know it &uh I [/] I [//] &uh excuse me but you_know I [/] I was \\t+... [+ exc]\", \"there's a little girl .  and a little boy standin(g) on top of a stool .  and it looks like a mother maybe washin(g) the dishes in the \\tkitchen .  there's cookies in the jar up in the pantry I suppose .  there's <a cup> [//] two cups and a saucer or a plate maybe .  &uh there's some shrubs outside .  the [/] &uh the sink is overflowing right now .  and that's about all . [+ exc]  +< the sink is overflowing .  the sink is overflowing .  he's tryin(g) to kill himself xxx .  you want more ? [+ exc]  that's it ? [+ exc]\", \"&hm <a lady> [/] a lady and her children . [+ gram]  children . [+ gram]  the lady is wash [//] washin(g) dishes .  and +...  okay . [+ exc]  yeah . [+ exc]  (.) the children have cookies .  (.) the father isn't comin(g) .  father didn't come in yet .  and the lady is gettin(g) it ready .  get +...  it's a water with that . [+ gram]  water went down .  it's gonna fall over .\", \"so she will find her .  and xxx the mother washes [//] dryin(g) the dishes .  and the stool's upset .  you_know she's <gettin(g) on> [//] gettin(g) the cookies .  there's &up cup and saucer settin(g) there on a plate ready to eat \\t.  the cookie jar right here . [+ exc]  that's all I see +/. [+ exc]  and &th &th this [/] this is +...  well whoever's over there spilled it, knocked it down .  I don't know what that is . [+ exc]  looks like a mouse &=laughs . [+ gram]  mhm . [+ exc]\", \"mhm . [+ exc]  oh I see a part of the whole kitchen .  is that all the kitchen or isn't it ? [+ exc]  &s &uh (..) oh I can't read +... [+ exc]  a lady a mother were in her kitchen . [+ gram]  in her kɪtʃə˞@u [: kitchen] [* p:n-ret] [//] kitchen doing some \\twork I suppose . [+ gram]  and the [//] &uh &s there's another woman there sharing their \\tpleasures or whatever .  oh <have you> [/] have you checked [//] heard of that new game that \\tthey started to play after christmas ? [+ exc]  +< did you ? [+ exc]  +< xxx is a +/. [+ exc]  well it looks like +...  I'd say this is +...  well let's see . [+ exc]  it looks like +...  oh +... [+ exc]  <bʌmbʌdɪ@u [: x@n] [* n:uk] bʌmbʌdɪ@u [: x@n] [* n:uk]> [=! sings] \\t&=sings . [+ exc]  <my mother will beat me by> [//] my wife will beat me by a couple \\trows of this . [+ exc]  that's [/] that's like the <washing would say> [//] washing machine \\t?  or let me see . [+ exc]  I can't +... [+ exc]  oh ‡ that's the son come out_of [//] from school maybe or something \\t. [+ gram]  that's a youngster there .  well that's just as though they (.) getting ready to go to school \\tor they're just coming out from school . [+ gram]  and right there he's &uh same as back there except for down there \\tin the bottom I think it's +...  &uh that's a little xxx . [+ jar]\", \"the little boy is up on [/] &uh on this thing here .  and it's [//] he's up trying to get something out_of the garden \\t[* s:uk] selection I think it is .  (.) the little girl I think is mad because she didn't get some of \\tit &=laughs .  and here's mama dryin(g) the dishes .  no just the little girl and the boy was on here .  the little girl and the boy . [+ gram]  +< she's reachin(g) up to the boy and the boy is [//] got his other \\thand down &=laughs .  so +... [+ exc]  +< it looks color +/.  no that's all . [+ exc]  +< oh she spilled something I think .  from the sink down . [+ gram]  it came splashin(g) down .  +< that's the first I noticed it &=laughs . [+ exc]  I'm terrible anymore . [+ exc]\", \"&uh well the children are climbing up and he's about to fall .  and he's getting cookies .  and she's &uh telling him to sh@o be quiet so mother <won't hear \\tit> [//] won't hear him getting up there .  and &uh he's handing a cookie down to her .  she's washing the dishes .  and &uh (.) for some reason she must have been upset about \\tsomething because &uh she is letting the water run out all over the \\tplace .  <whether she's> [//] &up I can't believe she's upset about the kids \\t(be)cause she hasn't seen them .  maybe she did turn and look at them and &=laughs then go back to \\tthe dishes .  in other words it's &uh +...  &uh she [/] she's deciding that if she did see them she's deciding \\tthat she's going to let them go ahead with it .  but I don't think she would have let them go ahead if she saw the \\tlittle boy falling .  I think she would have turned .  maybe dropped her dish &=laughs .  but she would have gotten hold of him and saved him from being \\tharmed in the fall .  and he might just pull all the cookie jar with him when he falls \\ttoo &=laughs .  and with the water on the floor and the cookie jar on the floor \\t&=laughs it would be a sad +/.  +, threesome but [//] and the kitchen would be a mess .\", \"oh yes . [+ exc]  a little girl &a and the little boy is getting cookies out_of the \\tjar .  oh and the stool is upsetting &=laughs .  and the [//] I guess it's the mother is drying dishes .  water's spilling down all over the sink .  water on the floor . [+ gram]  little boy's gonna fall and that [/] &steps &uh that there stool . \\t[+ gram]  &uh I think the cookie jar is gonna fall &=laughs .  and the [//] guess dryin(g) dishes and water [//] the faucet's on \\tand water's runnin(g) all over the floor . [+ gram]  (..) &wh <what else am I [/] &sup I_mean what> [//] what +..? \\t[+ exc]  yeah . [+ exc]  the cookie jar . [+ gram]  the stool . [+ gram]  her doin(g) the dishes . [+ gram]  the water spilling .  <far as> [//] yeah that's as far as I could see . [+ exc]\", \"+< and I will tell you what's &g +/. [+ exc]  oh boy . [+ exc]  well the little boy is reaching for a cookie .  and his &s stool is fallin(g) over .  and the little girl is beggin(g) him to give her one .  and she's pointin(g) to her mouth .  she wants to eat it .  &uh their mama is doin(g) the dishes .  the water's runnin(g) over the sink .  that's a mess .  and then she's not even lookin(g) at them .  dryin(g) dishes . [+ gram]  I think she's lookin(g) out the window .  it's a nice yard out there .  two cups and [/] and a dish finished . [+ gram]  xxx anything else ? [+ exc]\", \"I see a tad bit . [+ exc]  and somebody is doin(g) [//] dryin(g) dishes .  <no I can't> [/] no I can't get this very well, clear . [+ exc]  (...) well someone's standing on a stool and the stool is gettin(g) \\tready to fall over .  (...) it's [//] &mm &=sniff well somebody's dryin(g) dishes .  no I don't see anything else goin(g) on over here . [+ exc]  I'm [/] I'm thinkin(g) now maybe the water's &r overrunning .  I'm not too sure . [+ exc]  there's some water on the floor here .  and there's some in the sink that's overrunnin(g) .  &=clears:throat . [+ exc]\", \"an average home that looks very much like ours at many times . \\t[+ gram]  <and the mother is> [//] well she's spilling her water which is not \\tvery good but she's doing [//] washing dishes and drying them .  and one of the children upset the cookie jar .  and that's an [: a] [* f:p] very average thing to go in [: on] \\t[* s:r] in a home .  our home <is a very> [/] it's a very active family . [+ exc]  and so that it makes it kinda [: kind_of] hard at our house \\tsometime because &uh there's <a_lot_of> [//] &ac like I said \\ta_lot_of activity . [+ exc]  well the poor girl is spillin(g) the water on her feet .  it's gonna be &k wet but then she'll hafta struggle with that .  also there are a few more dishes left that didn't get finished .  this hasta be the dishes .  and how that little boy fell off that stool I don't know but he did \\t.  no . [+ exc]\", \"+< okay . [+ exc]  &uh there's <a cook> [//] a [/] &b <a boy's> [//] a boy is &uh \\ttaking &uh cookies and &uh givin(g) one to the girl imagine .  (.) and she wants one .  I don't know &=laughs . [+ exc]  the &uh mother's &uh washing dishes .  she spilled it .  (.) &uh she's washing dishes .  and &uh (.) &uh <I can> [/] I can dance [* s:uk] outside to you ? \\t[+ exc]  huh ? [+ exc]  +< alright . [+ exc]  oh (.) &uh +... [+ exc]  &uh oh he's gonna fall &=laughs .  and [/] &uh and she's laughin(g) at them there .  I don't know what else . [+ exc]  I don't know . [+ exc]\", \"(...) &um &t takin(g) some cookies . [+ gram]  and &f fallin(g) over . [+ gram]  and &uh mother's dryin(g) dishes .  and things fallin(g) &uh &um +...  sink's runnin(g) over . [+ gram]  and two cups and saucer <on the plate [: sink] [* s:r-ret]> [//] \\t&uh on the sink . [+ gram]  and &uh +...  and the girl's &um &um +...  <cookies [: curtains] [* per-ret] I_mean> [//] &um (..) &uh (..) \\twindows [: curtains] [* s:r] on the curtains [: windows] [* s:r] . \\t[+ gram]  and &um (...) the spigot's on the sink .  and &uh +... [+ exc]  well that's about it . [+ exc]\", \"the boy's &uh fallin(g) off the stool .  the [/] the girl's got her hand up .  the lady's &wa dryin(g) dishes .  the water is spillin(g) on the floor .  faucet's on . [+ gram]  the boy's tryin(g) to get a cookie jar out .  &l lid's off of it .  sink's by the window . [+ gram]  (th)at's all I know . [+ exc]\", \"okay, I see a boy in the cookie jar .  I see he has the lid off .  I see that he is standing on a three legged stool and he's about to \\tdepart from that three legged stool .  he has one cookie in his hand, handin(g) it down to his sister and \\tshe's reaching up for it .  and I think she's indicating to the boy to keep still so his mother \\tdoesn't hear what's going on .  I see the mother .  &uh I guess she's drying the dishes and she's not paying attention \\tbecause she's &uh leavin(g) the sink run over and it's spillin(g) \\tall over the floor .  and she must not be conscious because she's standing in it and \\tdoesn't know it .  &um &sh <I think she must> [//] I think she's probably lookin(g) \\tout the window as I take the second look .  and I see apparently a couple dirty dishes on the table+top .  I see the cupboards .  &uh I don't know whether they all have knobs on them or not .  doesn't look like the two where the boy and the girl are have knobs \\ton the cupboard door .  and I see outside .  I see &uh apparently it's a tree, some shrubbery and some hedges . \\t about it ? [+ exc]\", 'boy xxx in the cookie jar . [+ jar]  boy in a cookie jar . [+ gram] [+ exc]  &um &uh dryin(g) dishes . [+ gram]  girl assisting boy with cookie jar . [+ gram]  xxx . [+ jar] [+ exc]  xxx . [+ jar] [+ exc]  xxx . [+ jar] [+ exc]  (...) towel . [+ gram]  towel . [+ gram] [+ exc]  mhm . [+ exc]  (..) xxx . [+ jar] [+ exc]  xxx . [+ jar] [+ exc]  boing@o [x 3] .  chair [: stool] [* s:r] . [+ gram]  boy . [+ gram]  (.) garage . [+ gram]  garage . [+ gram] [+ exc]  garage . [+ gram] [+ exc]  +< yeah . [+ exc]  windows [/] windows &win +...  and the garage . [+ gram]  okay [x 3] &=laughs . [+ exc]', \"yes . [+ exc]  the water ? [+ exc]  well let's see . [+ exc]  there's something hasta be where the water goes down over . \\t[+ gram]  &uh there's probably something that's &uh +...  or they don't have it open or [/] or something might ha(ve) +//.  I dunno [: don't know] . [+ exc]  what &uh +..? [+ exc]  when the water goes down &=finger:tap what [/] what do you call \\tthat ? [+ exc]  this here . [+ exc]  right here . [+ exc]  this . [+ exc]  what [/] &uh what do you call that ? [+ exc]  what is that ? [+ exc]  what is that ? [+ exc]  I don't know ! [+ exc]  that's what I'm saying . [+ exc]  I [/] I don't know what that is . [+ exc]  +< the what ? [+ exc]  a pipe . [+ exc]  oh [x 3] water pipe ! [+ exc]  oh yeah . [+ exc]  okay . [+ exc]  well then maybe the water pipe is &uh broke [//] &er &uh not broke \\tbut &uh there must be things in there +/.  +, that the water will not go down .  I don't know . [+ exc]  huh ? [+ exc]  what's happening to the water ? [+ exc]  well the water is &g going down in the &uh (.) &=finger:tap &=sighs \\t&=claps +...  &=laughs I don't know . [+ exc]  what [x 4] would you call this ? [+ exc]  floor [x 3] ! [+ exc]  yeah okay [/] okay . [+ exc]  +< yeah . [+ exc]  well down on this side of the picture . [+ gram]  well this thing here is &uh turnin(g) over . [+ es]  yeah . [+ exc]  no, uhuh . [+ exc]  I don't know what's going on . [+ exc]  well he's probably &uh gettin(g) +...  what's this here ? [+ exc]  cocoa jar ? [+ exc] [+ gram]  what's [/] what's this cocoa ? [+ exc]  c@l o@l o@l k@l i@l e@l . [+ exc]  I don't know &=laughs . [+ exc]  &=laughs I don't know what [x 3] +..? [+ exc]  +< huh ? [+ exc]  +< cookie, oh a cookie [/] cookie . [+ exc]  oh ! [+ exc]  oh okay . [+ exc]  mhm . [+ exc]  well he's &uh gettin(g) it out . [+ es]  and he's gonna give it to the girl +/.  +, down here .  mhm . [+ exc]  going on in the picture ? [+ exc]  well the boy is giving him [: her] [* s:r] the girl the &co [/] &co \\tcocoa [: cookie] [* s:r] .  this probably is broke .  so the water will not go down in and it's comin(g) up &=finger:tap \\tand going in here huh .  well it looks like she's [//] &wa &uh she was gonna wash &uh +/.  +, <what she> [//] what they eat with, all that . [+ cir]  &wha what do you call that ? [+ exc]  <what do> [/] what do you call this ? [+ exc]  <the plate> [//] a plate ? [+ exc]  oh [/] oh yeah [x 4] . [+ exc]  what you eat in [: on] [* s:r] . [+ cir] [+ exc]  <is that> [/] is that what you call them a plate ? [+ exc]  +< oh this is a cup ? [+ exc]  oh maybe, I don't know . [+ exc]  mhm . [+ exc]  okay . [+ exc]\", \"now honey I &w &l &l &ha &w had it was in the kitchen and I was the \\toldest ten . [+ gram] [+ exc]  and if we made a mess like that you'd get a kick in the ass . \\t[+ exc]  +< well we have &uh spillin(g) of the water .  and a kid with his cookie jar . [+ gram]  and a stool is turned over .  and a mother's runnin(g) the water on the floor .  and what else do you want from that ? [+ exc]  it &s looks like somebody's layin(g) out in the grass doesn't it ? \\t +< and a kid in the cookie jar . [+ gram]  and a tilted &s stool . [+ gram]  what more do you want ? [+ exc]  +< the [/] &wa the water rollin(g) on the floor . [+ gram]\", 'this is &uh a clause copy [/] copy c@l by his +... [+ exc]  yeah uhhuh . [+ exc]  a mɪndə˞@u [: x@n] [* n:uk-ret] [//] mɪdə˞@u [: x@n] [* n:uk-ret] \\t[//] mɪdnə˞@u [: x@n] [* n:uk] . [+ jar] [+ exc]  the sun . [+ gram] [+ exc]  +< mhm . [+ exc]  his kɜ˞@u [: x@n] [* n:uk] . [+ jar] [+ exc]  +< xxx ample xxx rice &=clears:throat discharged . [+ jar] [+ exc] \\t charged . [+ gram] [+ exc]  flexible . [+ gram] [+ exc]  flexible . [+ gram] [+ exc]  xxx . [+ jar]  my husband and &uh +... [+ exc]  +< is there somebody else there ? [+ exc]  <her too> [//] her . [+ gram] [+ exc]  &uh Last_name yeah . [+ exc]  +< yeah . [+ exc]  a lovely girl . [+ gram]  +< a do guess gettin(g) older I see I so . [+ jar]  oh no . [+ exc]  this is [//] oh I can just +... [+ exc]  +< xxx . [+ jar]', \"mhm . [+ exc]  well the kids is [* m:a] robbin(g) a cookie jar .  and &uh the mother is &uh washin(g) dishes and forgettin(g) that \\tthe water is runnin(g) .  it's runnin(g) on the floor .  and his stool is about to dump him &=laughs .  see here ? [+ exc]  +< he's about to go .  now I think that's just about all I can see that's [//] that you \\tmight be lookin(g) for . [+ exc]  he's about to drop off that stool too .\", \"+< mhm . [+ exc]  &uh they [//] &s the cookie jar . [+ gram]  with the [/] &hm (.) the girl helping him . [+ gram]  but that isn't the right thing . [+ es]  but their mother was there (.) spilling &uh water &=laughs .  (.) this wouldn't be the grandmother I guess .  it's the children .  &uh well I think he's going to fall pretty quick &=laughs .  but &uh she was helping .  handing [//] he handed &uh the cookies to his sister I guess \\t&=clears:throat .  well it &uh +...  the mother was drying her (.) dishes .  she better get the &uh water off &=laughs .  well he might fall soon if &=laughs he doesn't +...  but he's careful xxx .  I think so . [+ exc]\", \"oh there's a cookie jar and a youngster with a <I don't know what \\the got> [//] cookie jar .  and the boy has a shirt with a cookie &j jar too I guess .  the girl has one too a jar .  an(d) that's the stool .  and this is &uh with a kitchen thing &k dishes . [+ gram]  and this is water somebody spilled .  (.) this is some more junk . [+ es]  what do you call this ? [+ exc]  I don't know . [+ exc]  I guess it's another for the (.) &=sighs +...  I don't know what's hɑɹ@u [: x@n] [* n:uk] in there . [+ jar] \\t[+ exc]  the tent@u [: x@n] [* n:uk] very interesting . [+ jar]  +< oh &k (.) I don't know . [+ exc]  she's looking at it . [+ es]  I don't know what . [+ exc]  that the kid's gonna fall off the stool . [+ gram]  I hope he does . [+ exc]  (.) dumb kids . [+ exc] [+ gram]  oh they're in the cookie jar .  oh what are they doing ? [+ exc]  I don't know . [+ exc]  they're spillin(g) somethin(g) good and (.) much . [+ gram]  it's [//] they're doing the dishes .  (.) dishes they are . [+ gram]  the boy's tryin(g) to fall off the stool and she's tryin(g) to get \\tthe dishes all &a done .\", \"oh sure . [+ exc]  the little girl's standing in the kitchen .  and then the little boy steps on a [/] &uh a chair [: stool] \\t[* s:r] to get some cookies .  and he's about to fall down .  and his mother isn't aware of it yet .  she's still washing dishes .  and then the sink ran over I guess when she got excited .  and it's going down <on a> [//] on the &s floor in the kitchen .  and she's trying to dry the dishes .  and she's just standing there .  she still has dishes to go I guess .  and this little boy is about to fall .  and this little girl is smiling at him because he's going for the \\tcookies in the cookie jar &=laughs .\", \"(.) well the boy's climbing a [/] &la a stool .  and it's gonna upset .  he's tryin(g) to get a cookie .  and the sink is runnin(g) over .  the mother's dryin(g) a dish .  (.) and the little girl is reachin(g) up for a cookie .  hmhunh . [+ exc]  xxx the mother over there she's doing the dishes .  and the sink's runnin(g) xxx .  the boy's getting the cookies .  stool's on that step xxx . [+ jar]  &=sighs window's open . [+ gram]  maybe the wind is blowing in .\", \"mhm . [+ exc]  oh . [+ exc]  there's a cookie jar .  and the boy is toppling off (.) a stool .  and the mother is spilling the water .  and the [//] &uh what else ? [+ exc]  (..) that's about it . [+ exc]\", \"(.) I don't see xxx . [+ exc]  (loo)ks like somebody took some pencils or somethin(g) and went up \\tand down those xxx them things . [+ exc]  <all I see> [//] I see a girl standin(g) there or somethin(g) or \\tother .  (.) some little knots [* s:uk] or somethin(g) . [+ gram] [+ jar]  I don't know . [+ exc]  (.) xxx . [+ exc] [+ jar]  (.) some kind of a xxx pan or somethin(g) . [+ gram] [+ jar]  (.) and that girl is there .  (.) and there's somethin(g) else over there . [+ es]  (.) there's another girl (.) look like . [+ gram]  looks +/. [+ exc]  look like some [//] a little girl is in there . [+ gram]  I don't see nothin(g) else . [+ exc]  some of xxx and things . [+ exc] [+ jar] [+ gram]  look to me like the same except them things up there . [+ gram]  (..) I see this they all look [//] looked about the same to me \\texcept this thing here . [+ es]  look like a little kid the same . [+ gram]  (.) I'm sorry I didn't bring my glasses . [+ exc]\", \"okay . [+ exc]  the lady's washin(g) the dishes &=laughs like they always do .  a little boy's up on the stool fallin(g) over .  he's tryin(g) to get a cookie .  and the girl's tryin(g) to help and she's reachin(g) her hand up . \\t and they <spilled water out_of the> [//] &s &raw overran the sink . \\t spilled water all over . [+ gram]\", \"well the poor mother's a-doin(g) [: doin(g)] dishes &=laughs .  there's a boy <on a> [/] &lad on a stool .  cookie jar . [+ gram]  and a girl down below . [+ gram]  is that all you wanted to know ? [+ exc]  okay . [+ exc]  there's a cookie jar .  the little boy is standing on a stool and he's ready to go over .  the little girl's standing there .  the mother's &st at the sink doing dishes .  (.) her water's overflowing .  that's about it . [+ exc]\", \"well the kid's up takin(g) cookies out_of the cookie jar .  the other one's there holdin(g) her hand .  the jar is gonna fall .  she's washing dishes and forgot to turn the sink off .  water's pourin(g) all over the floor .  &uh dishes are on the sink .  and it looks like a face layin(g) in the yard the way the grass is \\t.  &hm <oh it's> [//] &uh that's what we got . [+ exc]  kid takin(g) cookies out_of the cookie jar . [+ gram]  the kid has her hand up after it .  mama's washin(g) dishes .  sink's runnin(g) over . [+ gram]  an(d) that's it . [+ exc]  good .  +< window [/] window's open . [+ gram]\", \"a cookie jar . [+ gram]  and <the kid's> [//] the boy's going to get from the cookie jar .  and the mother's washin(g) [//] dryin(g) dishes .  oh boy ! [+ exc]  and then in here what happens &=laughs ? [+ exc]  where all that water's comin(g) out o(f) there &=laughs . [+ gram] \\t oh gosh . [+ exc]  and the little one <I don't know what he's [: she's] [* s:r-ret]> \\t[//] she's gonna get somethin(g) from him . [+ es]  oy oy . [+ exc]  (.) &hm that was it . [+ exc]  oh . [+ exc]  okay, what do I hafta do now ? [+ exc]\", \"well start from [/] from the [/] the [/] &uh &t the &uh &th &t the \\t[/] &uh &th &t &th the &uh &s &uh +... [+ exc]  &=laughs how can I +/? [+ exc]  +< okay [/] okay . [+ exc]  &th &uh &f &f first the [/] &uh the &uh +...  I can't mɔɹtəl@u [: x@n] [* n:uk] say what this is . [+ exc]  it's [/] &uh the [//] &uh &uh this [//] the &uh cabinet door is \\topen .  and the &uh children are stealin(g) the cookies .  and mama's not even lookin(g) &=laughs .  and &uh the boy falls or looks like he is gonna fall .  maybe he don't . [+ gram]  and &uh (.) then &uh mama's &uh doin(g) here [//] <the wash> [//] \\tthe &uh dishes .  and &uh she got all wet .  the fence [: sink] [* s:ur-ret] the &uh sink run over and \\teverything's goin(g) haywire &=laughs .  oh mercy . [+ exc]\", \"(.) oh any [//] anything I see . [+ exc]  well there's &uh a little girl here .  (..) she's (..) pointing at something .  and that looks like &uh (..) her mother [: brother] [* s:r] (.) is \\tjust about ready to [/] to fall down <on that> [/] where she's \\tsitting [* s:uk] there (.) where it says cookie jar . [+ cir]  and here on her right side there's a young lady there .  she's &uh washing the [//] (..) what she &uh +...  she's cleaning +/.  +, the &uh +...  she's cleaning .  what is she +//? [+ exc]  she +...\", \"well your sink is being run over, the water .  the stool the kid's standing on is falling .  and he's getting cookies from a jar .  the lady's washin(g) dishes .  the girl's reachin(g) for a cookie .  could there be more ? [+ exc]  I don't think so . [+ exc]\", \"&=clears:throat &hm the woman of the house is drying the dishes .  her sink is overflowing .  the boy's stool is tipping .  he's taking cookies out_of a jar .  he's handing one to his sister .  and <she is> [//] oh she's already dried some dishes right here I \\tguess .  well what is this hon(ey) ? [+ exc]  I [/] I can't make that out . [+ exc]  it look like a +... [+ exc]  oh action . [+ exc]  oh â€¡ I'm sorry . [+ exc]  she's dryin(g) the dishes .  she's standin(g) in water <well that's> [/] &ac if that's action . \\t and the door is open where the cookies are .  they all have their shoes on &=chuckles .  oh she's got an apron on &uh over her dress .  kind_of homely girl isn't she ? [+ exc]  she's not doin(g) much she's just got her hand like &=grunt .  &uh &d how many did I get wrong ? [+ exc]  okay . [+ exc]\", \"the [/] the water's flowing on the floor .  and she's drying dishes .  and he's up in the cookie jar .  (...) and she's drying dishes .  thank you very much . [+ exc]\", \"well the boy is in the cookie jar &=laughs .  he has a cookie in his hand .  and &uh he's gonna fall &=laughs .  his sister is looking for a cookie .  and the mother is dryin(g) a dish .  and the water is coming out &=laughs .  well the mother's flue [* s:uk] is gonna beep .  mhm . [+ exc]  (..) xxx . [+ exc]  I think I'm through . [+ exc]\", \"+< well this boy is almost falling <out of the> [//] off of the \\tchair [: stool] [* s:r] when he's putting up the picture .  and &uh she's washin(g) dishes .  I guess she wouldn't know .  oh my ! [+ exc]  her sink is running over too isn't it &=laughs .  is that all [//] more [: all] [* s:r] or is [/] is there more to it \\t? [+ exc]  this one looks kinda [: kind_of] like a +...  oh that's a plate I guess .  and a cup and saucer . [+ gram]  (..) oh this is a lady here .  is it or isn't it &=laughs ? [+ exc]  right there . [+ exc]  is that a lady ? [+ exc]  <I thought this> [//] when I had it this way it looked almost like \\ta lady . [+ exc]  oh . [+ exc]  she's washing dishes .  and she must have dropped one .  oh no she let the sink ran over .  and he's almost falling off of the chair [: stool] [* s:r] .  and she's [//] she did something, it looks like . [+ es]\", \"everything ? [+ exc]  happening ? [+ exc]  &hm mhm . [+ exc]  +< well (..) &uh this is the boy trying to get the cookie jar down \\tfor his sister I would imagine it is .  &uh and he's gonna fall <off the ladder [: stool] [* s:r-ret]> [//] \\toff the [//] (..) &uh his s:tool or whatever he is settin(g) on .  the mother is over here .  she just dropped [: spilled] [* s:r] some water or whatever on the \\tfloor .  and [/] and she looks (.) pretty mad .  and &um the water's still runnin(g) .  and it looks like the [/] the girl is laughing <at the> [/] at the \\tboy because the [/] &uh the stool is gonna fall over .  and there's [/] there's water on the floor there .\", \"&m &s boy &o over here standin(g) on the chair [: stool] [* s:r] . \\t &uh it's fallin(g) over .  and a girl down below . [+ gram]  the boy's up [/] up (th)ere .  he's &uh has a cookie jar up (th)ere .  he's puttin(g) cookies in .  and the thing's fallin(g) over . [+ es]  then there's the lady .  she's [/] (..) she's washin(g) dishes and dryin(g) (th)em .  and the sink (.) is turned on and the water's runnin(g) down and is \\trunnin(g) on the floor and she's standin(g) in the water .  she's got &uh (..) a dress on and [/] and there's [//] she's \\tlooking out [/] out past drapes down here .  and she's lookin(g) out through the window .  (..) looks like that boy's gonna fall over pretty soon .\", \"well little boy &=clears throat reachin(g) out for the cookie jar . \\t[+ gram]  and the stool he's standin(g) on tilts over .  and &um (.) he's handin(g) some cookies down to the little girl .  and the mother's &w dryin(g) dishes (.) and spills water on the \\tfloor .  and (.) she's lookin(g) out the window .  that's it . [+ exc]\", \"well the kid's standin(g) on a tilted stool gettin(g) cookies .  the water's runnin(g) out o(f) the sink .  the girl has two different shoes on .  the stool is tilted .  (..) the cookie jar is not a jar it's [/] &uh it's [/] it's a &uh \\ttin [/] tin [/] <tin thing> [//] tin dish or whatever .\", \"+< he must be pickin(g) apples here .  (be)cause he's on the ladder [: stool] [* s:r] and he's got both \\thands open and he can be .  and the chair [: stool] [* s:r] was fallin(g) .  the baby's cryin(g) .  that's all . [+ exc]\", \"well she's washin(g) dishes .  he's climbin(g) up to get cookies .  he's gonna fall .  and she's laughin(g) .  and she's spill [//] runnin(g) the water over .  that looks like someone down out there or somethin(g) . [+ es]  I don't know what that is . [+ exc]\", \"I see the little boy's down here +/.  +, getting the [/] the food .  and the little girl down here is the same way .  <this little boy> [//] this is falling over . and this little girl she's just getting [/] (.) getting things \\tready for dinner . food dropped .  I think it did . [+ exc]  yes it did . [+ exc]\", \"well the boy on the chair [: stool] [* s:r] is &uh fallin(g), \\treachin(g) up for a cookie, handin(g) one to the girl .  the lady is &uh wiping a dish . water runnin(g) on the floor . [+ gram]  she's standin(g) in it . (.) &mm (.) trees outside, the lawn, shrubbery . [+ gram]  a window outside that I can see . [+ gram]  (.) that's about it dear . [+ exc]\", \"the boy and the girl are playing and he's gonna fall down off the \\tladder .  and the mother's washing the dishes and it's flying out over the \\tsink down to the floor .  what else do you want me to tell you ? [+ exc]  whatever you see happening . [+ exc]  yeah that's it . [+ exc]\", \"oh you want me to &t &t on that ? [+ exc]  oh okay &uh looks like the mother is doing [//] washing the dishes \\t.  and &uh the little boy is &=sighs tryin(g) to get cookies <up the \\tcookie jar> [//] up in the cookie jar .  and there's a little girl with him .  and &uh that's [//] the [/] &uh the [/] &uh oh the bench [: stool] \\t[* s:r] or what do you call it &uh is [//] it looks like it's gonna \\t[: going to ] fall .  and &um that's [/] &uh that's about all I can see . [+ exc]  and those [//] I guess this is breakfast .  &=hums . [+ exc]\", \"you want me to tell you ? [+ exc]  okay &uh the boy's getting in the cookie jar .  his sister's waiting for cookies .  the mother's washing dishes and water's spilling over .  &uh can see the walk and the grass outside in the window . [+ gram] \\t the &uh stool's about ready to fall .  the cupboard door's open .\", \"mhm . [+ exc]  well this one is in the cookie jar .  and <this is> [//] she tried to climb the &uh +...  oh â€¡ no [/] no . [+ exc]  this boy (.) <I think this is the same one huh> [//] (.) tried to \\tget in the cookie jar .  and she's watching .  and over here must be the mother .  I don't know what the heck they're doin(g) here though . [+ exc]  what's goin(g) on ? [+ exc]  <the stool> [//] she [: he] [* s:r] was climbing and the stool \\ttipped over .  she was doin(g) the dishes I think .  she spilled something .\"]\n",
        "y_train = [0, 0, 0, 0, 0, 0, 0, 0, 0, 0, 0, 0, 0, 0, 0, 0, 0, 0, 0, 0, 0, 0, 0, 0, 0, 0, 0, 0, 0, 0, 0, 0, 0, 0, 0, 0, 0, 0, 0, 0, 0, 0, 0, 0, 0, 0, 0, 0, 0, 0, 0, 0, 0, 0, 1, 1, 1, 1, 1, 1, 1, 1, 1, 1, 1, 1, 1, 1, 1, 1, 1, 1, 1, 1, 1, 1, 1, 1, 1, 1, 1, 1, 1, 1, 1, 1, 1, 1, 1, 1, 1, 1, 1, 1, 1, 1, 1, 1, 1, 1, 1, 1, 1, 1, 1, 1, 1, 1]\n",
        "x_test = [\"&uh this boy is about to fall off o(f) the stool .  the mother is &uh washing dishes and the water's spilling over on \\tthe &uh (.) kitchen floor .  the wind is blowing the curtains .  the little girl is laughing at her brother who's taking a cookie \\tout_of the cookie jar .  think that's it . [+ exc]\", \"&uh a boy with a cookie in his one hand and his hand in the cookie \\tjar . [+ gram]  standing on a stool which is tipping over . [+ gram]  the little girl's got her hand up for one .  and I don't know what the hand means to the mouth . [+ exc]  does it mean she wants to eat ? [+ exc]  the kitchen sink is running over, the water running out on the \\tfloor .  the mother's drying the dishes, frowning but not turning off the \\tfaucet .  &uh (..) &hm (...) two cups on the counter, (..) a plate . [+ gram] \\t the mother's standing in the middle o(f) the water .  curtains at the windows . [+ gram]  the lid's fallin(g) off the cookie jar .  I don't know what else is +//. [+ exc]  I could see their cupboard's half open .  that's it . [+ exc]\", \"I see &uh two kids up at the cookie jar, one on a stool the other \\tstanding on the floor .  cupboard door is opened . [+ gram]  mother's washing the dishes .  the water is running [//] overflowing the sink .  and &uh there's two cups and a plate on the counter .  and she's <washing> [//] holding a plate in her hand .  curtains at the windows . [+ gram]  the cookie jar has the lid off .  (.) &hm &hm that's about it . [+ exc]  cupboards underneath the sink . [+ gram]  cupboards underneath the other cupboards . [+ gram]  &uh kid falling off the stool . [+ gram]  the girl laughing at him . [+ gram]  cookies in the cookie jar with the lid off . [+ gram]  he has a cookie in his hand .  and that's it . [+ exc]\", \"okay the water's running out_of the sink overflowing .  the mother's doing the dishes .  &uh the boy is falling off o(f) the stool stealing the cookies out \\to(f) the cookie jar .  the young lady is holding her hand up ready to receive one o(f) the \\tcookies .  &uh there is a cup and a saucer on the &uh &uh sink board .  and &uh there's <the &uh drapes on the kitchen> [//] &uh the \\tcurtains on the kitchen and the [/] the cabinets all around the sink \\t.  and the top cabinets, the door is open and the cookie jar is in the \\tcabinet .  the boy is up there reaching for it and it looks like he's gonna \\tfall off of the stool .  and outside is a nice garden with the path leading around the house \\tand bushes and shrubs and grass growing around .  she has a dish towel in her hand &wa doing [//] drying one o(f) the \\tdishes .  and she has &uh her hairdo .  she's wearing an apron .  and the kids were wearing shoes .  and &sh she's wearing shoes .  and the water's dripping on the floor .  what else you wanna know ? [+ exc]\", \"well he's into the cookie jar and the [/] the &uh stool is falling \\tdown .  she's doin(g) dishes and the sink's runnin(g) over and wettin(g) \\ther feet .  and she look [//] doesn't look too happy .  anything else ? [+ exc]  she's drying the dishes .  right ? [+ exc]  and the kid's in the cookie jars .  how many things are sposta be wrong xxx ? [+ exc]\", \"yeah I see the woman's in a kitchen .  and +/.  +, now it looks like she's +...  I [/] &me I [/] &c I can't really pick it out but +... [+ exc]  oh and there's a gɪɾəl@u [: little] [* p:n] girl here talking and a \\tbɪɾəl@u [: little] boy I assume on this side here .  and this is a highchair [: stool] [* s:r] here (.) or some kind of \\ta chair . [+ cir]  and &uh (.) I don't know what this is here . [+ exc]  I can't see what that is . [+ exc]  (..) oh there's another .  did I talk about this girl up here ? [+ exc]  she's &uh +...  I can't see too plain what she's doing . [+ exc]  oh yes I think so . [+ exc]  (..) where was she xxx ? [+ exc]  this girl ? [+ exc]  (.) I really can't see what she's doing . [+ exc]  (..) no &uh I don't . [+ exc]  yeah, that's awfully hard for me to distinguish . [+ exc]\", \"oh it's the same picture . [+ exc]  you should give me a different one . [+ exc]  why &=laughs ? [+ exc]  it would be more fun if you had some variety . [+ exc]  okay . [+ exc]  we have here a scene in a kitchen and it looks as though that's a \\tmama who is working at the sink and her two children .  and the two children are hoping that mama will not notice because \\tshe's looking out the window that they are getting into the cookie \\tjar .  so the boy climbs up on a stool to reach the cookie jar .  and as he's getting up there the [/] &s <the tool [: stool] \\t[* pw-ret]> [//] the stool is tilting and he looks as though he were \\tabout to fall over .  and the little girl is telling him to be quiet by putting her \\tfinger on her lips .  he has one cookie in his hand, is reaching for another one .  the lid is off the cookie jar .  the cupboard door is open .  he's supposedly going to hand one cookie, it looks as though he is, \\tto his sister and grab another one for himself but I doubt he's [//] \\tthat he's gonna get all that done before the stool falls over .  <on the other> [//] around the corner of the kitchen &uh &um \\tthere's a counter that &uh sort_of turns a corner .  there are cupboards below the counter and above the counter where \\tthe cookies are .  then when you get over and have turned a corner in the kitchen you \\thave base cabinets and then you have a window above that which is \\tlooking out into something which makes it looks as though it's \\tsummer outside (be)cause the window is open .  there are things growing out there .  there's a walk .  there's &uh &uh some shrubbery underneath another window that looks \\tit's in a another wing of the house .  there's a tree beyond .  there are tie back curtains at the window .  the mother is working at the sink and the faucet is left on and \\tapparently there's no overflow in the sink so it's overflowing right \\tonto the floor splash@o [/] splash@o .  and &uh she has on a sleeveless dress which also indicates that \\tit's summer .  and it looks though she has an apron on .  she has short hair .  &um she is drying <a dish with a tea towel> [//] a plate with a tea \\ttowel .  &um beside the sink there are two cups and a plate .  looks as though there's some suds and some dishes in the sink . \\t[+ gram]  and two faucets with x@l type handles one on either side and a \\tcenter faucet . [+ gram]  she has shoes on with no ties, just sort of slip+on shoes .  there's a little scallop valance across the top of the curtains .  &hm (.) I think that's all I'm gonna tell you . [+ exc]  well â€¡ the handles on the door are the kind that are just &um \\talmost like a round piece of wood that you hafta get a hold of to \\tpull the cupboard door open .  and what's really strange is that you can't see any handles on the \\tcupboards on the other side of the kitchen .\", 'the pearl [: poor] [* p:w] &mo mom\\'s gettin(g) her wet [//] feet \\twet (be)cause she thinking of days gone by and then the water run . \\t[+ gram]  (.) and &uh that boy whether he knows or not he\\'s gonna crack his \\thead on the back of that counter trying to get too many cookies out \\t.  (..) he [//] (.) &uh I don\\'t know the significance of that little \\tgirl putting her hand to her mouth reaching .  unless that\\'s the way all silly girls act at that age . [+ gram]  pardon ? [+ exc]  +< oh sure . [+ exc]  there\\'s no handles on the [/] &uh the cabinet drawers under the \\tcounter <on his> [//] on the left side .  (..) and &uh (..) over in the [/] the window you see through the \\tkitchen window all the styles are not in the glass . [+ cir]  (...) and if the kitchen window\\'s the same type of window as well \\tthe other part of the house the style\\'s only in the (.) upper and \\tthe laterals .  maybe they build them that way xxx . [+ exc]  no, but <I did> [/] &n I did notice that\\'s a_little I wouldn\\'t say \\tunusual but [/] &uh but xxx .  pardon ? [+ exc]  I said that the sink was overflowing . the mother\\'s wet [//] gettin(g) her feet wet .  the boy\\'s going to fall very hard and hurt himself . and nobody\\'s gonna help him . well happening +... [+ exc]  did I say the cabinet doors where the kids are have no handles on \\tthem ? [+ exc]  (.) oh â€¡ there\\'s got to be a dozen other things . [+ exc]  responsible ? [+ exc]  well I\\'ll tell you the way mom is lookin(g) there\\'s not much \\tgoin(g) on in her head . she\\'s thinking of dad .  and the little girl is saying +\"/.  +\" sh@o don\\'t tell mom .  the conflict\\'s in <whereas the> [//] what she\\'s thinkin(g) whereas \\tshe didn\\'t know the kids are behind her .  (.) and did I say +..? [+ exc]  xxx . [+ jar] [+ exc]  the cabinet doors <aren\\'t the same> [//] are different sizes .  xxx have no handles . [+ jar]  I guess you take a big sledge hammer to that . [+ exc]', \"well the [/] &uh the little boy is (.) stealing cookies and \\tgivin(g) it to his friend or sister .  he's &uh partially gonna fall off the stool .  his sister is tellin(g) him to be quiet .  the mother is washing dishes .  an(d) &uh the water is overflowing onto the floor and she's \\tstanding in a puddle an(d) (.) has a smile on her face .\", \"well the sink is running over .  she's drying the dishes .  they're getting in the cookie jar and they're upsetting the stool . \\t the girl is reaching for a cookie .  the lady here's standing right in the water .  she seems to be looking out the window at the lawn .  that's about it right +/. [+ exc]\", \"I &s see this woman who's standin(g) by the sink washin(g) dishes \\tand the water's spillin(g) out over the sink .  and I see <a little> [//] this little boy standing on a stool \\treaching for cookies and he looks like he's ready to fall .  (..) &uh as far as action goes I don't know if I see any more \\taction in there at all . [+ exc]\", \"it's a family affair, a mother and the children .  and &uh they're each busy at [/] at &uh something . [+ es]  and the [//] &um (.) &uh they seem oblivious to the water falling \\t[//] &=laughs &uh &uh overflowing .  (.) but they seem happy in doing their own thing .  (..) <I don't think I> [//] I lost that . [+ exc]  I think I +... [+ exc]\", \"well the little girl is reaching for a cookie .  and the boy is on a stool which is falling over to get in the \\tcookie jar up on the second shelf of the cupboard with the door open \\t.  the faucet is running and it's overflowing onto the floor because \\t&um it's overflowing into the sink .  the woman is drying a plate .  she's also looking out the window .  there's a couple of bowls and a plate on the &uh counter .  curtains at the windows . [+ gram]  there's a driveway or it looks like a driveway outside .  and you can see another window and some bushes out there and the \\ttree .  and <I guess that's> [//] &pa looks like a <part of the garage> \\t[//] window of the garage out there . [+ gram]  and &uh &um the cookie jar has the lid off .  and the boy has one hand in the cookie jar and one with a cookie in \\tit handing &uh to the little girl who's got her hand up for it and \\ther [//] she looks like got her finger to mouth tell him to be \\tcareful &=laughs .\", \"a little boy is gettin(g) himself some cookies out o(f) the jar .  and the &s stool is turnin(g) over on him (.) that he's standing on \\t.  he's handing the little girl some cookies out_of the jar .  is that it ? [+ exc]  and [//] well that's in the first one .  he's handing the little girl cookies out_of the cookie jar .  and he's on a stool and it's turning over .  and he's handing her some cookies .  and in the second picture the little girl &uh looks as though she's \\tdrying dishes .  +< and &uh <oh let me think> [//] the sink is running over on the \\tfloor .  she has the spigots on .  a nice view from the window . [+ gram]  +< <is that> [/] is that it ? [+ exc]  that's it . [+ exc]\", \"I see a little boy on a stool almost falling over, taking cookies \\tout_of the cookie jar .  and the little girl is putting her finger to her mouth <that she's> \\t[//] &uh to keep it quiet .  the &uh mother is washing dishes .  she's drying the dishes and letting the water (.) &uh <keep being> \\t[//] &uh keep on running <in the> [/] in the sink .  and then water is running over and she is standing <in the sink \\t[: water] [* s:r-ret]> [//] in the water that's &uh running over .  &uh there's a window there she's looking at, at the grass and the \\tflowers .  and the &uh &uh curtains seem to be shaking from the (.) wind and \\tthe air that's blowing in .  the dishes that she's through (.) drying are sitting on the sink \\ttop .  and the little girl's raising her hands for the little boy to hand \\ther a cookie .  and he has one cookie in his hand and he's going after another one \\t.  &uh he's ready to hand her a cookie .  mother is &uh holding a dish cloth that she's drying the dishes \\twith .  she has a platter that she's drying .  I don't see any other action . [+ exc]\", \"&uh the sink's runnin(g) over .  the water's goin(g) all over the floor .  here <the boy> [//] the step+ladder [: step+stool] [* s:r] is \\tturnin(g) under his legs and he's stealin(g) cookies out_of the \\tcookie jar .  and she's begging for cookies the girl is .  coming back to the sink let's see here . [+ exc]  &aw mama's steppin(g) in the water .  and I [/] &s &=clears:throat I said the sink was running over .  she's dryin(g) dishes .  wait a minute . [+ exc]  what the devil is xxx ? [+ exc]  (.) there is some(th)in(g) but I don't know what it is written on \\tthe grass it seems .  +< what is that ? [+ exc]  and (.) the curtains . [+ gram]  that's a p@l p@l somethin(g) there . [+ es]  hm (...) &=coughs let's see . [+ exc]  I don't see anything else there . [+ exc]  she's steppin(g) in the water .  the sink's runnin(g) over .  (..) that spells somethin(g) down there but I can't see it .  &=coughs xxx so far xxx . [+ exc]  and he's on a [/] a stool that's gonna fall over while they're \\tstealin(g) cookies .  and there's a plate and two cups on the sink and she's got a plate \\tin her hand .  (.) I don't see anything else . [+ exc]\", \"whew &=laughs . [+ exc]  &uh do I hafta use my [/] my [/] &uh my personal &uh description ? \\t[+ exc]  or &=laughs like &uh +... [+ exc]  <the &c cookie jar> [//] stealing the &g &uh cookie out o(f) the \\tcookie jar . [+ gram]  the [/] &t &uh the &tripar not [//] &t stool the &tr triple \\t[: three legged] [* s:r] stool is [//] he's [/] &uh he's rockin(g) \\twith its +...  &uh I wonder if she's puttin(g) her finger to her [/] her lips .  and &uh is that she wants one to eat or she's &ha &h reachin(g) up \\tfor it ? [+ gram]  huh ? [+ exc]  and then spillin(g) the water in the kitchen sink . [+ gram]  she's dryin(g) the dishes .  (..) they got their &s sink is overflowin(g) .  so <that would be the> [//] that's why it's overflowin(g) because \\t<the &s sink> [//] &w &uh &uh this water's runnin(g) out o(f) the \\tspigot .  she's dryin(g) the dishes .  and let's see what else &uh +... [+ exc]  am I missin(g) somethin(g) ? [+ exc]  you_know I'm pretty tired . [+ exc]  (..) I guess xxx . [+ exc]  xxx huh ? [+ exc]\", \"cookie jar . [+ gram]  &uh a lad standing on a stool teetering, grabbing for the cookies . \\t[+ gram]  sister I guess laughing at him . [+ gram]  mother washing dishes . [+ gram]  sink is overflowing . [+ gram]  &um view of the yard and the kitchen window with its curtain . \\t[+ gram]  two cups and a dish remain .  looks like they're dried . [+ gram]  mother standing in the overflowed water . [+ gram]  &um her <four vased> [//] two faced cabinets four doors . [+ gram] \\t +< and a valance and the curtain . [+ gram]  window's half open . [+ gram]  and there's landscaping along the wall of <the &uh view from the \\tyard> [//] view of the yard .  and the walk+way pictured from the window . [+ gram]  water is running, overflowing .  boy is holding a cookie in his left hand, grabbing for another one \\twith his right hand . [+ gram]  the lid of the cookie jar is over [//] uff [: off] [* nk-ret] [//] \\toff .  mother's wearing an apron drying dishes .  okay . [+ exc]\", \"a little girl is reaching for her brother to give her a cookie .  the stool is falling over .  the boy has taken the lid off the cookie jar, has a cookie in his \\t&l left hand, is reaching with his right hand for one .  the mother is drying the dishes .  the water is flowing [//] &o running and flowing out_of the sink . \\t &um (.) mother is frowning .  (.) there's nothing going on outside there's just bushes [x 3] .  &uh the door is open .  (.) the girl has [//] looks like she's laughing .  (.) &ma the lady's standing in the water .  (.) okay ? [+ exc]  +< I think that's it . [+ exc]\", \"well <the table [: stool] [* s:r-ret]> [//] the seat [: stool] \\t[* s:r] is falling .  the sink is running over .  the girl's reaching for a cookie .  the mom is dryin(g) a dish .  &hm &hm cup and saucers there . [+ gram]  (..) yeah that's about all that +//. [+ exc]  I <didn't hit> [//] did this and then I did that . [+ exc]  &hm well yeah here's some outside (.) the window . [+ es]  &uh a garden I guess . [+ gram]\", \"well the boy is &=clears:throat taking cookies out_of the cookie \\tjar while the [/] the stool is ready to &uh fall over .  the girl is reachin(g) for a cookie .  &uh the mother is looking out the window while the water runs over \\tfrom the sink .  she has wet feet standing in the water .  that's the action that I see . [+ exc]  well naturally the stool falls over the boy is going to fall on the \\tfloor . [+ gram]\", 'oh yeah . [+ exc]  kid\\'s climbin(g) up on the stool and reachin(g) up in the cupboard \\t. [+ gram]  they aren\\'t gonna knock things off .  and &uh <the mother> [//] oh boy the water\\'s all spillin(g) out \\to(f) the sink .  she\\'s just looking at it like +\"/.  +\" oh for goodness sakes .  (.) huh . [+ exc]  &uh &hm (...) well as I say that &uh you_know the boy <on the &s \\tstand [: stool] [* s:r-ret] or> [//] on that stool and it\\'s \\ttiltin(g) . [+ gram]  that\\'s a good way to break his neck . [+ exc]  break his back I shoulda said . [+ gram]  woman left her faucet running and it rolled over the floor . \\t[+ gram]  that\\'s bad enough for me to do . [+ exc]  &um let me scan it a little bit more . [+ exc]  &uh (...) oh it\\'s there more in time ? [+ exc]  +< oh [/] oh . [+ exc]  yeah . [+ exc]', \"(.) she's preparing a meal .  I'm going to hafta quit reading this because this [/] this is \\tshining on this xxx +/. [+ exc]  getting my xxx . [+ exc]  xxx . [+ exc]  xxx . [+ exc]  this [/] this string is not on this is it ? [+ exc]  yes . [+ exc]  they're reaching up for a cookie in cookie jar . [+ gram]  and they're cooking a turkey dinner I guess .  cooking a turkey dinner . [+ gram]  she's doing the dishes .  (.) this little boy might fall off of that stool he's on .  and the water's splashing out all over the floor and she doesn't \\tknow it .  <and the boy might> [//] he's looking for the cookie jar and he \\tmight bang his head on the (.) thing by the door . [+ cir]\", \"&uh the boy is reaching into the cookie jar .  he's falling off the stool .  the little girl is reaching for a cookie .  mother is drying the dishes .  the sink is running over .  mother's getting her feet wet .  they all have shoes on .  there's <a cup> [//] two cups and a saucer on the sink .  the window has draw [//] withdrawn [: drawn] [* s:r] drapes .  you look out on the driveway .  there's kitchen cabinets .  oh what's happening . [+ exc]  mother is looking out the window .  the girl is touching her lips .  the boy is standing on his right foot .  his left foot is sort_of up in the air .  mother's right foot is flat on the floor and <her left> [//] she's \\ton her left toe .  &uh she's holding the dish cloth in her right hand and the plate \\tshe is drying in her left .  I think I've run out of +/. [+ exc]  +< yeah &=laughs . [+ exc]\", \"young boy is up at the cookie jar . [+ gram]  he has the cookie jar opened .  he's reachin(g) for one for himself .  he's handing one down to his sister .  the three legged stool is coming down with him .  &uh they're nicely dressed kids but &uh the boy needs his socks \\tpulled up .  &mm that's all I see there . [+ exc]  mother [//] I presume it's mother is at the sink .  the water is &r running over out_of sink .  she's drying a dish .  she's looking out the window .  there are two cups and a dish, I presume that's a dish, that are \\talready dry I guess and sitting on the side of the sink .  &uh nicely groomed . [+ gram]  nice curtains pulled back . [+ gram]  it's apparently summer outside because the window's open and it \\tlooks like shrubs are growing .  you can see a window in the other part of the house .  I presume that's still their house .  and there's a driveway bordered with grass .  and there's a tree out there somewhere that you can see part of the \\ttrunk and part of the foliage .  and &uh I see cabinets around the kitchen, other cabinets .  and that's about it . [+ exc]\", \"oh little boy's in the cookie jar . [+ gram]  the girl's standin(g) down and waitin(g) for him to <give him \\t[: her] [* s:r-ret] some> [//] give her some .  the mother's doin(g) the dishes .  and she's also <letting him> [//] letting &hm +...  oh the water just fell off [//] over on the floor .  &uh can I turn the page ? [+ exc]  okay . [+ exc]  that's all there is except she's just gettin(g) all wet .  no . [+ exc]  the little girl was helpin(g) xxx the boy to get to the cookie jar \\t.  but he started stumblin(g) .  he must ha(ve) fell over (be)cause he seems to be falling there .  and the mother's over at the sink drying dishes .  and it's goin(g) on the floor .  and three cups [//] three bowls there . [+ gram]\", \"mhm . [+ exc]  &=sighs the little boy is reaching for a cookie .  and he's falling at the same time because the stool has tipped over \\t.  his little sister is reaching for a cookie and I think beginning to \\tlaugh because he's falling .  the sink is running over and dripping water on the floor while the \\tmother is trying to dry the dishes .  &um the window is open and the curtains are blowing in the breeze \\tcoming in from outside .  the water is running in the sink .  that's why it's overflowing .  (..) I also believe that the mother is daydreaming .  (.) possibly worrying about &uh something . [+ gram]  that's it . [+ exc]  that's all I see . [+ exc]\", \"hm +... [+ exc]  it's a little boy climbin(g) up gettin(g) some &coo cookies out \\to(f) the cookie jar .  and his little sister reachin(g) for some . [+ gram]  and the little boy is standin(g) on a ladder [: stool] [* s:r] .  an(d) his big sister washin(g) the dishes (..) at the sink .  (..) big sister washin(g) the dishes and then <she got> [/] she got \\t&uh dishes <on the> [//] &s sittin(g) on the sink . [+ gram]  and I think she's &uh runnin(g) water .  and I said <the &uh little sister's> [//] &uh &reach Johnny's [//] \\tJohnny <he is> [/] &uh he is up on the ladder &uh &get gettin(g) \\tsome cookies and the little sister <reachin(g) up> [/] &reach \\treaching up after some . [+ gram]  +< <he he he> [//] he's passin(g) it down to her .  and <the ladder [: stool] [* s:r-rep]> [/] the ladder [: stool] \\t[* s:r] about to turn over . [+ gram]  the [//] &k &uh this [//] the cups <what she's> [//] &uh &sh maybe \\tshe goin(g) to wash them and she got them sittin(g) <on the> [/] on \\tthe sink . [+ gram]  and <maybe runnin(g)> [/] maybe runnin(g) water on the sink and \\t<they got> [//] if she <got a> [/] got a curtain to pull (.) that \\tshe might get some light in there . [+ gram]  since dishes [//] the dishes stacked up . [+ gram]  they might be on the sink .  no that be about all xxx . [+ exc]\", \"&hm (..) cookie jar . [+ gram]  <and he's stepping on a> [//] &s well he's on a stool but it's [//] \\the's going overboard .  and the water's running out_of the sink .  and &uh let's see . [+ exc]  yes . [+ exc]\", \"(.) alright . [+ exc]  &uh the little girl &s wants cookie . [+ gram]  the boy is getting her one but <the &s stool is going to> [//] he's \\tgoing to fall off the stool .  it's tilty [: tilting] [* p:n] .  &uh the mother is doing the dishes .  and unfortunately the sink is overflowing on the floor &=laughs .  it's wet .  xxx . [+ exc]  xxx . [+ exc]  (..) the little &b +...  oh that's his feet .  I thought there was something around the little boy's foot or <at \\tleast> [/] at least just <one part of> [//] one foot [/] foot (.) on \\ttop of the other .  the little girl I [/] I don't whether she's laughing or asking for \\tthe cookie or saying “shh” so mother doesn't hear them &=laughs .\", \"&um the girl's <in the> [//] (.) tryin(g) +...  (...) &hm did I get that ? [+ exc]  and girl that &=clears:throat (.) is dryin(g) does dishes, right ? \\t[+ gram]  she's bʌʃɪŋ@u [: washing] [* n:k-ret] [//] gushin(g) [: washing] \\t[* s:ur] dishes . [+ jar]  and there's two boys .  one [/] &uh one is get a &choc cookies [/] cookies jar (..) in the \\tcabinet . [+ gram]  and <the [/] the girl's cryin(g) for the> [//] &=laughs &s she \\twants a &=laughs &coo &cook &c cookie .  and the girl +...  what's it always say that ? [+ gram] [+ exc]  upset the water up the sink . [+ gram]\", \"mhm . [+ exc]  &hm well &sh (..) she's &um spillin(g) the water from [/] from \\twashin(g) &uh her dishes .  it's [/] it's runnin(g) over rather .  in the (.) the youngsters are [/] are &uh getting the jam [* s:uk] \\t.  and in the meantime he's tiltin(g) his chair [: stool] [* s:r] \\t&=laughs .  hm ? [+ exc]  <he is> [//] he's [/] he's trying to get the cake [* s:uk] down \\twhere &sh &sh I suppose she can share with him .  <and then> [//] <and the mother is> [//] &uh &lis the water is \\trunnin(g) over &=laughs which she doesn't seem to be aware of it too \\tmuch . [+ gram]  and <his chair [: stool] [* s:r-ret] is slippin(g) out from> [//] \\t&uh the stool is slippin(g) out from under him &=laughs .\", \"all the action ? [+ exc]  (.) okay it's a boy and a girl (.) and their mom .  (.) and &uh well <this here one [/] &g one [/] one> [//] they're \\tfallin(g) [/] fallin(g) down in through here . [+ es]  (..) and then this here when the [/] &w the water in [//] it should \\tbe goin(g) down in there but it's goin(g) down on the side here . \\t[+ gram]  it's goin(g) all the way down in there .  &um they're gettin(g) somethin(g) to eat here .  cookeiejar@k . [+ gram]  and they're gettin(g) something to eat here .  (.) and this is a nice place <what they> [/] <what they> [/] what \\tthey have .  but they put that stuff around in there . [+ es]  <it looks> [//] &n it looks nice .  and then here when they had some stuff in through here . [+ gram]  and &uh +... [+ exc]  I like these things in through here too . [+ exc]  +< yeah . [+ exc]\", \"okay the kid on the bench who's got his hand in the cookie jar and \\the's falling off and his sister wants one .  &uh his mother is standing in a puddle of water because she didn't \\tturn off the faucet and she's dryin(g) [//] dry a dish .  she oughta dry her feet instead .  &uh the window is open .  &um &uh well the sink is overflowing .  &uh it's obviously summer because the window as I said was open .  there's &uh supposedly leaves on the trees .  &uh anything else that I'm sposta pick up ? [+ exc]  well the kid's gonna fall off .  and it xxx .  the lid is off the cookie jar .  and he's got one in his hand and handing it to his sister .  and one and he's sneaking another one . [+ gram]  not sneaking . [+ gram]  &uh the water is still running in the sink .  and splashing on the floor . [+ gram]\", \"well the mother has water spillin(g) all over the floor for one \\tthing .  then she's startin(g) to dry the dishes .  and then she's looking out the window .  and &uh the little girl's there and the little boy and he almost is \\tfallin(g) off the stool .  but he didn't so +...  he [/] &d he survived anyway huh ?  yeah [/] yeah on this paper yeah . [+ exc]\", \"okay . [+ exc]  well in the first place the [/] &m the mother forgot to turn off \\tthe water and the water's running out the sink .  and &sh she's standing there &=laughs .  it's falling on the floor .  the child is got a stool and reaching up into the cookie jar . \\t[+ gram]  and the [x 3] stool is tipping over .  and he's sorta [: sort_of] put down the plates . [+ gram]  and she's reaching up to get it but I don't see anything wrong with \\t&=laughs her though .  yeah that's it . [+ exc]  I can't see anything . [+ exc]\", \"well let's see . [+ exc]  the girl is whisperin(g) to be quiet (be)cause mother might find \\tout that the he's is standing on a school [: stool] [* p:w-ret] [//] \\tstool which is bending over .  and he's reachin(g) in a cookie jar and he has a cookie .  and she's grabbing for the one that he has in his left hand .  and the sink is running over with water for some reason or other \\twhile she's drying (.) a dish and looking out the window and \\tstepping in a puddle of water .  (..) and the race horse is jumping through the window . [+ exc]  no . [+ exc]\", \"(.) okay . [+ exc]  (..) anywhere ? [+ exc]  &um the little girl's laughing .  the little boy's getting cookies and he's falling .  &uh I guess the mother would be doing dishes and the water's \\toverflowing out_of the sink .  &uh the window's open and I would say the wind is blowing .  I guess that's it . [+ exc]\", \"(..) you mean like the woman doing the dishes and the water running \\t<out of the> [//] in the sink .  little boy is gettin(g) in the cookie jar .  the s:tool is falling over .  little girl wants one .  hmhunh no . [+ exc]  the dishes sittin(g) on the sink . [+ gram]  and the window . [+ gram]  the grass and stuff outside . [+ gram]  (..) the woman has an apron on .  I don't know where everything +... [+ exc]  I don't see anything else on that . [+ exc]\", \"there's &um the two children are in the process o(f) stealing \\tcookies from the cookie jar .  and the little girl has her finger up to her mouth to be quiet .  and the stool on which the boy is standing is about to fall .  and the mother must be lookin(g) out the window because the sink is \\tspilling over with water, overflowing with water .  and the [//] meanwhile she's dryin(g) the dishes .  an(d) the water is fallin(g) down onto the floor .  and it's a nice day .  the window's up it looks like .  and it's a nice day outside .  that's about all I can see on that . [+ exc]\", \"(.) seein(g) the mother . [+ gram]  she's washing dishes and the water's runnin(g) all over the floor . \\t and the boy he's reaching up for cookies .  and he [//] his ladder [: stool] [* s:r] slipped from underneath \\thim .  and I guess he's gonna have an accident .  and the little girl she's waiting for the cookies, but I don't \\tthink she's gonna to get (th)em because the boy's falling down .\", \"well the boy is getting cookies and he's gonna fall off the stool . \\t and the mother is doing dishes .  and the water is running over out_of the sink .  she has the faucet on .  she's spilling water all over the floor .  well the boy is handing the little girl a cookie .  &uh nothing that I can see of action . [+ exc]\", \"(..) . [+ exc]  tell me . [+ exc]  oh . [+ exc]  +< oh by lookin(g) at the +... [+ exc]  +< okay <the boy> [/] the boy is standing on a &ch chair [: stool] \\t[* s:r] that is &uh starting to fall over .  he's &uh taking cookies out_of the cookie [/] cookie jar .  the girl is like snickering at what's happening to him in a sense . \\t so she's reaching up to take a cookie from his hand .  &uh the woman the mother is drying a dish .  and the sink is <flooding over> [//] &uh overflowing .  and there's water coming out_of the spigot .  and there's well &y actually happening or (..) &al +/? [+ exc]  well that's [/] that's all that's in a way of movement but there's \\t&uh dishes on the sink .\", \"okay the boy's in the cookie jar .  he's [/] (.) he's gonna fall off his stool .  the mother's (.) tub's running over (..) on the floor .  kid's gonna hit on the floor &=laughs .  where's the girl at there ? [+ exc]  an(d) she's [/] she reachin(g) for &uh a cookie .  (.) poor ol(d) mom gotta &g get her &=grunts +...  that's about it, huh ? [+ exc]\", \"&=tapping well this happens to be a kitchen .  and the mother of the house is washing the dishes .  and the water is overflowing from the sink onto the floor .  and the &uh two children evidently a brother and a sister are &uh \\tgetting cookies out_of the cookie jar which is on the second shelf \\tof the upper cupboard .  and &uh he's standing on a three legged stool and is losing its \\tbalance and about to fall on the floor .\", \"well the little kid's falling off his chair [: stool] [* s:r] .  and the mother is having water run over the &uh sink .  well the water's running on the floor +/.  +, under her feet .  I'm looking outside but that yard is okay .  the windows are open .  the little girl is laughing at the boy falling off the chair \\t[: stool] [* s:r] &=laughs .  that [//] that's bad &=laughs . [+ exc]\", \"well for one thing the boy is stealing cookies .  and the girl is asking for a cookie .  and the boy is standing on a (.) stool which is tipping over .  and the lady's drying a plate .  and the (.) water is running in the sink and overflowing on the \\tfloor and getting her feet wet .  and the window is open .  and (.) I don't know that there's anything special going on outside \\tthe window . [+ exc]  seems to me <that> [/] &uh that's essentially the things that are \\tgoing on in this picture . [+ exc]  the girl is picking her nose .  the boy is handing her a cookie .  (.) &uh really those are the only activities I see . [+ exc]\", \"little girl with her finger to her lips . [+ gram]  the boy on the stool . [+ gram]  stool tipping over . [+ gram]  getting cookies out_of the cookie jar . [+ gram]  &uh mother washing dishes . [+ gram]  water running . [+ gram]  sink overflowing . [+ gram]  xxx those curtains are blowing or not .  (..) that's about it . [+ exc]\"]\n",
        "y_test = [0, 0, 1, 0, 1, 1, 0, 1, 1, 1, 0, 1, 0, 1, 0, 0, 1, 0, 0, 1, 0, 1, 1, 0, 0, 1, 0, 1, 1, 1, 1, 1, 1, 0, 1, 0, 0, 0, 1, 0, 1, 0, 0, 1, 0, 1, 0, 0]\n",
        "\n",
        "print('size of training set: %s' % (len(x_train)))\n",
        "print('size of validation set: %s' % (len(x_test)))\n",
        "print('classes: %s' % (classes))"
      ]
    },
    {
      "cell_type": "markdown",
      "source": [
        "## BERT"
      ],
      "metadata": {
        "id": "u0h-z5FeERDf"
      }
    },
    {
      "cell_type": "markdown",
      "metadata": {
        "id": "BenxCh2B8zJt"
      },
      "source": [
        "### Preprocessar dados por BERT"
      ]
    },
    {
      "cell_type": "code",
      "execution_count": 8,
      "metadata": {
        "id": "v_eOZaMa73Im",
        "colab": {
          "base_uri": "https://localhost:8080/",
          "height": 347
        },
        "outputId": "3c5aacf7-c791-44a7-ce68-12d2313d2b24"
      },
      "outputs": [
        {
          "output_type": "stream",
          "name": "stdout",
          "text": [
            "downloading pretrained BERT model (uncased_L-12_H-768_A-12.zip)...\n",
            "[██████████████████████████████████████████████████]\n",
            "extracting pretrained BERT model...\n",
            "done.\n",
            "\n",
            "cleanup downloaded zip...\n",
            "done.\n",
            "\n",
            "preprocessing train...\n",
            "language: en\n"
          ]
        },
        {
          "output_type": "display_data",
          "data": {
            "text/plain": [
              "<IPython.core.display.HTML object>"
            ],
            "text/html": [
              "\n",
              "<style>\n",
              "    /* Turns off some styling */\n",
              "    progress {\n",
              "        /* gets rid of default border in Firefox and Opera. */\n",
              "        border: none;\n",
              "        /* Needs to be in here for Safari polyfill so background images work as expected. */\n",
              "        background-size: auto;\n",
              "    }\n",
              "    progress:not([value]), progress:not([value])::-webkit-progress-bar {\n",
              "        background: repeating-linear-gradient(45deg, #7e7e7e, #7e7e7e 10px, #5c5c5c 10px, #5c5c5c 20px);\n",
              "    }\n",
              "    .progress-bar-interrupted, .progress-bar-interrupted::-webkit-progress-bar {\n",
              "        background: #F44336;\n",
              "    }\n",
              "</style>\n"
            ]
          },
          "metadata": {}
        },
        {
          "output_type": "display_data",
          "data": {
            "text/plain": [
              "<IPython.core.display.HTML object>"
            ],
            "text/html": [
              "done."
            ]
          },
          "metadata": {}
        },
        {
          "output_type": "stream",
          "name": "stdout",
          "text": [
            "Is Multi-Label? False\n",
            "preprocessing test...\n",
            "language: en\n"
          ]
        },
        {
          "output_type": "display_data",
          "data": {
            "text/plain": [
              "<IPython.core.display.HTML object>"
            ],
            "text/html": [
              "\n",
              "<style>\n",
              "    /* Turns off some styling */\n",
              "    progress {\n",
              "        /* gets rid of default border in Firefox and Opera. */\n",
              "        border: none;\n",
              "        /* Needs to be in here for Safari polyfill so background images work as expected. */\n",
              "        background-size: auto;\n",
              "    }\n",
              "    progress:not([value]), progress:not([value])::-webkit-progress-bar {\n",
              "        background: repeating-linear-gradient(45deg, #7e7e7e, #7e7e7e 10px, #5c5c5c 10px, #5c5c5c 20px);\n",
              "    }\n",
              "    .progress-bar-interrupted, .progress-bar-interrupted::-webkit-progress-bar {\n",
              "        background: #F44336;\n",
              "    }\n",
              "</style>\n"
            ]
          },
          "metadata": {}
        },
        {
          "output_type": "display_data",
          "data": {
            "text/plain": [
              "<IPython.core.display.HTML object>"
            ],
            "text/html": [
              "done."
            ]
          },
          "metadata": {}
        },
        {
          "output_type": "stream",
          "name": "stdout",
          "text": [
            "task: text classification\n",
            "trn: (2, 108, 400), (108, 2)\n",
            "val: (2, 48, 400), (48, 2)\n",
            "<ktrain.text.preprocessor.BERTPreprocessor object at 0x7c396ea22ad0>\n"
          ]
        }
      ],
      "source": [
        "import ktrain\n",
        "import numpy as np\n",
        "from ktrain import text\n",
        "\n",
        "# Preparar dados para ktrain\n",
        "(x_train, y_train), (x_test, y_test), preproc = text.texts_from_array(x_train=x_train, y_train=y_train,\n",
        "                                                                      x_test=x_test, y_test=y_test,\n",
        "                                                                      class_names=['0', '1'],\n",
        "                                                                      preprocess_mode='bert')\n",
        "# Definir variáveis trn e val\n",
        "trn = (x_train, y_train)\n",
        "val = (x_test, y_test)\n",
        "\n",
        "# Imprimir formas das variáveis para verificação\n",
        "print(f'trn: {np.shape(trn[0])}, {np.shape(trn[1])}')\n",
        "print(f'val: {np.shape(val[0])}, {np.shape(val[1])}')\n",
        "print(preproc)"
      ]
    },
    {
      "cell_type": "markdown",
      "metadata": {
        "id": "rp7cIEWzIF_s"
      },
      "source": [
        "### Escolher batch_sizes = [4, 6, 8, 12] (BERT)"
      ]
    },
    {
      "cell_type": "code",
      "execution_count": 9,
      "metadata": {
        "colab": {
          "base_uri": "https://localhost:8080/",
          "height": 1000
        },
        "id": "hhdWtPJVHEaB",
        "outputId": "4efd04a4-1f77-42e9-bbb5-2c356250f005"
      },
      "outputs": [
        {
          "output_type": "stream",
          "name": "stdout",
          "text": [
            "Treinando com batch size 4...\n",
            "Is Multi-Label? False\n",
            "maxlen is 400\n"
          ]
        },
        {
          "output_type": "stream",
          "name": "stderr",
          "text": [
            "/usr/local/lib/python3.10/dist-packages/keras/src/initializers/initializers.py:120: UserWarning: The initializer GlorotNormal is unseeded and being called multiple times, which will return identical values each time (even if the initializer is unseeded). Please update your code to provide a seed to the initializer, or avoid using the same initializer instance more than once.\n",
            "  warnings.warn(\n"
          ]
        },
        {
          "output_type": "stream",
          "name": "stdout",
          "text": [
            "done.\n",
            "\n",
            "\n",
            "begin training using onecycle policy with max lr of 5e-05...\n",
            "Epoch 1/4\n",
            "27/27 [==============================] - 35s 632ms/step - loss: 0.6908 - accuracy: 0.6111 - val_loss: 0.5067 - val_accuracy: 0.7917\n",
            "Epoch 2/4\n",
            "27/27 [==============================] - 13s 499ms/step - loss: 0.5662 - accuracy: 0.8148 - val_loss: 0.5208 - val_accuracy: 0.7917\n",
            "Epoch 3/4\n",
            "27/27 [==============================] - 13s 504ms/step - loss: 0.3396 - accuracy: 0.8519 - val_loss: 0.6975 - val_accuracy: 0.7083\n",
            "Epoch 4/4\n",
            "27/27 [==============================] - 13s 470ms/step - loss: 0.1514 - accuracy: 0.9352 - val_loss: 0.8030 - val_accuracy: 0.7500\n",
            "Treinando com batch size 6...\n",
            "Is Multi-Label? False\n",
            "maxlen is 400\n"
          ]
        },
        {
          "output_type": "stream",
          "name": "stderr",
          "text": [
            "/usr/local/lib/python3.10/dist-packages/keras/src/initializers/initializers.py:120: UserWarning: The initializer GlorotNormal is unseeded and being called multiple times, which will return identical values each time (even if the initializer is unseeded). Please update your code to provide a seed to the initializer, or avoid using the same initializer instance more than once.\n",
            "  warnings.warn(\n"
          ]
        },
        {
          "output_type": "stream",
          "name": "stdout",
          "text": [
            "done.\n",
            "\n",
            "\n",
            "begin training using onecycle policy with max lr of 5e-05...\n",
            "Epoch 1/4\n",
            "18/18 [==============================] - 33s 991ms/step - loss: 0.6972 - accuracy: 0.5833 - val_loss: 0.7668 - val_accuracy: 0.5833\n",
            "Epoch 2/4\n",
            "18/18 [==============================] - 12s 697ms/step - loss: 0.5565 - accuracy: 0.7130 - val_loss: 0.8461 - val_accuracy: 0.7083\n",
            "Epoch 3/4\n",
            "18/18 [==============================] - 13s 704ms/step - loss: 0.6574 - accuracy: 0.6667 - val_loss: 0.7489 - val_accuracy: 0.5000\n",
            "Epoch 4/4\n",
            "18/18 [==============================] - 14s 764ms/step - loss: 0.3682 - accuracy: 0.8148 - val_loss: 0.4600 - val_accuracy: 0.8125\n",
            "Treinando com batch size 8...\n",
            "Is Multi-Label? False\n",
            "maxlen is 400\n"
          ]
        },
        {
          "output_type": "stream",
          "name": "stderr",
          "text": [
            "/usr/local/lib/python3.10/dist-packages/keras/src/initializers/initializers.py:120: UserWarning: The initializer GlorotNormal is unseeded and being called multiple times, which will return identical values each time (even if the initializer is unseeded). Please update your code to provide a seed to the initializer, or avoid using the same initializer instance more than once.\n",
            "  warnings.warn(\n"
          ]
        },
        {
          "output_type": "stream",
          "name": "stdout",
          "text": [
            "done.\n",
            "\n",
            "\n",
            "begin training using onecycle policy with max lr of 5e-05...\n",
            "Epoch 1/4\n",
            "14/14 [==============================] - 37s 1s/step - loss: 0.7016 - accuracy: 0.6296 - val_loss: 0.4982 - val_accuracy: 0.7500\n",
            "Epoch 2/4\n",
            "14/14 [==============================] - 13s 904ms/step - loss: 0.5063 - accuracy: 0.7222 - val_loss: 0.9793 - val_accuracy: 0.6667\n",
            "Epoch 3/4\n",
            "14/14 [==============================] - 13s 912ms/step - loss: 0.9168 - accuracy: 0.6759 - val_loss: 0.4930 - val_accuracy: 0.7708\n",
            "Epoch 4/4\n",
            "14/14 [==============================] - 13s 921ms/step - loss: 0.5047 - accuracy: 0.7315 - val_loss: 0.5677 - val_accuracy: 0.7083\n",
            "Treinando com batch size 12...\n",
            "Is Multi-Label? False\n",
            "maxlen is 400\n"
          ]
        },
        {
          "output_type": "stream",
          "name": "stderr",
          "text": [
            "/usr/local/lib/python3.10/dist-packages/keras/src/initializers/initializers.py:120: UserWarning: The initializer GlorotNormal is unseeded and being called multiple times, which will return identical values each time (even if the initializer is unseeded). Please update your code to provide a seed to the initializer, or avoid using the same initializer instance more than once.\n",
            "  warnings.warn(\n"
          ]
        },
        {
          "output_type": "stream",
          "name": "stdout",
          "text": [
            "done.\n",
            "\n",
            "\n",
            "begin training using onecycle policy with max lr of 5e-05...\n",
            "Epoch 1/4\n"
          ]
        },
        {
          "output_type": "error",
          "ename": "ResourceExhaustedError",
          "evalue": "Graph execution error:\n\nDetected at node model_7/Encoder-10-MultiHeadSelfAttention/transpose_3 defined at (most recent call last):\n  File \"/usr/lib/python3.10/runpy.py\", line 196, in _run_module_as_main\n\n  File \"/usr/lib/python3.10/runpy.py\", line 86, in _run_code\n\n  File \"/usr/local/lib/python3.10/dist-packages/colab_kernel_launcher.py\", line 37, in <module>\n\n  File \"/usr/local/lib/python3.10/dist-packages/traitlets/config/application.py\", line 992, in launch_instance\n\n  File \"/usr/local/lib/python3.10/dist-packages/ipykernel/kernelapp.py\", line 619, in start\n\n  File \"/usr/local/lib/python3.10/dist-packages/tornado/platform/asyncio.py\", line 195, in start\n\n  File \"/usr/lib/python3.10/asyncio/base_events.py\", line 603, in run_forever\n\n  File \"/usr/lib/python3.10/asyncio/base_events.py\", line 1909, in _run_once\n\n  File \"/usr/lib/python3.10/asyncio/events.py\", line 80, in _run\n\n  File \"/usr/local/lib/python3.10/dist-packages/tornado/ioloop.py\", line 685, in <lambda>\n\n  File \"/usr/local/lib/python3.10/dist-packages/tornado/ioloop.py\", line 738, in _run_callback\n\n  File \"/usr/local/lib/python3.10/dist-packages/tornado/gen.py\", line 825, in inner\n\n  File \"/usr/local/lib/python3.10/dist-packages/tornado/gen.py\", line 786, in run\n\n  File \"/usr/local/lib/python3.10/dist-packages/ipykernel/kernelbase.py\", line 361, in process_one\n\n  File \"/usr/local/lib/python3.10/dist-packages/tornado/gen.py\", line 234, in wrapper\n\n  File \"/usr/local/lib/python3.10/dist-packages/ipykernel/kernelbase.py\", line 261, in dispatch_shell\n\n  File \"/usr/local/lib/python3.10/dist-packages/tornado/gen.py\", line 234, in wrapper\n\n  File \"/usr/local/lib/python3.10/dist-packages/ipykernel/kernelbase.py\", line 539, in execute_request\n\n  File \"/usr/local/lib/python3.10/dist-packages/tornado/gen.py\", line 234, in wrapper\n\n  File \"/usr/local/lib/python3.10/dist-packages/ipykernel/ipkernel.py\", line 302, in do_execute\n\n  File \"/usr/local/lib/python3.10/dist-packages/ipykernel/zmqshell.py\", line 539, in run_cell\n\n  File \"/usr/local/lib/python3.10/dist-packages/IPython/core/interactiveshell.py\", line 2975, in run_cell\n\n  File \"/usr/local/lib/python3.10/dist-packages/IPython/core/interactiveshell.py\", line 3030, in _run_cell\n\n  File \"/usr/local/lib/python3.10/dist-packages/IPython/core/async_helpers.py\", line 78, in _pseudo_sync_runner\n\n  File \"/usr/local/lib/python3.10/dist-packages/IPython/core/interactiveshell.py\", line 3257, in run_cell_async\n\n  File \"/usr/local/lib/python3.10/dist-packages/IPython/core/interactiveshell.py\", line 3473, in run_ast_nodes\n\n  File \"/usr/local/lib/python3.10/dist-packages/IPython/core/interactiveshell.py\", line 3553, in run_code\n\n  File \"<ipython-input-9-83b1936f97bb>\", line 18, in <cell line: 8>\n\n  File \"/usr/local/lib/python3.10/dist-packages/ktrain/core.py\", line 1051, in fit_onecycle\n\n  File \"/usr/local/lib/python3.10/dist-packages/ktrain/core.py\", line 1409, in fit\n\n  File \"/usr/local/lib/python3.10/dist-packages/keras/src/utils/traceback_utils.py\", line 65, in error_handler\n\n  File \"/usr/local/lib/python3.10/dist-packages/keras/src/engine/training.py\", line 1807, in fit\n\n  File \"/usr/local/lib/python3.10/dist-packages/keras/src/engine/training.py\", line 1401, in train_function\n\n  File \"/usr/local/lib/python3.10/dist-packages/keras/src/engine/training.py\", line 1384, in step_function\n\n  File \"/usr/local/lib/python3.10/dist-packages/keras/src/engine/training.py\", line 1373, in run_step\n\n  File \"/usr/local/lib/python3.10/dist-packages/keras/src/engine/training.py\", line 1150, in train_step\n\n  File \"/usr/local/lib/python3.10/dist-packages/keras/src/utils/traceback_utils.py\", line 65, in error_handler\n\n  File \"/usr/local/lib/python3.10/dist-packages/keras/src/engine/training.py\", line 590, in __call__\n\n  File \"/usr/local/lib/python3.10/dist-packages/keras/src/utils/traceback_utils.py\", line 65, in error_handler\n\n  File \"/usr/local/lib/python3.10/dist-packages/keras/src/engine/base_layer.py\", line 1149, in __call__\n\n  File \"/usr/local/lib/python3.10/dist-packages/keras/src/utils/traceback_utils.py\", line 96, in error_handler\n\n  File \"/usr/local/lib/python3.10/dist-packages/keras/src/engine/functional.py\", line 515, in call\n\n  File \"/usr/local/lib/python3.10/dist-packages/keras/src/engine/functional.py\", line 672, in _run_internal_graph\n\n  File \"/usr/local/lib/python3.10/dist-packages/keras/src/utils/traceback_utils.py\", line 65, in error_handler\n\n  File \"/usr/local/lib/python3.10/dist-packages/keras/src/engine/base_layer.py\", line 1149, in __call__\n\n  File \"/usr/local/lib/python3.10/dist-packages/keras/src/utils/traceback_utils.py\", line 96, in error_handler\n\n  File \"/usr/local/lib/python3.10/dist-packages/keras_multi_head/multi_head_attention.py\", line 210, in call\n\n  File \"/usr/local/lib/python3.10/dist-packages/keras_multi_head/multi_head_attention.py\", line 159, in _reshape_to_batches\n\n  File \"/usr/local/lib/python3.10/dist-packages/keras/src/backend.py\", line 3644, in permute_dimensions\n\nOOM when allocating tensor with shape[12,12,400,64] and type float on /job:localhost/replica:0/task:0/device:GPU:0 by allocator GPU_0_bfc\n\t [[{{node model_7/Encoder-10-MultiHeadSelfAttention/transpose_3}}]]\nHint: If you want to see a list of allocated tensors when OOM happens, add report_tensor_allocations_upon_oom to RunOptions for current allocation info. This isn't available when running in Eager mode.\n [Op:__inference_train_function_169986]",
          "traceback": [
            "\u001b[0;31m---------------------------------------------------------------------------\u001b[0m",
            "\u001b[0;31mResourceExhaustedError\u001b[0m                    Traceback (most recent call last)",
            "\u001b[0;32m<ipython-input-9-83b1936f97bb>\u001b[0m in \u001b[0;36m<cell line: 8>\u001b[0;34m()\u001b[0m\n\u001b[1;32m     16\u001b[0m \u001b[0;34m\u001b[0m\u001b[0m\n\u001b[1;32m     17\u001b[0m     \u001b[0;31m# Treinar o modelo\u001b[0m\u001b[0;34m\u001b[0m\u001b[0;34m\u001b[0m\u001b[0m\n\u001b[0;32m---> 18\u001b[0;31m     \u001b[0mhist\u001b[0m \u001b[0;34m=\u001b[0m \u001b[0mlearner\u001b[0m\u001b[0;34m.\u001b[0m\u001b[0mfit_onecycle\u001b[0m\u001b[0;34m(\u001b[0m\u001b[0;36m5e-5\u001b[0m\u001b[0;34m,\u001b[0m \u001b[0;36m4\u001b[0m\u001b[0;34m)\u001b[0m\u001b[0;34m\u001b[0m\u001b[0;34m\u001b[0m\u001b[0m\n\u001b[0m\u001b[1;32m     19\u001b[0m \u001b[0;34m\u001b[0m\u001b[0m\n\u001b[1;32m     20\u001b[0m     \u001b[0;31m# Armazenar o histórico de treinamento\u001b[0m\u001b[0;34m\u001b[0m\u001b[0;34m\u001b[0m\u001b[0m\n",
            "\u001b[0;32m/usr/local/lib/python3.10/dist-packages/ktrain/core.py\u001b[0m in \u001b[0;36mfit_onecycle\u001b[0;34m(self, lr, epochs, checkpoint_folder, cycle_momentum, max_momentum, min_momentum, class_weight, callbacks, steps_per_epoch, verbose)\u001b[0m\n\u001b[1;32m   1049\u001b[0m             \u001b[0mverbose\u001b[0m\u001b[0;34m=\u001b[0m\u001b[0mverbose\u001b[0m\u001b[0;34m,\u001b[0m\u001b[0;34m\u001b[0m\u001b[0;34m\u001b[0m\u001b[0m\n\u001b[1;32m   1050\u001b[0m         )\n\u001b[0;32m-> 1051\u001b[0;31m         hist = self.fit(\n\u001b[0m\u001b[1;32m   1052\u001b[0m             \u001b[0mlr\u001b[0m\u001b[0;34m,\u001b[0m\u001b[0;34m\u001b[0m\u001b[0;34m\u001b[0m\u001b[0m\n\u001b[1;32m   1053\u001b[0m             \u001b[0mepochs\u001b[0m\u001b[0;34m,\u001b[0m\u001b[0;34m\u001b[0m\u001b[0;34m\u001b[0m\u001b[0m\n",
            "\u001b[0;32m/usr/local/lib/python3.10/dist-packages/ktrain/core.py\u001b[0m in \u001b[0;36mfit\u001b[0;34m(self, lr, n_cycles, cycle_len, cycle_mult, lr_decay, checkpoint_folder, early_stopping, verbose, class_weight, callbacks, steps_per_epoch)\u001b[0m\n\u001b[1;32m   1407\u001b[0m         \u001b[0;32mwith\u001b[0m \u001b[0mwarnings\u001b[0m\u001b[0;34m.\u001b[0m\u001b[0mcatch_warnings\u001b[0m\u001b[0;34m(\u001b[0m\u001b[0;34m)\u001b[0m\u001b[0;34m:\u001b[0m\u001b[0;34m\u001b[0m\u001b[0;34m\u001b[0m\u001b[0m\n\u001b[1;32m   1408\u001b[0m             \u001b[0mwarnings\u001b[0m\u001b[0;34m.\u001b[0m\u001b[0mfilterwarnings\u001b[0m\u001b[0;34m(\u001b[0m\u001b[0;34m\"ignore\"\u001b[0m\u001b[0;34m,\u001b[0m \u001b[0mmessage\u001b[0m\u001b[0;34m=\u001b[0m\u001b[0;34m\".*Check your callbacks.*\"\u001b[0m\u001b[0;34m)\u001b[0m\u001b[0;34m\u001b[0m\u001b[0;34m\u001b[0m\u001b[0m\n\u001b[0;32m-> 1409\u001b[0;31m             hist = self.model.fit(\n\u001b[0m\u001b[1;32m   1410\u001b[0m                 \u001b[0mself\u001b[0m\u001b[0;34m.\u001b[0m\u001b[0m_prepare\u001b[0m\u001b[0;34m(\u001b[0m\u001b[0mx_train\u001b[0m\u001b[0;34m)\u001b[0m\u001b[0;34m,\u001b[0m\u001b[0;34m\u001b[0m\u001b[0;34m\u001b[0m\u001b[0m\n\u001b[1;32m   1411\u001b[0m                 \u001b[0mself\u001b[0m\u001b[0;34m.\u001b[0m\u001b[0m_prepare\u001b[0m\u001b[0;34m(\u001b[0m\u001b[0my_train\u001b[0m\u001b[0;34m,\u001b[0m \u001b[0mtrain\u001b[0m\u001b[0;34m=\u001b[0m\u001b[0;32mFalse\u001b[0m\u001b[0;34m)\u001b[0m\u001b[0;34m,\u001b[0m\u001b[0;34m\u001b[0m\u001b[0;34m\u001b[0m\u001b[0m\n",
            "\u001b[0;32m/usr/local/lib/python3.10/dist-packages/keras/src/utils/traceback_utils.py\u001b[0m in \u001b[0;36merror_handler\u001b[0;34m(*args, **kwargs)\u001b[0m\n\u001b[1;32m     68\u001b[0m             \u001b[0;31m# To get the full stack trace, call:\u001b[0m\u001b[0;34m\u001b[0m\u001b[0;34m\u001b[0m\u001b[0m\n\u001b[1;32m     69\u001b[0m             \u001b[0;31m# `tf.debugging.disable_traceback_filtering()`\u001b[0m\u001b[0;34m\u001b[0m\u001b[0;34m\u001b[0m\u001b[0m\n\u001b[0;32m---> 70\u001b[0;31m             \u001b[0;32mraise\u001b[0m \u001b[0me\u001b[0m\u001b[0;34m.\u001b[0m\u001b[0mwith_traceback\u001b[0m\u001b[0;34m(\u001b[0m\u001b[0mfiltered_tb\u001b[0m\u001b[0;34m)\u001b[0m \u001b[0;32mfrom\u001b[0m \u001b[0;32mNone\u001b[0m\u001b[0;34m\u001b[0m\u001b[0;34m\u001b[0m\u001b[0m\n\u001b[0m\u001b[1;32m     71\u001b[0m         \u001b[0;32mfinally\u001b[0m\u001b[0;34m:\u001b[0m\u001b[0;34m\u001b[0m\u001b[0;34m\u001b[0m\u001b[0m\n\u001b[1;32m     72\u001b[0m             \u001b[0;32mdel\u001b[0m \u001b[0mfiltered_tb\u001b[0m\u001b[0;34m\u001b[0m\u001b[0;34m\u001b[0m\u001b[0m\n",
            "\u001b[0;32m/usr/local/lib/python3.10/dist-packages/tensorflow/python/eager/execute.py\u001b[0m in \u001b[0;36mquick_execute\u001b[0;34m(op_name, num_outputs, inputs, attrs, ctx, name)\u001b[0m\n\u001b[1;32m     51\u001b[0m   \u001b[0;32mtry\u001b[0m\u001b[0;34m:\u001b[0m\u001b[0;34m\u001b[0m\u001b[0;34m\u001b[0m\u001b[0m\n\u001b[1;32m     52\u001b[0m     \u001b[0mctx\u001b[0m\u001b[0;34m.\u001b[0m\u001b[0mensure_initialized\u001b[0m\u001b[0;34m(\u001b[0m\u001b[0;34m)\u001b[0m\u001b[0;34m\u001b[0m\u001b[0;34m\u001b[0m\u001b[0m\n\u001b[0;32m---> 53\u001b[0;31m     tensors = pywrap_tfe.TFE_Py_Execute(ctx._handle, device_name, op_name,\n\u001b[0m\u001b[1;32m     54\u001b[0m                                         inputs, attrs, num_outputs)\n\u001b[1;32m     55\u001b[0m   \u001b[0;32mexcept\u001b[0m \u001b[0mcore\u001b[0m\u001b[0;34m.\u001b[0m\u001b[0m_NotOkStatusException\u001b[0m \u001b[0;32mas\u001b[0m \u001b[0me\u001b[0m\u001b[0;34m:\u001b[0m\u001b[0;34m\u001b[0m\u001b[0;34m\u001b[0m\u001b[0m\n",
            "\u001b[0;31mResourceExhaustedError\u001b[0m: Graph execution error:\n\nDetected at node model_7/Encoder-10-MultiHeadSelfAttention/transpose_3 defined at (most recent call last):\n  File \"/usr/lib/python3.10/runpy.py\", line 196, in _run_module_as_main\n\n  File \"/usr/lib/python3.10/runpy.py\", line 86, in _run_code\n\n  File \"/usr/local/lib/python3.10/dist-packages/colab_kernel_launcher.py\", line 37, in <module>\n\n  File \"/usr/local/lib/python3.10/dist-packages/traitlets/config/application.py\", line 992, in launch_instance\n\n  File \"/usr/local/lib/python3.10/dist-packages/ipykernel/kernelapp.py\", line 619, in start\n\n  File \"/usr/local/lib/python3.10/dist-packages/tornado/platform/asyncio.py\", line 195, in start\n\n  File \"/usr/lib/python3.10/asyncio/base_events.py\", line 603, in run_forever\n\n  File \"/usr/lib/python3.10/asyncio/base_events.py\", line 1909, in _run_once\n\n  File \"/usr/lib/python3.10/asyncio/events.py\", line 80, in _run\n\n  File \"/usr/local/lib/python3.10/dist-packages/tornado/ioloop.py\", line 685, in <lambda>\n\n  File \"/usr/local/lib/python3.10/dist-packages/tornado/ioloop.py\", line 738, in _run_callback\n\n  File \"/usr/local/lib/python3.10/dist-packages/tornado/gen.py\", line 825, in inner\n\n  File \"/usr/local/lib/python3.10/dist-packages/tornado/gen.py\", line 786, in run\n\n  File \"/usr/local/lib/python3.10/dist-packages/ipykernel/kernelbase.py\", line 361, in process_one\n\n  File \"/usr/local/lib/python3.10/dist-packages/tornado/gen.py\", line 234, in wrapper\n\n  File \"/usr/local/lib/python3.10/dist-packages/ipykernel/kernelbase.py\", line 261, in dispatch_shell\n\n  File \"/usr/local/lib/python3.10/dist-packages/tornado/gen.py\", line 234, in wrapper\n\n  File \"/usr/local/lib/python3.10/dist-packages/ipykernel/kernelbase.py\", line 539, in execute_request\n\n  File \"/usr/local/lib/python3.10/dist-packages/tornado/gen.py\", line 234, in wrapper\n\n  File \"/usr/local/lib/python3.10/dist-packages/ipykernel/ipkernel.py\", line 302, in do_execute\n\n  File \"/usr/local/lib/python3.10/dist-packages/ipykernel/zmqshell.py\", line 539, in run_cell\n\n  File \"/usr/local/lib/python3.10/dist-packages/IPython/core/interactiveshell.py\", line 2975, in run_cell\n\n  File \"/usr/local/lib/python3.10/dist-packages/IPython/core/interactiveshell.py\", line 3030, in _run_cell\n\n  File \"/usr/local/lib/python3.10/dist-packages/IPython/core/async_helpers.py\", line 78, in _pseudo_sync_runner\n\n  File \"/usr/local/lib/python3.10/dist-packages/IPython/core/interactiveshell.py\", line 3257, in run_cell_async\n\n  File \"/usr/local/lib/python3.10/dist-packages/IPython/core/interactiveshell.py\", line 3473, in run_ast_nodes\n\n  File \"/usr/local/lib/python3.10/dist-packages/IPython/core/interactiveshell.py\", line 3553, in run_code\n\n  File \"<ipython-input-9-83b1936f97bb>\", line 18, in <cell line: 8>\n\n  File \"/usr/local/lib/python3.10/dist-packages/ktrain/core.py\", line 1051, in fit_onecycle\n\n  File \"/usr/local/lib/python3.10/dist-packages/ktrain/core.py\", line 1409, in fit\n\n  File \"/usr/local/lib/python3.10/dist-packages/keras/src/utils/traceback_utils.py\", line 65, in error_handler\n\n  File \"/usr/local/lib/python3.10/dist-packages/keras/src/engine/training.py\", line 1807, in fit\n\n  File \"/usr/local/lib/python3.10/dist-packages/keras/src/engine/training.py\", line 1401, in train_function\n\n  File \"/usr/local/lib/python3.10/dist-packages/keras/src/engine/training.py\", line 1384, in step_function\n\n  File \"/usr/local/lib/python3.10/dist-packages/keras/src/engine/training.py\", line 1373, in run_step\n\n  File \"/usr/local/lib/python3.10/dist-packages/keras/src/engine/training.py\", line 1150, in train_step\n\n  File \"/usr/local/lib/python3.10/dist-packages/keras/src/utils/traceback_utils.py\", line 65, in error_handler\n\n  File \"/usr/local/lib/python3.10/dist-packages/keras/src/engine/training.py\", line 590, in __call__\n\n  File \"/usr/local/lib/python3.10/dist-packages/keras/src/utils/traceback_utils.py\", line 65, in error_handler\n\n  File \"/usr/local/lib/python3.10/dist-packages/keras/src/engine/base_layer.py\", line 1149, in __call__\n\n  File \"/usr/local/lib/python3.10/dist-packages/keras/src/utils/traceback_utils.py\", line 96, in error_handler\n\n  File \"/usr/local/lib/python3.10/dist-packages/keras/src/engine/functional.py\", line 515, in call\n\n  File \"/usr/local/lib/python3.10/dist-packages/keras/src/engine/functional.py\", line 672, in _run_internal_graph\n\n  File \"/usr/local/lib/python3.10/dist-packages/keras/src/utils/traceback_utils.py\", line 65, in error_handler\n\n  File \"/usr/local/lib/python3.10/dist-packages/keras/src/engine/base_layer.py\", line 1149, in __call__\n\n  File \"/usr/local/lib/python3.10/dist-packages/keras/src/utils/traceback_utils.py\", line 96, in error_handler\n\n  File \"/usr/local/lib/python3.10/dist-packages/keras_multi_head/multi_head_attention.py\", line 210, in call\n\n  File \"/usr/local/lib/python3.10/dist-packages/keras_multi_head/multi_head_attention.py\", line 159, in _reshape_to_batches\n\n  File \"/usr/local/lib/python3.10/dist-packages/keras/src/backend.py\", line 3644, in permute_dimensions\n\nOOM when allocating tensor with shape[12,12,400,64] and type float on /job:localhost/replica:0/task:0/device:GPU:0 by allocator GPU_0_bfc\n\t [[{{node model_7/Encoder-10-MultiHeadSelfAttention/transpose_3}}]]\nHint: If you want to see a list of allocated tensors when OOM happens, add report_tensor_allocations_upon_oom to RunOptions for current allocation info. This isn't available when running in Eager mode.\n [Op:__inference_train_function_169986]"
          ]
        }
      ],
      "source": [
        "batch_sizes = [4, 6, 8, 12]\n",
        "\n",
        "import matplotlib as plt\n",
        "\n",
        "# Armazenar históricos de treinamento para cada tamanho de lote\n",
        "histories = []\n",
        "\n",
        "for batch_size in batch_sizes:\n",
        "    print(f\"Treinando com batch size {batch_size}...\")\n",
        "\n",
        "    # Carregar modelo BERT para classificação de texto\n",
        "    model = text.text_classifier('bert', trn, preproc=preproc)\n",
        "\n",
        "    # Criar o objeto learner\n",
        "    learner = ktrain.get_learner(model, train_data=trn, val_data=val, batch_size=batch_size)\n",
        "\n",
        "    # Treinar o modelo\n",
        "    hist = learner.fit_onecycle(5e-5, 4)\n",
        "\n",
        "    # Armazenar o histórico de treinamento\n",
        "    histories.append(hist)"
      ]
    },
    {
      "cell_type": "markdown",
      "source": [
        "## fastText"
      ],
      "metadata": {
        "id": "AsGUycOFEZ-o"
      }
    },
    {
      "cell_type": "markdown",
      "metadata": {
        "id": "G4sGPJgOcBTd"
      },
      "source": [
        "### Preprocessar por fasttext"
      ]
    },
    {
      "cell_type": "code",
      "source": [
        "import ktrain\n",
        "from ktrain import text\n",
        "\n",
        "# Carregar os dados\n",
        "trn, val, preproc = text.texts_from_array(x_train=x_train, y_train=y_train,\n",
        "                                          x_test=x_test, y_test=y_test,\n",
        "                                          class_names=['0', '1'],\n",
        "                                          preprocess_mode='standard')\n",
        "\n",
        "\n",
        "# Imprimir formas das variáveis para verificação\n",
        "print(f'trn: {len(x_train)}, {len(y_train)}')\n",
        "print(f'val: {len(x_test)}, {len(y_test)}')\n",
        "print(preproc)"
      ],
      "metadata": {
        "colab": {
          "base_uri": "https://localhost:8080/"
        },
        "id": "YeSKiTGo-884",
        "outputId": "cd7fb07a-0b2e-433a-fc03-7521874d0f78"
      },
      "execution_count": 4,
      "outputs": [
        {
          "output_type": "stream",
          "name": "stdout",
          "text": [
            "language: en\n",
            "Word Counts: 990\n",
            "Nrows: 108\n",
            "108 train sequences\n",
            "train sequence lengths:\n",
            "\tmean : 117\n",
            "\t95percentile : 224\n",
            "\t99percentile : 322\n",
            "x_train shape: (108,400)\n",
            "y_train shape: (108, 2)\n",
            "Is Multi-Label? False\n",
            "48 test sequences\n",
            "test sequence lengths:\n",
            "\tmean : 118\n",
            "\t95percentile : 211\n",
            "\t99percentile : 402\n",
            "x_test shape: (48,400)\n",
            "y_test shape: (48, 2)\n",
            "task: text classification\n",
            "trn: 108, 108\n",
            "val: 48, 48\n",
            "<ktrain.text.preprocessor.StandardTextPreprocessor object at 0x7c3af4e2f730>\n"
          ]
        }
      ]
    },
    {
      "cell_type": "markdown",
      "source": [
        "### Escolher batch_sizes = [4, 6, 8, 12]"
      ],
      "metadata": {
        "id": "O6tKE3hRciFn"
      }
    },
    {
      "cell_type": "code",
      "source": [
        "batch_sizes = [4, 6, 8, 12]\n",
        "\n",
        "# Armazenar históricos de treinamento para cada tamanho de lote\n",
        "histories = []\n",
        "\n",
        "for batch_size in batch_sizes:\n",
        "    print(f\"Treinando com batch size {batch_size}...\")\n",
        "\n",
        "    # Carregar modelo BERT para classificação de texto\n",
        "    model = text.text_classifier('fasttext', trn, preproc=preproc)\n",
        "\n",
        "    # Criar o objeto learner\n",
        "    learner = ktrain.get_learner(model, train_data=trn, val_data=val, batch_size=batch_size)\n",
        "\n",
        "    # Treinar o modelo\n",
        "    hist = learner.fit_onecycle(1e-3, 4)\n",
        "\n",
        "    # Armazenar o histórico de treinamento\n",
        "    histories.append(hist)"
      ],
      "metadata": {
        "colab": {
          "base_uri": "https://localhost:8080/"
        },
        "id": "SWYkwrfbchzH",
        "outputId": "c7eec884-7d97-4fd7-baf1-d9384f44ae75"
      },
      "execution_count": 7,
      "outputs": [
        {
          "output_type": "stream",
          "name": "stdout",
          "text": [
            "Treinando com batch size 4...\n",
            "Is Multi-Label? False\n",
            "compiling word ID features...\n",
            "maxlen is 400\n",
            "done.\n",
            "\n",
            "\n",
            "begin training using onecycle policy with max lr of 0.001...\n",
            "Epoch 1/4\n",
            "27/27 [==============================] - 1s 19ms/step - loss: 0.8976 - accuracy: 0.5463 - val_loss: 0.6944 - val_accuracy: 0.5000\n",
            "Epoch 2/4\n",
            "27/27 [==============================] - 0s 11ms/step - loss: 0.8225 - accuracy: 0.5741 - val_loss: 0.6875 - val_accuracy: 0.6042\n",
            "Epoch 3/4\n",
            "27/27 [==============================] - 0s 11ms/step - loss: 0.8287 - accuracy: 0.6296 - val_loss: 0.6881 - val_accuracy: 0.5625\n",
            "Epoch 4/4\n",
            "27/27 [==============================] - 0s 10ms/step - loss: 0.6928 - accuracy: 0.7037 - val_loss: 0.6872 - val_accuracy: 0.6042\n",
            "Treinando com batch size 6...\n",
            "Is Multi-Label? False\n",
            "compiling word ID features...\n",
            "maxlen is 400\n",
            "done.\n",
            "\n",
            "\n",
            "begin training using onecycle policy with max lr of 0.001...\n",
            "Epoch 1/4\n",
            "18/18 [==============================] - 1s 28ms/step - loss: 0.7799 - accuracy: 0.5833 - val_loss: 0.6912 - val_accuracy: 0.5000\n",
            "Epoch 2/4\n",
            "18/18 [==============================] - 0s 12ms/step - loss: 0.9532 - accuracy: 0.5648 - val_loss: 0.6867 - val_accuracy: 0.5000\n",
            "Epoch 3/4\n",
            "18/18 [==============================] - 0s 10ms/step - loss: 0.9252 - accuracy: 0.5000 - val_loss: 0.6875 - val_accuracy: 0.5000\n",
            "Epoch 4/4\n",
            "18/18 [==============================] - 0s 11ms/step - loss: 0.8332 - accuracy: 0.5556 - val_loss: 0.6841 - val_accuracy: 0.5000\n",
            "Treinando com batch size 8...\n",
            "Is Multi-Label? False\n",
            "compiling word ID features...\n",
            "maxlen is 400\n",
            "done.\n",
            "\n",
            "\n",
            "begin training using onecycle policy with max lr of 0.001...\n",
            "Epoch 1/4\n",
            "14/14 [==============================] - 1s 20ms/step - loss: 0.9223 - accuracy: 0.5556 - val_loss: 0.6945 - val_accuracy: 0.5000\n",
            "Epoch 2/4\n",
            "14/14 [==============================] - 0s 9ms/step - loss: 0.8515 - accuracy: 0.5556 - val_loss: 0.6941 - val_accuracy: 0.5000\n",
            "Epoch 3/4\n",
            "14/14 [==============================] - 0s 9ms/step - loss: 0.7021 - accuracy: 0.6296 - val_loss: 0.6908 - val_accuracy: 0.5000\n",
            "Epoch 4/4\n",
            "14/14 [==============================] - 0s 8ms/step - loss: 0.6203 - accuracy: 0.7130 - val_loss: 0.6895 - val_accuracy: 0.5000\n",
            "Treinando com batch size 12...\n",
            "Is Multi-Label? False\n",
            "compiling word ID features...\n",
            "maxlen is 400\n",
            "done.\n",
            "\n",
            "\n",
            "begin training using onecycle policy with max lr of 0.001...\n",
            "Epoch 1/4\n",
            "9/9 [==============================] - 2s 41ms/step - loss: 1.0143 - accuracy: 0.4167 - val_loss: 0.6924 - val_accuracy: 0.5000\n",
            "Epoch 2/4\n",
            "9/9 [==============================] - 0s 19ms/step - loss: 0.8437 - accuracy: 0.4630 - val_loss: 0.6912 - val_accuracy: 0.5000\n",
            "Epoch 3/4\n",
            "9/9 [==============================] - 0s 16ms/step - loss: 0.8608 - accuracy: 0.5185 - val_loss: 0.6894 - val_accuracy: 0.5000\n",
            "Epoch 4/4\n",
            "9/9 [==============================] - 0s 18ms/step - loss: 0.6499 - accuracy: 0.6296 - val_loss: 0.6888 - val_accuracy: 0.5000\n"
          ]
        }
      ]
    },
    {
      "cell_type": "markdown",
      "source": [
        "## NBSVM"
      ],
      "metadata": {
        "id": "t7glvsIYEIqJ"
      }
    },
    {
      "cell_type": "code",
      "source": [
        "import ktrain\n",
        "from ktrain import text\n",
        "\n",
        "# Carregar os dados\n",
        "trn, val, preproc = text.texts_from_array(x_train=x_train, y_train=y_train,\n",
        "                                          x_test=x_test, y_test=y_test,\n",
        "                                          class_names=['0', '1'],\n",
        "                                          preprocess_mode='standard')\n",
        "\n",
        "\n",
        "# Imprimir formas das variáveis para verificação\n",
        "print(f'trn: {len(x_train)}, {len(y_train)}')\n",
        "print(f'val: {len(x_test)}, {len(y_test)}')\n",
        "print(preproc)"
      ],
      "metadata": {
        "colab": {
          "base_uri": "https://localhost:8080/"
        },
        "id": "PA1p8Y9NEIVO",
        "outputId": "8276ec91-245d-4ba7-9071-e68f5edd6031"
      },
      "execution_count": 13,
      "outputs": [
        {
          "output_type": "stream",
          "name": "stdout",
          "text": [
            "language: en\n",
            "Word Counts: 990\n",
            "Nrows: 108\n",
            "108 train sequences\n",
            "train sequence lengths:\n",
            "\tmean : 117\n",
            "\t95percentile : 224\n",
            "\t99percentile : 322\n",
            "x_train shape: (108,400)\n",
            "y_train shape: (108, 2)\n",
            "Is Multi-Label? False\n",
            "48 test sequences\n",
            "test sequence lengths:\n",
            "\tmean : 118\n",
            "\t95percentile : 211\n",
            "\t99percentile : 402\n",
            "x_test shape: (48,400)\n",
            "y_test shape: (48, 2)\n",
            "task: text classification\n",
            "trn: 108, 108\n",
            "val: 48, 48\n",
            "<ktrain.text.preprocessor.StandardTextPreprocessor object at 0x7c396c8e1120>\n"
          ]
        }
      ]
    },
    {
      "cell_type": "code",
      "source": [
        "batch_sizes = [4, 6, 8, 12]\n",
        "\n",
        "# Armazenar históricos de treinamento para cada tamanho de lote\n",
        "histories = []\n",
        "\n",
        "for batch_size in batch_sizes:\n",
        "    print(f\"Treinando com batch size {batch_size}...\")\n",
        "\n",
        "    # Carregar modelo BERT para classificação de texto\n",
        "    model = text.text_classifier('nbsvm', trn, preproc=preproc)\n",
        "\n",
        "    # Criar o objeto learner\n",
        "    learner = ktrain.get_learner(model, train_data=trn, val_data=val, batch_size=batch_size)\n",
        "\n",
        "    # Treinar o modelo\n",
        "    hist = learner.fit_onecycle(1e-3, 4)\n",
        "\n",
        "    # Armazenar o histórico de treinamento\n",
        "    histories.append(hist)"
      ],
      "metadata": {
        "colab": {
          "base_uri": "https://localhost:8080/"
        },
        "id": "sfTzx2zvFFyL",
        "outputId": "24d36d14-590c-496b-ac16-1c8b73ca97ab"
      },
      "execution_count": 17,
      "outputs": [
        {
          "output_type": "stream",
          "name": "stdout",
          "text": [
            "Treinando com batch size 4...\n",
            "Is Multi-Label? False\n",
            "compiling word ID features...\n",
            "maxlen is 400\n",
            "building document-term matrix... this may take a few moments...\n",
            "rows: 1-108\n",
            "computing log-count ratios...\n",
            "done.\n",
            "\n",
            "\n",
            "begin training using onecycle policy with max lr of 0.001...\n",
            "Epoch 1/4\n",
            "27/27 [==============================] - 2s 25ms/step - loss: 0.8411 - accuracy: 0.4630 - val_loss: 0.6056 - val_accuracy: 0.7292\n",
            "Epoch 2/4\n",
            "27/27 [==============================] - 0s 18ms/step - loss: 0.4081 - accuracy: 0.8519 - val_loss: 0.4637 - val_accuracy: 0.7917\n",
            "Epoch 3/4\n",
            "27/27 [==============================] - 0s 16ms/step - loss: 0.2349 - accuracy: 0.9352 - val_loss: 0.4597 - val_accuracy: 0.7917\n",
            "Epoch 4/4\n",
            "27/27 [==============================] - 0s 17ms/step - loss: 0.1912 - accuracy: 0.9630 - val_loss: 0.4496 - val_accuracy: 0.7917\n",
            "Treinando com batch size 6...\n",
            "Is Multi-Label? False\n",
            "compiling word ID features...\n",
            "maxlen is 400\n",
            "building document-term matrix... this may take a few moments...\n",
            "rows: 1-108\n",
            "computing log-count ratios...\n",
            "done.\n",
            "\n",
            "\n",
            "begin training using onecycle policy with max lr of 0.001...\n",
            "Epoch 1/4\n",
            "18/18 [==============================] - 1s 23ms/step - loss: 0.8368 - accuracy: 0.5000 - val_loss: 0.6191 - val_accuracy: 0.7292\n",
            "Epoch 2/4\n",
            "18/18 [==============================] - 0s 12ms/step - loss: 0.4346 - accuracy: 0.8056 - val_loss: 0.4193 - val_accuracy: 0.8125\n",
            "Epoch 3/4\n",
            "18/18 [==============================] - 0s 12ms/step - loss: 0.2504 - accuracy: 0.9352 - val_loss: 0.4016 - val_accuracy: 0.8333\n",
            "Epoch 4/4\n",
            "18/18 [==============================] - 0s 11ms/step - loss: 0.2017 - accuracy: 0.9722 - val_loss: 0.3994 - val_accuracy: 0.8542\n",
            "Treinando com batch size 8...\n",
            "Is Multi-Label? False\n",
            "compiling word ID features...\n",
            "maxlen is 400\n",
            "building document-term matrix... this may take a few moments...\n",
            "rows: 1-108\n",
            "computing log-count ratios...\n",
            "done.\n",
            "\n",
            "\n",
            "begin training using onecycle policy with max lr of 0.001...\n",
            "Epoch 1/4\n",
            "14/14 [==============================] - 1s 25ms/step - loss: 0.4691 - accuracy: 0.7870 - val_loss: 0.4444 - val_accuracy: 0.7708\n",
            "Epoch 2/4\n",
            "14/14 [==============================] - 0s 10ms/step - loss: 0.2982 - accuracy: 0.9352 - val_loss: 0.4123 - val_accuracy: 0.7917\n",
            "Epoch 3/4\n",
            "14/14 [==============================] - 0s 12ms/step - loss: 0.1841 - accuracy: 0.9630 - val_loss: 0.4233 - val_accuracy: 0.7708\n",
            "Epoch 4/4\n",
            "14/14 [==============================] - 0s 19ms/step - loss: 0.1456 - accuracy: 0.9722 - val_loss: 0.4217 - val_accuracy: 0.7708\n",
            "Treinando com batch size 12...\n",
            "Is Multi-Label? False\n",
            "compiling word ID features...\n",
            "maxlen is 400\n",
            "building document-term matrix... this may take a few moments...\n",
            "rows: 1-108\n",
            "computing log-count ratios...\n",
            "done.\n",
            "\n",
            "\n",
            "begin training using onecycle policy with max lr of 0.001...\n",
            "Epoch 1/4\n",
            "9/9 [==============================] - 1s 34ms/step - loss: 0.6392 - accuracy: 0.6389 - val_loss: 0.5281 - val_accuracy: 0.6875\n",
            "Epoch 2/4\n",
            "9/9 [==============================] - 0s 11ms/step - loss: 0.4319 - accuracy: 0.8148 - val_loss: 0.4599 - val_accuracy: 0.8125\n",
            "Epoch 3/4\n",
            "9/9 [==============================] - 0s 16ms/step - loss: 0.2542 - accuracy: 0.9259 - val_loss: 0.4524 - val_accuracy: 0.8333\n",
            "Epoch 4/4\n",
            "9/9 [==============================] - 0s 11ms/step - loss: 0.1982 - accuracy: 0.9537 - val_loss: 0.4542 - val_accuracy: 0.8333\n"
          ]
        }
      ]
    },
    {
      "cell_type": "markdown",
      "source": [
        "## logreg"
      ],
      "metadata": {
        "id": "jAOXwgPkHDME"
      }
    },
    {
      "cell_type": "code",
      "source": [
        "import ktrain\n",
        "from ktrain import text\n",
        "\n",
        "# Carregar os dados\n",
        "trn, val, preproc = text.texts_from_array(x_train=x_train, y_train=y_train,\n",
        "                                          x_test=x_test, y_test=y_test,\n",
        "                                          class_names=['0', '1'],\n",
        "                                          preprocess_mode='standard')\n",
        "\n",
        "\n",
        "# Imprimir formas das variáveis para verificação\n",
        "print(f'trn: {len(x_train)}, {len(y_train)}')\n",
        "print(f'val: {len(x_test)}, {len(y_test)}')\n",
        "print(preproc)"
      ],
      "metadata": {
        "colab": {
          "base_uri": "https://localhost:8080/"
        },
        "id": "5pSlgtHCHG36",
        "outputId": "02c50ab3-be94-4d58-df6d-155623f56def"
      },
      "execution_count": 19,
      "outputs": [
        {
          "output_type": "stream",
          "name": "stdout",
          "text": [
            "language: en\n",
            "Word Counts: 990\n",
            "Nrows: 108\n",
            "108 train sequences\n",
            "train sequence lengths:\n",
            "\tmean : 117\n",
            "\t95percentile : 224\n",
            "\t99percentile : 322\n",
            "x_train shape: (108,400)\n",
            "y_train shape: (108, 2)\n",
            "Is Multi-Label? False\n",
            "48 test sequences\n",
            "test sequence lengths:\n",
            "\tmean : 118\n",
            "\t95percentile : 211\n",
            "\t99percentile : 402\n",
            "x_test shape: (48,400)\n",
            "y_test shape: (48, 2)\n",
            "task: text classification\n",
            "trn: 108, 108\n",
            "val: 48, 48\n",
            "<ktrain.text.preprocessor.StandardTextPreprocessor object at 0x7c3952ecb370>\n"
          ]
        }
      ]
    },
    {
      "cell_type": "code",
      "source": [
        "batch_sizes = [4, 6, 8, 12]\n",
        "\n",
        "# Armazenar históricos de treinamento para cada tamanho de lote\n",
        "histories = []\n",
        "\n",
        "for batch_size in batch_sizes:\n",
        "    print(f\"Treinando com batch size {batch_size}...\")\n",
        "\n",
        "    # Carregar modelo BERT para classificação de texto\n",
        "    model = text.text_classifier('logreg', trn, preproc=preproc)\n",
        "\n",
        "    # Criar o objeto learner\n",
        "    learner = ktrain.get_learner(model, train_data=trn, val_data=val, batch_size=batch_size)\n",
        "\n",
        "    # Treinar o modelo\n",
        "    hist = learner.fit_onecycle(1e-3, 4)\n",
        "\n",
        "    # Armazenar o histórico de treinamento\n",
        "    histories.append(hist)"
      ],
      "metadata": {
        "colab": {
          "base_uri": "https://localhost:8080/"
        },
        "id": "cHSnZ8axHH4Q",
        "outputId": "dcfb7f16-6d01-4491-d1d2-a466fae5dc06"
      },
      "execution_count": 23,
      "outputs": [
        {
          "output_type": "stream",
          "name": "stdout",
          "text": [
            "Treinando com batch size 4...\n",
            "Is Multi-Label? False\n",
            "compiling word ID features...\n",
            "maxlen is 400\n",
            "done.\n",
            "\n",
            "\n",
            "begin training using onecycle policy with max lr of 0.001...\n",
            "Epoch 1/4\n",
            "27/27 [==============================] - 1s 16ms/step - loss: 0.6302 - accuracy: 0.6574 - val_loss: 0.5247 - val_accuracy: 0.7292\n",
            "Epoch 2/4\n",
            "27/27 [==============================] - 0s 9ms/step - loss: 0.3218 - accuracy: 0.9259 - val_loss: 0.4449 - val_accuracy: 0.8333\n",
            "Epoch 3/4\n",
            "27/27 [==============================] - 0s 8ms/step - loss: 0.2143 - accuracy: 0.9630 - val_loss: 0.4514 - val_accuracy: 0.7708\n",
            "Epoch 4/4\n",
            "27/27 [==============================] - 0s 10ms/step - loss: 0.1588 - accuracy: 0.9722 - val_loss: 0.4327 - val_accuracy: 0.8125\n",
            "Treinando com batch size 6...\n",
            "Is Multi-Label? False\n",
            "compiling word ID features...\n",
            "maxlen is 400\n",
            "done.\n",
            "\n",
            "\n",
            "begin training using onecycle policy with max lr of 0.001...\n",
            "Epoch 1/4\n",
            "18/18 [==============================] - 1s 25ms/step - loss: 0.6669 - accuracy: 0.5926 - val_loss: 0.5999 - val_accuracy: 0.5833\n",
            "Epoch 2/4\n",
            "18/18 [==============================] - 0s 12ms/step - loss: 0.4136 - accuracy: 0.8333 - val_loss: 0.4767 - val_accuracy: 0.7500\n",
            "Epoch 3/4\n",
            "18/18 [==============================] - 0s 12ms/step - loss: 0.2404 - accuracy: 0.9259 - val_loss: 0.4336 - val_accuracy: 0.7917\n",
            "Epoch 4/4\n",
            "18/18 [==============================] - 0s 11ms/step - loss: 0.1637 - accuracy: 0.9815 - val_loss: 0.4315 - val_accuracy: 0.8125\n",
            "Treinando com batch size 8...\n",
            "Is Multi-Label? False\n",
            "compiling word ID features...\n",
            "maxlen is 400\n",
            "done.\n",
            "\n",
            "\n",
            "begin training using onecycle policy with max lr of 0.001...\n",
            "Epoch 1/4\n",
            "14/14 [==============================] - 1s 26ms/step - loss: 0.6537 - accuracy: 0.6481 - val_loss: 0.5437 - val_accuracy: 0.7500\n",
            "Epoch 2/4\n",
            "14/14 [==============================] - 0s 14ms/step - loss: 0.3855 - accuracy: 0.8981 - val_loss: 0.4476 - val_accuracy: 0.7708\n",
            "Epoch 3/4\n",
            "14/14 [==============================] - 0s 7ms/step - loss: 0.2178 - accuracy: 0.9630 - val_loss: 0.4252 - val_accuracy: 0.7917\n",
            "Epoch 4/4\n",
            "14/14 [==============================] - 0s 7ms/step - loss: 0.1656 - accuracy: 0.9722 - val_loss: 0.4199 - val_accuracy: 0.8125\n",
            "Treinando com batch size 12...\n",
            "Is Multi-Label? False\n",
            "compiling word ID features...\n",
            "maxlen is 400\n",
            "done.\n",
            "\n",
            "\n",
            "begin training using onecycle policy with max lr of 0.001...\n",
            "Epoch 1/4\n",
            "9/9 [==============================] - 1s 25ms/step - loss: 0.6567 - accuracy: 0.6111 - val_loss: 0.5882 - val_accuracy: 0.8125\n",
            "Epoch 2/4\n",
            "9/9 [==============================] - 0s 7ms/step - loss: 0.4330 - accuracy: 0.8981 - val_loss: 0.4780 - val_accuracy: 0.7917\n",
            "Epoch 3/4\n",
            "9/9 [==============================] - 0s 7ms/step - loss: 0.2443 - accuracy: 0.9444 - val_loss: 0.4307 - val_accuracy: 0.7917\n",
            "Epoch 4/4\n",
            "9/9 [==============================] - 0s 7ms/step - loss: 0.1824 - accuracy: 0.9722 - val_loss: 0.4237 - val_accuracy: 0.8125\n"
          ]
        }
      ]
    }
  ],
  "metadata": {
    "accelerator": "GPU",
    "colab": {
      "provenance": [],
      "collapsed_sections": [
        "DgfHNcOPbOk3",
        "Cdk5lPu3bxze",
        "u0h-z5FeERDf",
        "BenxCh2B8zJt",
        "rp7cIEWzIF_s",
        "AsGUycOFEZ-o",
        "G4sGPJgOcBTd",
        "O6tKE3hRciFn",
        "t7glvsIYEIqJ",
        "jAOXwgPkHDME"
      ]
    },
    "kernelspec": {
      "display_name": "Python 3",
      "name": "python3"
    }
  },
  "nbformat": 4,
  "nbformat_minor": 0
}